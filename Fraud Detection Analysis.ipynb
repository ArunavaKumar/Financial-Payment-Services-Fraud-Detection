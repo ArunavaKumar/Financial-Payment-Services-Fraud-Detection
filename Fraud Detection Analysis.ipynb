{
 "cells": [
  {
   "cell_type": "markdown",
   "id": "d96d0f76",
   "metadata": {
    "papermill": {
     "duration": 0.018886,
     "end_time": "2022-09-08T14:28:54.027588",
     "exception": false,
     "start_time": "2022-09-08T14:28:54.008702",
     "status": "completed"
    },
    "tags": []
   },
   "source": [
    "## Financial Payment Services Fraud Detection Analysis\n",
    "\n",
    "### Data Science & Machine Learning\n",
    "\n",
    "#### Arunava Kumar Chakraborty\n",
    "\n",
    "This notebook represents a Machine Learning-based predictive approach to explore the given **Fraud** dataset. The Dataset has been uploaded in my [Kaggle repository](www.kaggle.com/arunavakrchakraborty/financial-payment-services-fraud-data).\n",
    "\n",
    "I have Proposed an experimental approach to develop a Fraud detection model to predict future Fraud customers based on the related features. The best feature variables will be selected on the basis of their linear relationships. Furthermore, the **Logistic Regression** classifier will be developed to build the predictive system.\n",
    "\n",
    "The classifier will be trained using the training data to predict the fraud cases from the validation data to identify the fraudulent customer."
   ]
  },
  {
   "cell_type": "markdown",
   "id": "f79d2273",
   "metadata": {
    "papermill": {
     "duration": 0.016859,
     "end_time": "2022-09-08T14:28:54.061656",
     "exception": false,
     "start_time": "2022-09-08T14:28:54.044797",
     "status": "completed"
    },
    "tags": []
   },
   "source": [
    "## 1. Importing Packages\n",
    "Here, required Python packages have been imported for the analysis.\n",
    "\n",
    "- The **pandas**, **numpy** packages are required for basic analysis.\n",
    "- The **matplotlib**, **seaborn** packages are used for visualization purpose.\n",
    "- The **statsmodels** package is required to perform the statistical analysis of the data.\n",
    "- The **sklearn** package is used for importing machine learning models for classification."
   ]
  },
  {
   "cell_type": "code",
   "execution_count": 1,
   "id": "552b7d5f",
   "metadata": {
    "execution": {
     "iopub.execute_input": "2022-09-08T14:28:54.096686Z",
     "iopub.status.busy": "2022-09-08T14:28:54.096265Z",
     "iopub.status.idle": "2022-09-08T14:28:56.230124Z",
     "shell.execute_reply": "2022-09-08T14:28:56.228913Z"
    },
    "papermill": {
     "duration": 2.155128,
     "end_time": "2022-09-08T14:28:56.233203",
     "exception": false,
     "start_time": "2022-09-08T14:28:54.078075",
     "status": "completed"
    },
    "tags": []
   },
   "outputs": [],
   "source": [
    "import pandas as pd\n",
    "import numpy as np\n",
    "import matplotlib.pyplot as plt\n",
    "import seaborn as sns\n",
    "\n",
    "import statsmodels.api as sm\n",
    "from statsmodels.stats.outliers_influence import variance_inflation_factor\n",
    "\n",
    "from sklearn.model_selection import train_test_split\n",
    "from sklearn.linear_model import LogisticRegression\n",
    "from sklearn.neighbors import KNeighborsClassifier\n",
    "from sklearn.tree import DecisionTreeClassifier\n",
    "from sklearn.ensemble import AdaBoostClassifier, RandomForestClassifier\n",
    "from sklearn.metrics import accuracy_score, classification_report, confusion_matrix\n",
    "\n",
    "import warnings\n",
    "warnings.filterwarnings('ignore')\n",
    "%matplotlib inline"
   ]
  },
  {
   "cell_type": "markdown",
   "id": "b7150103",
   "metadata": {
    "papermill": {
     "duration": 0.014197,
     "end_time": "2022-09-08T14:28:56.262285",
     "exception": false,
     "start_time": "2022-09-08T14:28:56.248088",
     "status": "completed"
    },
    "tags": []
   },
   "source": [
    "## 2. Load Datasets"
   ]
  },
  {
   "cell_type": "markdown",
   "id": "7396459b",
   "metadata": {
    "papermill": {
     "duration": 0.013798,
     "end_time": "2022-09-08T14:28:56.290209",
     "exception": false,
     "start_time": "2022-09-08T14:28:56.276411",
     "status": "completed"
    },
    "tags": []
   },
   "source": [
    "In this section, the given **Fraud.csv** dataset has been loaded using the pandas dataframe."
   ]
  },
  {
   "cell_type": "code",
   "execution_count": 2,
   "id": "893fefb0",
   "metadata": {
    "execution": {
     "iopub.execute_input": "2022-09-08T14:28:56.320958Z",
     "iopub.status.busy": "2022-09-08T14:28:56.319734Z",
     "iopub.status.idle": "2022-09-08T14:29:12.930965Z",
     "shell.execute_reply": "2022-09-08T14:29:12.930062Z"
    },
    "papermill": {
     "duration": 16.628829,
     "end_time": "2022-09-08T14:29:12.933143",
     "exception": false,
     "start_time": "2022-09-08T14:28:56.304314",
     "status": "completed"
    },
    "tags": []
   },
   "outputs": [
    {
     "data": {
      "text/html": [
       "<div>\n",
       "<style scoped>\n",
       "    .dataframe tbody tr th:only-of-type {\n",
       "        vertical-align: middle;\n",
       "    }\n",
       "\n",
       "    .dataframe tbody tr th {\n",
       "        vertical-align: top;\n",
       "    }\n",
       "\n",
       "    .dataframe thead th {\n",
       "        text-align: right;\n",
       "    }\n",
       "</style>\n",
       "<table border=\"1\" class=\"dataframe\">\n",
       "  <thead>\n",
       "    <tr style=\"text-align: right;\">\n",
       "      <th></th>\n",
       "      <th>step</th>\n",
       "      <th>type</th>\n",
       "      <th>amount</th>\n",
       "      <th>nameOrig</th>\n",
       "      <th>oldbalanceOrg</th>\n",
       "      <th>newbalanceOrig</th>\n",
       "      <th>nameDest</th>\n",
       "      <th>oldbalanceDest</th>\n",
       "      <th>newbalanceDest</th>\n",
       "      <th>isFraud</th>\n",
       "      <th>isFlaggedFraud</th>\n",
       "    </tr>\n",
       "  </thead>\n",
       "  <tbody>\n",
       "    <tr>\n",
       "      <th>0</th>\n",
       "      <td>1</td>\n",
       "      <td>PAYMENT</td>\n",
       "      <td>9839.64</td>\n",
       "      <td>C1231006815</td>\n",
       "      <td>170136.0</td>\n",
       "      <td>160296.36</td>\n",
       "      <td>M1979787155</td>\n",
       "      <td>0.0</td>\n",
       "      <td>0.0</td>\n",
       "      <td>0</td>\n",
       "      <td>0</td>\n",
       "    </tr>\n",
       "    <tr>\n",
       "      <th>1</th>\n",
       "      <td>1</td>\n",
       "      <td>PAYMENT</td>\n",
       "      <td>1864.28</td>\n",
       "      <td>C1666544295</td>\n",
       "      <td>21249.0</td>\n",
       "      <td>19384.72</td>\n",
       "      <td>M2044282225</td>\n",
       "      <td>0.0</td>\n",
       "      <td>0.0</td>\n",
       "      <td>0</td>\n",
       "      <td>0</td>\n",
       "    </tr>\n",
       "    <tr>\n",
       "      <th>2</th>\n",
       "      <td>1</td>\n",
       "      <td>TRANSFER</td>\n",
       "      <td>181.00</td>\n",
       "      <td>C1305486145</td>\n",
       "      <td>181.0</td>\n",
       "      <td>0.00</td>\n",
       "      <td>C553264065</td>\n",
       "      <td>0.0</td>\n",
       "      <td>0.0</td>\n",
       "      <td>1</td>\n",
       "      <td>0</td>\n",
       "    </tr>\n",
       "    <tr>\n",
       "      <th>3</th>\n",
       "      <td>1</td>\n",
       "      <td>CASH_OUT</td>\n",
       "      <td>181.00</td>\n",
       "      <td>C840083671</td>\n",
       "      <td>181.0</td>\n",
       "      <td>0.00</td>\n",
       "      <td>C38997010</td>\n",
       "      <td>21182.0</td>\n",
       "      <td>0.0</td>\n",
       "      <td>1</td>\n",
       "      <td>0</td>\n",
       "    </tr>\n",
       "    <tr>\n",
       "      <th>4</th>\n",
       "      <td>1</td>\n",
       "      <td>PAYMENT</td>\n",
       "      <td>11668.14</td>\n",
       "      <td>C2048537720</td>\n",
       "      <td>41554.0</td>\n",
       "      <td>29885.86</td>\n",
       "      <td>M1230701703</td>\n",
       "      <td>0.0</td>\n",
       "      <td>0.0</td>\n",
       "      <td>0</td>\n",
       "      <td>0</td>\n",
       "    </tr>\n",
       "  </tbody>\n",
       "</table>\n",
       "</div>"
      ],
      "text/plain": [
       "   step      type    amount     nameOrig  oldbalanceOrg  newbalanceOrig  \\\n",
       "0     1   PAYMENT   9839.64  C1231006815       170136.0       160296.36   \n",
       "1     1   PAYMENT   1864.28  C1666544295        21249.0        19384.72   \n",
       "2     1  TRANSFER    181.00  C1305486145          181.0            0.00   \n",
       "3     1  CASH_OUT    181.00   C840083671          181.0            0.00   \n",
       "4     1   PAYMENT  11668.14  C2048537720        41554.0        29885.86   \n",
       "\n",
       "      nameDest  oldbalanceDest  newbalanceDest  isFraud  isFlaggedFraud  \n",
       "0  M1979787155             0.0             0.0        0               0  \n",
       "1  M2044282225             0.0             0.0        0               0  \n",
       "2   C553264065             0.0             0.0        1               0  \n",
       "3    C38997010         21182.0             0.0        1               0  \n",
       "4  M1230701703             0.0             0.0        0               0  "
      ]
     },
     "execution_count": 2,
     "metadata": {},
     "output_type": "execute_result"
    }
   ],
   "source": [
    "fraud_df = pd.read_csv(\"../input/financial-payment-services-fraud-data/Fraud.csv\")\n",
    "fraud_df.head()"
   ]
  },
  {
   "cell_type": "code",
   "execution_count": 3,
   "id": "a2b5b36a",
   "metadata": {
    "execution": {
     "iopub.execute_input": "2022-09-08T14:29:12.964645Z",
     "iopub.status.busy": "2022-09-08T14:29:12.963707Z",
     "iopub.status.idle": "2022-09-08T14:29:12.986755Z",
     "shell.execute_reply": "2022-09-08T14:29:12.985066Z"
    },
    "papermill": {
     "duration": 0.041556,
     "end_time": "2022-09-08T14:29:12.989239",
     "exception": false,
     "start_time": "2022-09-08T14:29:12.947683",
     "status": "completed"
    },
    "tags": []
   },
   "outputs": [
    {
     "name": "stdout",
     "output_type": "stream",
     "text": [
      "<class 'pandas.core.frame.DataFrame'>\n",
      "RangeIndex: 6362620 entries, 0 to 6362619\n",
      "Data columns (total 11 columns):\n",
      " #   Column          Dtype  \n",
      "---  ------          -----  \n",
      " 0   step            int64  \n",
      " 1   type            object \n",
      " 2   amount          float64\n",
      " 3   nameOrig        object \n",
      " 4   oldbalanceOrg   float64\n",
      " 5   newbalanceOrig  float64\n",
      " 6   nameDest        object \n",
      " 7   oldbalanceDest  float64\n",
      " 8   newbalanceDest  float64\n",
      " 9   isFraud         int64  \n",
      " 10  isFlaggedFraud  int64  \n",
      "dtypes: float64(5), int64(3), object(3)\n",
      "memory usage: 534.0+ MB\n"
     ]
    }
   ],
   "source": [
    "fraud_df.info()"
   ]
  },
  {
   "cell_type": "markdown",
   "id": "f8c6f38e",
   "metadata": {
    "papermill": {
     "duration": 0.014382,
     "end_time": "2022-09-08T14:29:13.018273",
     "exception": false,
     "start_time": "2022-09-08T14:29:13.003891",
     "status": "completed"
    },
    "tags": []
   },
   "source": [
    "## 3. Data Pre-processing\n",
    "In order to prepare the data for the predictive analysis, the dataset needs to be pre-processed at the initial phase of the experiment. The entire pre-processing of the data mainly consists of the following phases -\n",
    "- **Missing Values Removal -** In this phase we will search for the missing values from the dataset.\n",
    "- **Outliers Removal -** In this section all the outliers from the numerical columns will be identified and removed from the dataset.\n",
    "- **Multi-collinearity Removal -** In this phase all the Multi-collinearity will be identified and removed for the datasets after calculating the difference values of the respective features."
   ]
  },
  {
   "cell_type": "markdown",
   "id": "6d67a452",
   "metadata": {
    "papermill": {
     "duration": 0.014444,
     "end_time": "2022-09-08T14:29:13.047317",
     "exception": false,
     "start_time": "2022-09-08T14:29:13.032873",
     "status": "completed"
    },
    "tags": []
   },
   "source": [
    "### 3.1. Missing Values Removal"
   ]
  },
  {
   "cell_type": "code",
   "execution_count": 4,
   "id": "6f7cc1d4",
   "metadata": {
    "execution": {
     "iopub.execute_input": "2022-09-08T14:29:13.079328Z",
     "iopub.status.busy": "2022-09-08T14:29:13.078112Z",
     "iopub.status.idle": "2022-09-08T14:29:13.982964Z",
     "shell.execute_reply": "2022-09-08T14:29:13.981873Z"
    },
    "papermill": {
     "duration": 0.923441,
     "end_time": "2022-09-08T14:29:13.985412",
     "exception": false,
     "start_time": "2022-09-08T14:29:13.061971",
     "status": "completed"
    },
    "tags": []
   },
   "outputs": [
    {
     "data": {
      "text/plain": [
       "step              0.0\n",
       "type              0.0\n",
       "amount            0.0\n",
       "nameOrig          0.0\n",
       "oldbalanceOrg     0.0\n",
       "newbalanceOrig    0.0\n",
       "nameDest          0.0\n",
       "oldbalanceDest    0.0\n",
       "newbalanceDest    0.0\n",
       "isFraud           0.0\n",
       "isFlaggedFraud    0.0\n",
       "dtype: float64"
      ]
     },
     "execution_count": 4,
     "metadata": {},
     "output_type": "execute_result"
    }
   ],
   "source": [
    "fraud_df.isnull().mean()*100"
   ]
  },
  {
   "cell_type": "markdown",
   "id": "1b5566b2",
   "metadata": {
    "papermill": {
     "duration": 0.014588,
     "end_time": "2022-09-08T14:29:14.015355",
     "exception": false,
     "start_time": "2022-09-08T14:29:14.000767",
     "status": "completed"
    },
    "tags": []
   },
   "source": [
    "During the analysis, no missing values have been found from the dataset."
   ]
  },
  {
   "cell_type": "markdown",
   "id": "9fafd499",
   "metadata": {
    "papermill": {
     "duration": 0.014395,
     "end_time": "2022-09-08T14:29:14.044458",
     "exception": false,
     "start_time": "2022-09-08T14:29:14.030063",
     "status": "completed"
    },
    "tags": []
   },
   "source": [
    "### 3.2. Outliers Removal"
   ]
  },
  {
   "cell_type": "markdown",
   "id": "598da63e",
   "metadata": {
    "papermill": {
     "duration": 0.014313,
     "end_time": "2022-09-08T14:29:14.073428",
     "exception": false,
     "start_time": "2022-09-08T14:29:14.059115",
     "status": "completed"
    },
    "tags": []
   },
   "source": [
    "#### 3.2.1. Outliers fromf Amount of the Transaction"
   ]
  },
  {
   "cell_type": "code",
   "execution_count": 5,
   "id": "cd607cd2",
   "metadata": {
    "execution": {
     "iopub.execute_input": "2022-09-08T14:29:14.104829Z",
     "iopub.status.busy": "2022-09-08T14:29:14.103708Z",
     "iopub.status.idle": "2022-09-08T14:29:14.818957Z",
     "shell.execute_reply": "2022-09-08T14:29:14.817872Z"
    },
    "papermill": {
     "duration": 0.73387,
     "end_time": "2022-09-08T14:29:14.821745",
     "exception": false,
     "start_time": "2022-09-08T14:29:14.087875",
     "status": "completed"
    },
    "tags": []
   },
   "outputs": [
    {
     "data": {
      "image/png": "[encoded data removed]",
      "text/plain": [
       "<Figure size 432x288 with 1 Axes>"
      ]
     },
     "metadata": {
      "needs_background": "light"
     },
     "output_type": "display_data"
    }
   ],
   "source": [
    "plt.boxplot(fraud_df['amount'])\n",
    "plt.show()"
   ]
  },
  {
   "cell_type": "code",
   "execution_count": 6,
   "id": "e95cf69b",
   "metadata": {
    "execution": {
     "iopub.execute_input": "2022-09-08T14:29:14.853973Z",
     "iopub.status.busy": "2022-09-08T14:29:14.853598Z",
     "iopub.status.idle": "2022-09-08T14:29:14.909189Z",
     "shell.execute_reply": "2022-09-08T14:29:14.908095Z"
    },
    "papermill": {
     "duration": 0.074549,
     "end_time": "2022-09-08T14:29:14.911594",
     "exception": false,
     "start_time": "2022-09-08T14:29:14.837045",
     "status": "completed"
    },
    "tags": []
   },
   "outputs": [
    {
     "data": {
      "text/html": [
       "<div>\n",
       "<style scoped>\n",
       "    .dataframe tbody tr th:only-of-type {\n",
       "        vertical-align: middle;\n",
       "    }\n",
       "\n",
       "    .dataframe tbody tr th {\n",
       "        vertical-align: top;\n",
       "    }\n",
       "\n",
       "    .dataframe thead th {\n",
       "        text-align: right;\n",
       "    }\n",
       "</style>\n",
       "<table border=\"1\" class=\"dataframe\">\n",
       "  <thead>\n",
       "    <tr style=\"text-align: right;\">\n",
       "      <th></th>\n",
       "      <th>step</th>\n",
       "      <th>type</th>\n",
       "      <th>amount</th>\n",
       "      <th>nameOrig</th>\n",
       "      <th>oldbalanceOrg</th>\n",
       "      <th>newbalanceOrig</th>\n",
       "      <th>nameDest</th>\n",
       "      <th>oldbalanceDest</th>\n",
       "      <th>newbalanceDest</th>\n",
       "      <th>isFraud</th>\n",
       "      <th>isFlaggedFraud</th>\n",
       "    </tr>\n",
       "  </thead>\n",
       "  <tbody>\n",
       "    <tr>\n",
       "      <th>3686583</th>\n",
       "      <td>276</td>\n",
       "      <td>TRANSFER</td>\n",
       "      <td>92445516.64</td>\n",
       "      <td>C1715283297</td>\n",
       "      <td>0.0</td>\n",
       "      <td>0.0</td>\n",
       "      <td>C439737079</td>\n",
       "      <td>9595.98</td>\n",
       "      <td>92455112.62</td>\n",
       "      <td>0</td>\n",
       "      <td>0</td>\n",
       "    </tr>\n",
       "  </tbody>\n",
       "</table>\n",
       "</div>"
      ],
      "text/plain": [
       "         step      type       amount     nameOrig  oldbalanceOrg  \\\n",
       "3686583   276  TRANSFER  92445516.64  C1715283297            0.0   \n",
       "\n",
       "         newbalanceOrig    nameDest  oldbalanceDest  newbalanceDest  isFraud  \\\n",
       "3686583             0.0  C439737079         9595.98     92455112.62        0   \n",
       "\n",
       "         isFlaggedFraud  \n",
       "3686583               0  "
      ]
     },
     "execution_count": 6,
     "metadata": {},
     "output_type": "execute_result"
    }
   ],
   "source": [
    "fraud_df.query('amount>80000000')"
   ]
  },
  {
   "cell_type": "code",
   "execution_count": 7,
   "id": "7da21838",
   "metadata": {
    "execution": {
     "iopub.execute_input": "2022-09-08T14:29:14.944764Z",
     "iopub.status.busy": "2022-09-08T14:29:14.944191Z",
     "iopub.status.idle": "2022-09-08T14:29:15.678386Z",
     "shell.execute_reply": "2022-09-08T14:29:15.677517Z"
    },
    "papermill": {
     "duration": 0.753545,
     "end_time": "2022-09-08T14:29:15.680919",
     "exception": false,
     "start_time": "2022-09-08T14:29:14.927374",
     "status": "completed"
    },
    "tags": []
   },
   "outputs": [],
   "source": [
    "indexNames = fraud_df[fraud_df['amount'] > 80000000].index\n",
    "fraud_df.drop(indexNames , inplace=True)"
   ]
  },
  {
   "cell_type": "markdown",
   "id": "eff67c40",
   "metadata": {
    "papermill": {
     "duration": 0.01549,
     "end_time": "2022-09-08T14:29:15.712292",
     "exception": false,
     "start_time": "2022-09-08T14:29:15.696802",
     "status": "completed"
    },
    "tags": []
   },
   "source": [
    "During the analysis, one outlier has been found for the **amount** feature with a value of greater than 80000000. The outlier has been removed from the dataset."
   ]
  },
  {
   "cell_type": "markdown",
   "id": "583523b7",
   "metadata": {
    "papermill": {
     "duration": 0.015655,
     "end_time": "2022-09-08T14:29:15.743343",
     "exception": false,
     "start_time": "2022-09-08T14:29:15.727688",
     "status": "completed"
    },
    "tags": []
   },
   "source": [
    "#### 3.2.2. Outliers from Initial Balance Before the Transaction"
   ]
  },
  {
   "cell_type": "code",
   "execution_count": 8,
   "id": "6904b1e6",
   "metadata": {
    "execution": {
     "iopub.execute_input": "2022-09-08T14:29:15.776070Z",
     "iopub.status.busy": "2022-09-08T14:29:15.775350Z",
     "iopub.status.idle": "2022-09-08T14:29:17.117062Z",
     "shell.execute_reply": "2022-09-08T14:29:17.116068Z"
    },
    "papermill": {
     "duration": 1.361214,
     "end_time": "2022-09-08T14:29:17.119849",
     "exception": false,
     "start_time": "2022-09-08T14:29:15.758635",
     "status": "completed"
    },
    "tags": []
   },
   "outputs": [
    {
     "data": {
      "image/png": "[encoded data removed]",
      "text/plain": [
       "<Figure size 432x288 with 1 Axes>"
      ]
     },
     "metadata": {
      "needs_background": "light"
     },
     "output_type": "display_data"
    }
   ],
   "source": [
    "plt.boxplot(fraud_df['oldbalanceOrg'])\n",
    "plt.show()"
   ]
  },
  {
   "cell_type": "code",
   "execution_count": 9,
   "id": "733432a2",
   "metadata": {
    "execution": {
     "iopub.execute_input": "2022-09-08T14:29:17.152294Z",
     "iopub.status.busy": "2022-09-08T14:29:17.151867Z",
     "iopub.status.idle": "2022-09-08T14:29:17.208998Z",
     "shell.execute_reply": "2022-09-08T14:29:17.207937Z"
    },
    "papermill": {
     "duration": 0.076008,
     "end_time": "2022-09-08T14:29:17.211437",
     "exception": false,
     "start_time": "2022-09-08T14:29:17.135429",
     "status": "completed"
    },
    "tags": []
   },
   "outputs": [
    {
     "data": {
      "text/html": [
       "<div>\n",
       "<style scoped>\n",
       "    .dataframe tbody tr th:only-of-type {\n",
       "        vertical-align: middle;\n",
       "    }\n",
       "\n",
       "    .dataframe tbody tr th {\n",
       "        vertical-align: top;\n",
       "    }\n",
       "\n",
       "    .dataframe thead th {\n",
       "        text-align: right;\n",
       "    }\n",
       "</style>\n",
       "<table border=\"1\" class=\"dataframe\">\n",
       "  <thead>\n",
       "    <tr style=\"text-align: right;\">\n",
       "      <th></th>\n",
       "      <th>step</th>\n",
       "      <th>type</th>\n",
       "      <th>amount</th>\n",
       "      <th>nameOrig</th>\n",
       "      <th>oldbalanceOrg</th>\n",
       "      <th>newbalanceOrig</th>\n",
       "      <th>nameDest</th>\n",
       "      <th>oldbalanceDest</th>\n",
       "      <th>newbalanceDest</th>\n",
       "      <th>isFraud</th>\n",
       "      <th>isFlaggedFraud</th>\n",
       "    </tr>\n",
       "  </thead>\n",
       "  <tbody>\n",
       "    <tr>\n",
       "      <th>5996399</th>\n",
       "      <td>425</td>\n",
       "      <td>TRANSFER</td>\n",
       "      <td>10000000.0</td>\n",
       "      <td>C40489106</td>\n",
       "      <td>59585040.37</td>\n",
       "      <td>49585040.37</td>\n",
       "      <td>C650095152</td>\n",
       "      <td>0.0</td>\n",
       "      <td>0.0</td>\n",
       "      <td>1</td>\n",
       "      <td>0</td>\n",
       "    </tr>\n",
       "    <tr>\n",
       "      <th>6281474</th>\n",
       "      <td>646</td>\n",
       "      <td>TRANSFER</td>\n",
       "      <td>10000000.0</td>\n",
       "      <td>C590657619</td>\n",
       "      <td>50399045.08</td>\n",
       "      <td>40399045.08</td>\n",
       "      <td>C1971187430</td>\n",
       "      <td>0.0</td>\n",
       "      <td>0.0</td>\n",
       "      <td>1</td>\n",
       "      <td>0</td>\n",
       "    </tr>\n",
       "    <tr>\n",
       "      <th>6362452</th>\n",
       "      <td>730</td>\n",
       "      <td>TRANSFER</td>\n",
       "      <td>10000000.0</td>\n",
       "      <td>C726730575</td>\n",
       "      <td>57316255.05</td>\n",
       "      <td>47316255.05</td>\n",
       "      <td>C1364745638</td>\n",
       "      <td>0.0</td>\n",
       "      <td>0.0</td>\n",
       "      <td>1</td>\n",
       "      <td>0</td>\n",
       "    </tr>\n",
       "  </tbody>\n",
       "</table>\n",
       "</div>"
      ],
      "text/plain": [
       "         step      type      amount    nameOrig  oldbalanceOrg  \\\n",
       "5996399   425  TRANSFER  10000000.0   C40489106    59585040.37   \n",
       "6281474   646  TRANSFER  10000000.0  C590657619    50399045.08   \n",
       "6362452   730  TRANSFER  10000000.0  C726730575    57316255.05   \n",
       "\n",
       "         newbalanceOrig     nameDest  oldbalanceDest  newbalanceDest  isFraud  \\\n",
       "5996399     49585040.37   C650095152             0.0             0.0        1   \n",
       "6281474     40399045.08  C1971187430             0.0             0.0        1   \n",
       "6362452     47316255.05  C1364745638             0.0             0.0        1   \n",
       "\n",
       "         isFlaggedFraud  \n",
       "5996399               0  \n",
       "6281474               0  \n",
       "6362452               0  "
      ]
     },
     "execution_count": 9,
     "metadata": {},
     "output_type": "execute_result"
    }
   ],
   "source": [
    "fraud_df.query('oldbalanceOrg>50000000')"
   ]
  },
  {
   "cell_type": "code",
   "execution_count": 10,
   "id": "d8097d95",
   "metadata": {
    "execution": {
     "iopub.execute_input": "2022-09-08T14:29:17.244502Z",
     "iopub.status.busy": "2022-09-08T14:29:17.244102Z",
     "iopub.status.idle": "2022-09-08T14:29:18.646362Z",
     "shell.execute_reply": "2022-09-08T14:29:18.645316Z"
    },
    "papermill": {
     "duration": 1.421582,
     "end_time": "2022-09-08T14:29:18.648933",
     "exception": false,
     "start_time": "2022-09-08T14:29:17.227351",
     "status": "completed"
    },
    "tags": []
   },
   "outputs": [],
   "source": [
    "indexNames = fraud_df[fraud_df['oldbalanceOrg'] > 50000000].index\n",
    "fraud_df.drop(indexNames , inplace=True)"
   ]
  },
  {
   "cell_type": "markdown",
   "id": "f71655df",
   "metadata": {
    "papermill": {
     "duration": 0.01544,
     "end_time": "2022-09-08T14:29:18.681728",
     "exception": false,
     "start_time": "2022-09-08T14:29:18.666288",
     "status": "completed"
    },
    "tags": []
   },
   "source": [
    "During the analysis, three outliers have been found for the **oldbalanceOrg** feature with a value of greater than 50000000. The outliers have been removed from the dataset."
   ]
  },
  {
   "cell_type": "markdown",
   "id": "d83058e6",
   "metadata": {
    "papermill": {
     "duration": 0.015071,
     "end_time": "2022-09-08T14:29:18.712509",
     "exception": false,
     "start_time": "2022-09-08T14:29:18.697438",
     "status": "completed"
    },
    "tags": []
   },
   "source": [
    "#### 3.2.3. Outliers from New Balance After the Transaction"
   ]
  },
  {
   "cell_type": "code",
   "execution_count": 11,
   "id": "de4b6804",
   "metadata": {
    "execution": {
     "iopub.execute_input": "2022-09-08T14:29:18.746544Z",
     "iopub.status.busy": "2022-09-08T14:29:18.746171Z",
     "iopub.status.idle": "2022-09-08T14:29:20.017309Z",
     "shell.execute_reply": "2022-09-08T14:29:20.016535Z"
    },
    "papermill": {
     "duration": 1.2908,
     "end_time": "2022-09-08T14:29:20.019459",
     "exception": false,
     "start_time": "2022-09-08T14:29:18.728659",
     "status": "completed"
    },
    "tags": []
   },
   "outputs": [
    {
     "data": {
      "image/png": "[encoded data removed]",
      "text/plain": [
       "<Figure size 432x288 with 1 Axes>"
      ]
     },
     "metadata": {
      "needs_background": "light"
     },
     "output_type": "display_data"
    }
   ],
   "source": [
    "plt.boxplot(fraud_df['newbalanceOrig'])\n",
    "plt.show()"
   ]
  },
  {
   "cell_type": "code",
   "execution_count": 12,
   "id": "bfb5cbc8",
   "metadata": {
    "execution": {
     "iopub.execute_input": "2022-09-08T14:29:20.052820Z",
     "iopub.status.busy": "2022-09-08T14:29:20.052155Z",
     "iopub.status.idle": "2022-09-08T14:29:20.118208Z",
     "shell.execute_reply": "2022-09-08T14:29:20.117122Z"
    },
    "papermill": {
     "duration": 0.085816,
     "end_time": "2022-09-08T14:29:20.121100",
     "exception": false,
     "start_time": "2022-09-08T14:29:20.035284",
     "status": "completed"
    },
    "tags": []
   },
   "outputs": [
    {
     "data": {
      "text/html": [
       "<div>\n",
       "<style scoped>\n",
       "    .dataframe tbody tr th:only-of-type {\n",
       "        vertical-align: middle;\n",
       "    }\n",
       "\n",
       "    .dataframe tbody tr th {\n",
       "        vertical-align: top;\n",
       "    }\n",
       "\n",
       "    .dataframe thead th {\n",
       "        text-align: right;\n",
       "    }\n",
       "</style>\n",
       "<table border=\"1\" class=\"dataframe\">\n",
       "  <thead>\n",
       "    <tr style=\"text-align: right;\">\n",
       "      <th></th>\n",
       "      <th>step</th>\n",
       "      <th>type</th>\n",
       "      <th>amount</th>\n",
       "      <th>nameOrig</th>\n",
       "      <th>oldbalanceOrg</th>\n",
       "      <th>newbalanceOrig</th>\n",
       "      <th>nameDest</th>\n",
       "      <th>oldbalanceDest</th>\n",
       "      <th>newbalanceDest</th>\n",
       "      <th>isFraud</th>\n",
       "      <th>isFlaggedFraud</th>\n",
       "    </tr>\n",
       "  </thead>\n",
       "  <tbody>\n",
       "    <tr>\n",
       "      <th>4180200</th>\n",
       "      <td>304</td>\n",
       "      <td>PAYMENT</td>\n",
       "      <td>8301.85</td>\n",
       "      <td>C1568160039</td>\n",
       "      <td>41699144.49</td>\n",
       "      <td>41690842.64</td>\n",
       "      <td>M1906748245</td>\n",
       "      <td>0.00</td>\n",
       "      <td>0.00</td>\n",
       "      <td>0</td>\n",
       "      <td>0</td>\n",
       "    </tr>\n",
       "    <tr>\n",
       "      <th>4180201</th>\n",
       "      <td>304</td>\n",
       "      <td>CASH_OUT</td>\n",
       "      <td>258483.17</td>\n",
       "      <td>C438977024</td>\n",
       "      <td>41690842.64</td>\n",
       "      <td>41432359.46</td>\n",
       "      <td>C1162702437</td>\n",
       "      <td>6449276.06</td>\n",
       "      <td>6707759.23</td>\n",
       "      <td>0</td>\n",
       "      <td>0</td>\n",
       "    </tr>\n",
       "    <tr>\n",
       "      <th>4203639</th>\n",
       "      <td>305</td>\n",
       "      <td>CASH_OUT</td>\n",
       "      <td>132238.97</td>\n",
       "      <td>C559275248</td>\n",
       "      <td>43818855.30</td>\n",
       "      <td>43686616.33</td>\n",
       "      <td>C1114436169</td>\n",
       "      <td>5327024.57</td>\n",
       "      <td>5459263.54</td>\n",
       "      <td>0</td>\n",
       "      <td>0</td>\n",
       "    </tr>\n",
       "    <tr>\n",
       "      <th>4203640</th>\n",
       "      <td>305</td>\n",
       "      <td>PAYMENT</td>\n",
       "      <td>12814.12</td>\n",
       "      <td>C2080486364</td>\n",
       "      <td>43686616.33</td>\n",
       "      <td>43673802.21</td>\n",
       "      <td>M928977012</td>\n",
       "      <td>0.00</td>\n",
       "      <td>0.00</td>\n",
       "      <td>0</td>\n",
       "      <td>0</td>\n",
       "    </tr>\n",
       "  </tbody>\n",
       "</table>\n",
       "</div>"
      ],
      "text/plain": [
       "         step      type     amount     nameOrig  oldbalanceOrg  \\\n",
       "4180200   304   PAYMENT    8301.85  C1568160039    41699144.49   \n",
       "4180201   304  CASH_OUT  258483.17   C438977024    41690842.64   \n",
       "4203639   305  CASH_OUT  132238.97   C559275248    43818855.30   \n",
       "4203640   305   PAYMENT   12814.12  C2080486364    43686616.33   \n",
       "\n",
       "         newbalanceOrig     nameDest  oldbalanceDest  newbalanceDest  isFraud  \\\n",
       "4180200     41690842.64  M1906748245            0.00            0.00        0   \n",
       "4180201     41432359.46  C1162702437      6449276.06      6707759.23        0   \n",
       "4203639     43686616.33  C1114436169      5327024.57      5459263.54        0   \n",
       "4203640     43673802.21   M928977012            0.00            0.00        0   \n",
       "\n",
       "         isFlaggedFraud  \n",
       "4180200               0  \n",
       "4180201               0  \n",
       "4203639               0  \n",
       "4203640               0  "
      ]
     },
     "execution_count": 12,
     "metadata": {},
     "output_type": "execute_result"
    }
   ],
   "source": [
    "fraud_df.query('newbalanceOrig>40000000')"
   ]
  },
  {
   "cell_type": "code",
   "execution_count": 13,
   "id": "9d04d5c2",
   "metadata": {
    "execution": {
     "iopub.execute_input": "2022-09-08T14:29:20.155583Z",
     "iopub.status.busy": "2022-09-08T14:29:20.154644Z",
     "iopub.status.idle": "2022-09-08T14:29:21.474079Z",
     "shell.execute_reply": "2022-09-08T14:29:21.472898Z"
    },
    "papermill": {
     "duration": 1.339607,
     "end_time": "2022-09-08T14:29:21.476881",
     "exception": false,
     "start_time": "2022-09-08T14:29:20.137274",
     "status": "completed"
    },
    "tags": []
   },
   "outputs": [],
   "source": [
    "indexNames = fraud_df[fraud_df['newbalanceOrig'] > 40000000].index\n",
    "fraud_df.drop(indexNames , inplace=True)"
   ]
  },
  {
   "cell_type": "markdown",
   "id": "de797565",
   "metadata": {
    "papermill": {
     "duration": 0.015688,
     "end_time": "2022-09-08T14:29:21.508913",
     "exception": false,
     "start_time": "2022-09-08T14:29:21.493225",
     "status": "completed"
    },
    "tags": []
   },
   "source": [
    "During the analysis, four outliers have been found for the **newbalanceOrig** feature with a value of greater than 40000000. The outliers have been removed from the dataset."
   ]
  },
  {
   "cell_type": "markdown",
   "id": "fb903be3",
   "metadata": {
    "papermill": {
     "duration": 0.01599,
     "end_time": "2022-09-08T14:29:21.541182",
     "exception": false,
     "start_time": "2022-09-08T14:29:21.525192",
     "status": "completed"
    },
    "tags": []
   },
   "source": [
    "#### 3.2.4. Outliers from Initial Balance Recipient Before the Transaction"
   ]
  },
  {
   "cell_type": "code",
   "execution_count": 14,
   "id": "fe71ed15",
   "metadata": {
    "execution": {
     "iopub.execute_input": "2022-09-08T14:29:21.575494Z",
     "iopub.status.busy": "2022-09-08T14:29:21.575099Z",
     "iopub.status.idle": "2022-09-08T14:29:22.669895Z",
     "shell.execute_reply": "2022-09-08T14:29:22.668825Z"
    },
    "papermill": {
     "duration": 1.114918,
     "end_time": "2022-09-08T14:29:22.672323",
     "exception": false,
     "start_time": "2022-09-08T14:29:21.557405",
     "status": "completed"
    },
    "tags": []
   },
   "outputs": [
    {
     "data": {
      "image/png": "[encoded data removed]",
      "text/plain": [
       "<Figure size 432x288 with 1 Axes>"
      ]
     },
     "metadata": {
      "needs_background": "light"
     },
     "output_type": "display_data"
    }
   ],
   "source": [
    "plt.boxplot(fraud_df['oldbalanceDest'])\n",
    "plt.show()"
   ]
  },
  {
   "cell_type": "code",
   "execution_count": 15,
   "id": "0a0d1468",
   "metadata": {
    "execution": {
     "iopub.execute_input": "2022-09-08T14:29:22.706961Z",
     "iopub.status.busy": "2022-09-08T14:29:22.706593Z",
     "iopub.status.idle": "2022-09-08T14:29:22.765314Z",
     "shell.execute_reply": "2022-09-08T14:29:22.763982Z"
    },
    "papermill": {
     "duration": 0.079077,
     "end_time": "2022-09-08T14:29:22.767867",
     "exception": false,
     "start_time": "2022-09-08T14:29:22.688790",
     "status": "completed"
    },
    "tags": []
   },
   "outputs": [
    {
     "data": {
      "text/html": [
       "<div>\n",
       "<style scoped>\n",
       "    .dataframe tbody tr th:only-of-type {\n",
       "        vertical-align: middle;\n",
       "    }\n",
       "\n",
       "    .dataframe tbody tr th {\n",
       "        vertical-align: top;\n",
       "    }\n",
       "\n",
       "    .dataframe thead th {\n",
       "        text-align: right;\n",
       "    }\n",
       "</style>\n",
       "<table border=\"1\" class=\"dataframe\">\n",
       "  <thead>\n",
       "    <tr style=\"text-align: right;\">\n",
       "      <th></th>\n",
       "      <th>step</th>\n",
       "      <th>type</th>\n",
       "      <th>amount</th>\n",
       "      <th>nameOrig</th>\n",
       "      <th>oldbalanceOrg</th>\n",
       "      <th>newbalanceOrig</th>\n",
       "      <th>nameDest</th>\n",
       "      <th>oldbalanceDest</th>\n",
       "      <th>newbalanceDest</th>\n",
       "      <th>isFraud</th>\n",
       "      <th>isFlaggedFraud</th>\n",
       "    </tr>\n",
       "  </thead>\n",
       "  <tbody>\n",
       "    <tr>\n",
       "      <th>4596803</th>\n",
       "      <td>328</td>\n",
       "      <td>CASH_IN</td>\n",
       "      <td>171982.69</td>\n",
       "      <td>C758787020</td>\n",
       "      <td>31748.00</td>\n",
       "      <td>203730.69</td>\n",
       "      <td>C439737079</td>\n",
       "      <td>3.555534e+08</td>\n",
       "      <td>3.553814e+08</td>\n",
       "      <td>0</td>\n",
       "      <td>0</td>\n",
       "    </tr>\n",
       "    <tr>\n",
       "      <th>4721497</th>\n",
       "      <td>332</td>\n",
       "      <td>CASH_IN</td>\n",
       "      <td>195896.55</td>\n",
       "      <td>C494525103</td>\n",
       "      <td>4178494.78</td>\n",
       "      <td>4374391.33</td>\n",
       "      <td>C439737079</td>\n",
       "      <td>3.553814e+08</td>\n",
       "      <td>3.551855e+08</td>\n",
       "      <td>0</td>\n",
       "      <td>0</td>\n",
       "    </tr>\n",
       "    <tr>\n",
       "      <th>5380607</th>\n",
       "      <td>376</td>\n",
       "      <td>CASH_OUT</td>\n",
       "      <td>194946.47</td>\n",
       "      <td>C4896808</td>\n",
       "      <td>0.00</td>\n",
       "      <td>0.00</td>\n",
       "      <td>C439737079</td>\n",
       "      <td>3.551855e+08</td>\n",
       "      <td>3.553805e+08</td>\n",
       "      <td>0</td>\n",
       "      <td>0</td>\n",
       "    </tr>\n",
       "    <tr>\n",
       "      <th>5486389</th>\n",
       "      <td>380</td>\n",
       "      <td>TRANSFER</td>\n",
       "      <td>635405.82</td>\n",
       "      <td>C1666289749</td>\n",
       "      <td>0.00</td>\n",
       "      <td>0.00</td>\n",
       "      <td>C439737079</td>\n",
       "      <td>3.553805e+08</td>\n",
       "      <td>3.560159e+08</td>\n",
       "      <td>0</td>\n",
       "      <td>0</td>\n",
       "    </tr>\n",
       "    <tr>\n",
       "      <th>5920180</th>\n",
       "      <td>404</td>\n",
       "      <td>CASH_OUT</td>\n",
       "      <td>163389.56</td>\n",
       "      <td>C1323053481</td>\n",
       "      <td>0.00</td>\n",
       "      <td>0.00</td>\n",
       "      <td>C439737079</td>\n",
       "      <td>3.560159e+08</td>\n",
       "      <td>3.561793e+08</td>\n",
       "      <td>0</td>\n",
       "      <td>0</td>\n",
       "    </tr>\n",
       "  </tbody>\n",
       "</table>\n",
       "</div>"
      ],
      "text/plain": [
       "         step      type     amount     nameOrig  oldbalanceOrg  \\\n",
       "4596803   328   CASH_IN  171982.69   C758787020       31748.00   \n",
       "4721497   332   CASH_IN  195896.55   C494525103     4178494.78   \n",
       "5380607   376  CASH_OUT  194946.47     C4896808           0.00   \n",
       "5486389   380  TRANSFER  635405.82  C1666289749           0.00   \n",
       "5920180   404  CASH_OUT  163389.56  C1323053481           0.00   \n",
       "\n",
       "         newbalanceOrig    nameDest  oldbalanceDest  newbalanceDest  isFraud  \\\n",
       "4596803       203730.69  C439737079    3.555534e+08    3.553814e+08        0   \n",
       "4721497      4374391.33  C439737079    3.553814e+08    3.551855e+08        0   \n",
       "5380607            0.00  C439737079    3.551855e+08    3.553805e+08        0   \n",
       "5486389            0.00  C439737079    3.553805e+08    3.560159e+08        0   \n",
       "5920180            0.00  C439737079    3.560159e+08    3.561793e+08        0   \n",
       "\n",
       "         isFlaggedFraud  \n",
       "4596803               0  \n",
       "4721497               0  \n",
       "5380607               0  \n",
       "5486389               0  \n",
       "5920180               0  "
      ]
     },
     "execution_count": 15,
     "metadata": {},
     "output_type": "execute_result"
    }
   ],
   "source": [
    "fraud_df.query('oldbalanceDest>350000000')"
   ]
  },
  {
   "cell_type": "code",
   "execution_count": 16,
   "id": "03c74301",
   "metadata": {
    "execution": {
     "iopub.execute_input": "2022-09-08T14:29:22.802922Z",
     "iopub.status.busy": "2022-09-08T14:29:22.802077Z",
     "iopub.status.idle": "2022-09-08T14:29:24.143687Z",
     "shell.execute_reply": "2022-09-08T14:29:24.142539Z"
    },
    "papermill": {
     "duration": 1.362388,
     "end_time": "2022-09-08T14:29:24.146614",
     "exception": false,
     "start_time": "2022-09-08T14:29:22.784226",
     "status": "completed"
    },
    "tags": []
   },
   "outputs": [],
   "source": [
    "indexNames = fraud_df[fraud_df['oldbalanceDest'] > 350000000].index\n",
    "fraud_df.drop(indexNames , inplace=True)"
   ]
  },
  {
   "cell_type": "markdown",
   "id": "55d1b436",
   "metadata": {
    "papermill": {
     "duration": 0.016388,
     "end_time": "2022-09-08T14:29:24.180074",
     "exception": false,
     "start_time": "2022-09-08T14:29:24.163686",
     "status": "completed"
    },
    "tags": []
   },
   "source": [
    "During the analysis, Five outliers have been found for the **oldbalanceDest** feature with a value of greater than 350000000. The outliers have been removed from the dataset."
   ]
  },
  {
   "cell_type": "markdown",
   "id": "84753480",
   "metadata": {
    "papermill": {
     "duration": 0.015955,
     "end_time": "2022-09-08T14:29:24.212364",
     "exception": false,
     "start_time": "2022-09-08T14:29:24.196409",
     "status": "completed"
    },
    "tags": []
   },
   "source": [
    "#### 3.2.5. Outliers from New Balance Recipient After the Transaction"
   ]
  },
  {
   "cell_type": "code",
   "execution_count": 17,
   "id": "4841f8a2",
   "metadata": {
    "execution": {
     "iopub.execute_input": "2022-09-08T14:29:24.246571Z",
     "iopub.status.busy": "2022-09-08T14:29:24.246197Z",
     "iopub.status.idle": "2022-09-08T14:29:25.333304Z",
     "shell.execute_reply": "2022-09-08T14:29:25.332236Z"
    },
    "papermill": {
     "duration": 1.107365,
     "end_time": "2022-09-08T14:29:25.335919",
     "exception": false,
     "start_time": "2022-09-08T14:29:24.228554",
     "status": "completed"
    },
    "tags": []
   },
   "outputs": [
    {
     "data": {
      "image/png": "[encoded data removed]",
      "text/plain": [
       "<Figure size 432x288 with 1 Axes>"
      ]
     },
     "metadata": {
      "needs_background": "light"
     },
     "output_type": "display_data"
    }
   ],
   "source": [
    "plt.boxplot(fraud_df['newbalanceDest'])\n",
    "plt.show()"
   ]
  },
  {
   "cell_type": "code",
   "execution_count": 18,
   "id": "c3c4b6ae",
   "metadata": {
    "execution": {
     "iopub.execute_input": "2022-09-08T14:29:25.371691Z",
     "iopub.status.busy": "2022-09-08T14:29:25.371296Z",
     "iopub.status.idle": "2022-09-08T14:29:25.438380Z",
     "shell.execute_reply": "2022-09-08T14:29:25.437150Z"
    },
    "papermill": {
     "duration": 0.08793,
     "end_time": "2022-09-08T14:29:25.440854",
     "exception": false,
     "start_time": "2022-09-08T14:29:25.352924",
     "status": "completed"
    },
    "tags": []
   },
   "outputs": [
    {
     "data": {
      "text/html": [
       "<div>\n",
       "<style scoped>\n",
       "    .dataframe tbody tr th:only-of-type {\n",
       "        vertical-align: middle;\n",
       "    }\n",
       "\n",
       "    .dataframe tbody tr th {\n",
       "        vertical-align: top;\n",
       "    }\n",
       "\n",
       "    .dataframe thead th {\n",
       "        text-align: right;\n",
       "    }\n",
       "</style>\n",
       "<table border=\"1\" class=\"dataframe\">\n",
       "  <thead>\n",
       "    <tr style=\"text-align: right;\">\n",
       "      <th></th>\n",
       "      <th>step</th>\n",
       "      <th>type</th>\n",
       "      <th>amount</th>\n",
       "      <th>nameOrig</th>\n",
       "      <th>oldbalanceOrg</th>\n",
       "      <th>newbalanceOrig</th>\n",
       "      <th>nameDest</th>\n",
       "      <th>oldbalanceDest</th>\n",
       "      <th>newbalanceDest</th>\n",
       "      <th>isFraud</th>\n",
       "      <th>isFlaggedFraud</th>\n",
       "    </tr>\n",
       "  </thead>\n",
       "  <tbody>\n",
       "    <tr>\n",
       "      <th>4124250</th>\n",
       "      <td>302</td>\n",
       "      <td>TRANSFER</td>\n",
       "      <td>3325263.90</td>\n",
       "      <td>C1812458696</td>\n",
       "      <td>0.0</td>\n",
       "      <td>0.0</td>\n",
       "      <td>C439737079</td>\n",
       "      <td>3.215898e+08</td>\n",
       "      <td>355553416.3</td>\n",
       "      <td>0</td>\n",
       "      <td>0</td>\n",
       "    </tr>\n",
       "    <tr>\n",
       "      <th>4133583</th>\n",
       "      <td>302</td>\n",
       "      <td>TRANSFER</td>\n",
       "      <td>30638354.89</td>\n",
       "      <td>C1800693711</td>\n",
       "      <td>0.0</td>\n",
       "      <td>0.0</td>\n",
       "      <td>C439737079</td>\n",
       "      <td>3.249151e+08</td>\n",
       "      <td>355553416.3</td>\n",
       "      <td>0</td>\n",
       "      <td>0</td>\n",
       "    </tr>\n",
       "  </tbody>\n",
       "</table>\n",
       "</div>"
      ],
      "text/plain": [
       "         step      type       amount     nameOrig  oldbalanceOrg  \\\n",
       "4124250   302  TRANSFER   3325263.90  C1812458696            0.0   \n",
       "4133583   302  TRANSFER  30638354.89  C1800693711            0.0   \n",
       "\n",
       "         newbalanceOrig    nameDest  oldbalanceDest  newbalanceDest  isFraud  \\\n",
       "4124250             0.0  C439737079    3.215898e+08     355553416.3        0   \n",
       "4133583             0.0  C439737079    3.249151e+08     355553416.3        0   \n",
       "\n",
       "         isFlaggedFraud  \n",
       "4124250               0  \n",
       "4133583               0  "
      ]
     },
     "execution_count": 18,
     "metadata": {},
     "output_type": "execute_result"
    }
   ],
   "source": [
    "fraud_df.query('newbalanceDest>350000000')"
   ]
  },
  {
   "cell_type": "code",
   "execution_count": 19,
   "id": "e7b21aba",
   "metadata": {
    "execution": {
     "iopub.execute_input": "2022-09-08T14:29:25.476749Z",
     "iopub.status.busy": "2022-09-08T14:29:25.476366Z",
     "iopub.status.idle": "2022-09-08T14:29:26.791757Z",
     "shell.execute_reply": "2022-09-08T14:29:26.790493Z"
    },
    "papermill": {
     "duration": 1.336815,
     "end_time": "2022-09-08T14:29:26.794797",
     "exception": false,
     "start_time": "2022-09-08T14:29:25.457982",
     "status": "completed"
    },
    "tags": []
   },
   "outputs": [],
   "source": [
    "indexNames = fraud_df[fraud_df['newbalanceDest'] > 350000000].index\n",
    "fraud_df.drop(indexNames , inplace=True)"
   ]
  },
  {
   "cell_type": "markdown",
   "id": "59c2bc59",
   "metadata": {
    "papermill": {
     "duration": 0.017059,
     "end_time": "2022-09-08T14:29:26.829420",
     "exception": false,
     "start_time": "2022-09-08T14:29:26.812361",
     "status": "completed"
    },
    "tags": []
   },
   "source": [
    "During the analysis, two outliers have been found for the **newbalanceDest** feature with a value of greater than 350000000. The outliers have been removed from the dataset."
   ]
  },
  {
   "cell_type": "code",
   "execution_count": 20,
   "id": "ec6a79cf",
   "metadata": {
    "execution": {
     "iopub.execute_input": "2022-09-08T14:29:26.866329Z",
     "iopub.status.busy": "2022-09-08T14:29:26.865899Z",
     "iopub.status.idle": "2022-09-08T14:29:26.909492Z",
     "shell.execute_reply": "2022-09-08T14:29:26.908101Z"
    },
    "papermill": {
     "duration": 0.065243,
     "end_time": "2022-09-08T14:29:26.911963",
     "exception": false,
     "start_time": "2022-09-08T14:29:26.846720",
     "status": "completed"
    },
    "tags": []
   },
   "outputs": [
    {
     "data": {
      "text/plain": [
       "array([0, 1])"
      ]
     },
     "execution_count": 20,
     "metadata": {},
     "output_type": "execute_result"
    }
   ],
   "source": [
    "fraud_df['isFraud'].unique()"
   ]
  },
  {
   "cell_type": "code",
   "execution_count": 21,
   "id": "45b98bef",
   "metadata": {
    "execution": {
     "iopub.execute_input": "2022-09-08T14:29:26.949210Z",
     "iopub.status.busy": "2022-09-08T14:29:26.948493Z",
     "iopub.status.idle": "2022-09-08T14:29:26.992099Z",
     "shell.execute_reply": "2022-09-08T14:29:26.990910Z"
    },
    "papermill": {
     "duration": 0.065195,
     "end_time": "2022-09-08T14:29:26.994765",
     "exception": false,
     "start_time": "2022-09-08T14:29:26.929570",
     "status": "completed"
    },
    "tags": []
   },
   "outputs": [
    {
     "data": {
      "text/plain": [
       "array([0, 1])"
      ]
     },
     "execution_count": 21,
     "metadata": {},
     "output_type": "execute_result"
    }
   ],
   "source": [
    "fraud_df['isFlaggedFraud'].unique()"
   ]
  },
  {
   "cell_type": "code",
   "execution_count": 22,
   "id": "ca2ac7f1",
   "metadata": {
    "execution": {
     "iopub.execute_input": "2022-09-08T14:29:27.031223Z",
     "iopub.status.busy": "2022-09-08T14:29:27.030403Z",
     "iopub.status.idle": "2022-09-08T14:29:27.048287Z",
     "shell.execute_reply": "2022-09-08T14:29:27.047134Z"
    },
    "papermill": {
     "duration": 0.038932,
     "end_time": "2022-09-08T14:29:27.050888",
     "exception": false,
     "start_time": "2022-09-08T14:29:27.011956",
     "status": "completed"
    },
    "tags": []
   },
   "outputs": [
    {
     "data": {
      "text/html": [
       "<div>\n",
       "<style scoped>\n",
       "    .dataframe tbody tr th:only-of-type {\n",
       "        vertical-align: middle;\n",
       "    }\n",
       "\n",
       "    .dataframe tbody tr th {\n",
       "        vertical-align: top;\n",
       "    }\n",
       "\n",
       "    .dataframe thead th {\n",
       "        text-align: right;\n",
       "    }\n",
       "</style>\n",
       "<table border=\"1\" class=\"dataframe\">\n",
       "  <thead>\n",
       "    <tr style=\"text-align: right;\">\n",
       "      <th></th>\n",
       "      <th>step</th>\n",
       "      <th>type</th>\n",
       "      <th>amount</th>\n",
       "      <th>nameOrig</th>\n",
       "      <th>oldbalanceOrg</th>\n",
       "      <th>newbalanceOrig</th>\n",
       "      <th>nameDest</th>\n",
       "      <th>oldbalanceDest</th>\n",
       "      <th>newbalanceDest</th>\n",
       "      <th>isFraud</th>\n",
       "      <th>isFlaggedFraud</th>\n",
       "    </tr>\n",
       "  </thead>\n",
       "  <tbody>\n",
       "    <tr>\n",
       "      <th>0</th>\n",
       "      <td>1</td>\n",
       "      <td>PAYMENT</td>\n",
       "      <td>9839.64</td>\n",
       "      <td>C1231006815</td>\n",
       "      <td>170136.0</td>\n",
       "      <td>160296.36</td>\n",
       "      <td>M1979787155</td>\n",
       "      <td>0.0</td>\n",
       "      <td>0.0</td>\n",
       "      <td>0</td>\n",
       "      <td>0</td>\n",
       "    </tr>\n",
       "    <tr>\n",
       "      <th>1</th>\n",
       "      <td>1</td>\n",
       "      <td>PAYMENT</td>\n",
       "      <td>1864.28</td>\n",
       "      <td>C1666544295</td>\n",
       "      <td>21249.0</td>\n",
       "      <td>19384.72</td>\n",
       "      <td>M2044282225</td>\n",
       "      <td>0.0</td>\n",
       "      <td>0.0</td>\n",
       "      <td>0</td>\n",
       "      <td>0</td>\n",
       "    </tr>\n",
       "    <tr>\n",
       "      <th>2</th>\n",
       "      <td>1</td>\n",
       "      <td>TRANSFER</td>\n",
       "      <td>181.00</td>\n",
       "      <td>C1305486145</td>\n",
       "      <td>181.0</td>\n",
       "      <td>0.00</td>\n",
       "      <td>C553264065</td>\n",
       "      <td>0.0</td>\n",
       "      <td>0.0</td>\n",
       "      <td>1</td>\n",
       "      <td>0</td>\n",
       "    </tr>\n",
       "    <tr>\n",
       "      <th>3</th>\n",
       "      <td>1</td>\n",
       "      <td>CASH_OUT</td>\n",
       "      <td>181.00</td>\n",
       "      <td>C840083671</td>\n",
       "      <td>181.0</td>\n",
       "      <td>0.00</td>\n",
       "      <td>C38997010</td>\n",
       "      <td>21182.0</td>\n",
       "      <td>0.0</td>\n",
       "      <td>1</td>\n",
       "      <td>0</td>\n",
       "    </tr>\n",
       "    <tr>\n",
       "      <th>4</th>\n",
       "      <td>1</td>\n",
       "      <td>PAYMENT</td>\n",
       "      <td>11668.14</td>\n",
       "      <td>C2048537720</td>\n",
       "      <td>41554.0</td>\n",
       "      <td>29885.86</td>\n",
       "      <td>M1230701703</td>\n",
       "      <td>0.0</td>\n",
       "      <td>0.0</td>\n",
       "      <td>0</td>\n",
       "      <td>0</td>\n",
       "    </tr>\n",
       "  </tbody>\n",
       "</table>\n",
       "</div>"
      ],
      "text/plain": [
       "   step      type    amount     nameOrig  oldbalanceOrg  newbalanceOrig  \\\n",
       "0     1   PAYMENT   9839.64  C1231006815       170136.0       160296.36   \n",
       "1     1   PAYMENT   1864.28  C1666544295        21249.0        19384.72   \n",
       "2     1  TRANSFER    181.00  C1305486145          181.0            0.00   \n",
       "3     1  CASH_OUT    181.00   C840083671          181.0            0.00   \n",
       "4     1   PAYMENT  11668.14  C2048537720        41554.0        29885.86   \n",
       "\n",
       "      nameDest  oldbalanceDest  newbalanceDest  isFraud  isFlaggedFraud  \n",
       "0  M1979787155             0.0             0.0        0               0  \n",
       "1  M2044282225             0.0             0.0        0               0  \n",
       "2   C553264065             0.0             0.0        1               0  \n",
       "3    C38997010         21182.0             0.0        1               0  \n",
       "4  M1230701703             0.0             0.0        0               0  "
      ]
     },
     "execution_count": 22,
     "metadata": {},
     "output_type": "execute_result"
    }
   ],
   "source": [
    "fraud_df.head()"
   ]
  },
  {
   "cell_type": "markdown",
   "id": "79d20a61",
   "metadata": {
    "papermill": {
     "duration": 0.017077,
     "end_time": "2022-09-08T14:29:27.085602",
     "exception": false,
     "start_time": "2022-09-08T14:29:27.068525",
     "status": "completed"
    },
    "tags": []
   },
   "source": [
    "### 3.3. Multi-collinearity Removal"
   ]
  },
  {
   "cell_type": "code",
   "execution_count": 23,
   "id": "602e6740",
   "metadata": {
    "execution": {
     "iopub.execute_input": "2022-09-08T14:29:27.122459Z",
     "iopub.status.busy": "2022-09-08T14:29:27.121708Z",
     "iopub.status.idle": "2022-09-08T14:29:27.272298Z",
     "shell.execute_reply": "2022-09-08T14:29:27.271069Z"
    },
    "papermill": {
     "duration": 0.171849,
     "end_time": "2022-09-08T14:29:27.274734",
     "exception": false,
     "start_time": "2022-09-08T14:29:27.102885",
     "status": "completed"
    },
    "tags": []
   },
   "outputs": [
    {
     "data": {
      "text/html": [
       "<div>\n",
       "<style scoped>\n",
       "    .dataframe tbody tr th:only-of-type {\n",
       "        vertical-align: middle;\n",
       "    }\n",
       "\n",
       "    .dataframe tbody tr th {\n",
       "        vertical-align: top;\n",
       "    }\n",
       "\n",
       "    .dataframe thead th {\n",
       "        text-align: right;\n",
       "    }\n",
       "</style>\n",
       "<table border=\"1\" class=\"dataframe\">\n",
       "  <thead>\n",
       "    <tr style=\"text-align: right;\">\n",
       "      <th></th>\n",
       "      <th>step</th>\n",
       "      <th>amount</th>\n",
       "      <th>oldbalanceOrg</th>\n",
       "      <th>newbalanceOrig</th>\n",
       "      <th>oldbalanceDest</th>\n",
       "      <th>newbalanceDest</th>\n",
       "      <th>isFraud</th>\n",
       "      <th>isFlaggedFraud</th>\n",
       "    </tr>\n",
       "  </thead>\n",
       "  <tbody>\n",
       "    <tr>\n",
       "      <th>0</th>\n",
       "      <td>1</td>\n",
       "      <td>9839.64</td>\n",
       "      <td>170136.0</td>\n",
       "      <td>160296.36</td>\n",
       "      <td>0.0</td>\n",
       "      <td>0.0</td>\n",
       "      <td>0</td>\n",
       "      <td>0</td>\n",
       "    </tr>\n",
       "    <tr>\n",
       "      <th>1</th>\n",
       "      <td>1</td>\n",
       "      <td>1864.28</td>\n",
       "      <td>21249.0</td>\n",
       "      <td>19384.72</td>\n",
       "      <td>0.0</td>\n",
       "      <td>0.0</td>\n",
       "      <td>0</td>\n",
       "      <td>0</td>\n",
       "    </tr>\n",
       "    <tr>\n",
       "      <th>2</th>\n",
       "      <td>1</td>\n",
       "      <td>181.00</td>\n",
       "      <td>181.0</td>\n",
       "      <td>0.00</td>\n",
       "      <td>0.0</td>\n",
       "      <td>0.0</td>\n",
       "      <td>1</td>\n",
       "      <td>0</td>\n",
       "    </tr>\n",
       "    <tr>\n",
       "      <th>3</th>\n",
       "      <td>1</td>\n",
       "      <td>181.00</td>\n",
       "      <td>181.0</td>\n",
       "      <td>0.00</td>\n",
       "      <td>21182.0</td>\n",
       "      <td>0.0</td>\n",
       "      <td>1</td>\n",
       "      <td>0</td>\n",
       "    </tr>\n",
       "    <tr>\n",
       "      <th>4</th>\n",
       "      <td>1</td>\n",
       "      <td>11668.14</td>\n",
       "      <td>41554.0</td>\n",
       "      <td>29885.86</td>\n",
       "      <td>0.0</td>\n",
       "      <td>0.0</td>\n",
       "      <td>0</td>\n",
       "      <td>0</td>\n",
       "    </tr>\n",
       "  </tbody>\n",
       "</table>\n",
       "</div>"
      ],
      "text/plain": [
       "   step    amount  oldbalanceOrg  newbalanceOrig  oldbalanceDest  \\\n",
       "0     1   9839.64       170136.0       160296.36             0.0   \n",
       "1     1   1864.28        21249.0        19384.72             0.0   \n",
       "2     1    181.00          181.0            0.00             0.0   \n",
       "3     1    181.00          181.0            0.00         21182.0   \n",
       "4     1  11668.14        41554.0        29885.86             0.0   \n",
       "\n",
       "   newbalanceDest  isFraud  isFlaggedFraud  \n",
       "0             0.0        0               0  \n",
       "1             0.0        0               0  \n",
       "2             0.0        1               0  \n",
       "3             0.0        1               0  \n",
       "4             0.0        0               0  "
      ]
     },
     "execution_count": 23,
     "metadata": {},
     "output_type": "execute_result"
    }
   ],
   "source": [
    "num_fraud_df = fraud_df[['step', 'amount', 'oldbalanceOrg',\n",
    "                         'newbalanceOrig', 'oldbalanceDest', 'newbalanceDest',\n",
    "                         'isFraud', 'isFlaggedFraud']]\n",
    "num_fraud_df.head()"
   ]
  },
  {
   "cell_type": "markdown",
   "id": "a19e872f",
   "metadata": {
    "papermill": {
     "duration": 0.017271,
     "end_time": "2022-09-08T14:29:27.310522",
     "exception": false,
     "start_time": "2022-09-08T14:29:27.293251",
     "status": "completed"
    },
    "tags": []
   },
   "source": [
    "#### 3.3.1. Identify Multi-collinearity"
   ]
  },
  {
   "cell_type": "code",
   "execution_count": 24,
   "id": "6a0d3070",
   "metadata": {
    "execution": {
     "iopub.execute_input": "2022-09-08T14:29:27.347300Z",
     "iopub.status.busy": "2022-09-08T14:29:27.346885Z",
     "iopub.status.idle": "2022-09-08T14:30:10.065299Z",
     "shell.execute_reply": "2022-09-08T14:30:10.064029Z"
    },
    "papermill": {
     "duration": 42.788805,
     "end_time": "2022-09-08T14:30:10.116882",
     "exception": false,
     "start_time": "2022-09-08T14:29:27.328077",
     "status": "completed"
    },
    "tags": []
   },
   "outputs": [
    {
     "data": {
      "text/html": [
       "<div>\n",
       "<style scoped>\n",
       "    .dataframe tbody tr th:only-of-type {\n",
       "        vertical-align: middle;\n",
       "    }\n",
       "\n",
       "    .dataframe tbody tr th {\n",
       "        vertical-align: top;\n",
       "    }\n",
       "\n",
       "    .dataframe thead th {\n",
       "        text-align: right;\n",
       "    }\n",
       "</style>\n",
       "<table border=\"1\" class=\"dataframe\">\n",
       "  <thead>\n",
       "    <tr style=\"text-align: right;\">\n",
       "      <th></th>\n",
       "      <th>VIF</th>\n",
       "      <th>Column</th>\n",
       "    </tr>\n",
       "  </thead>\n",
       "  <tbody>\n",
       "    <tr>\n",
       "      <th>3</th>\n",
       "      <td>547.616120</td>\n",
       "      <td>newbalanceOrig</td>\n",
       "    </tr>\n",
       "    <tr>\n",
       "      <th>2</th>\n",
       "      <td>545.307261</td>\n",
       "      <td>oldbalanceOrg</td>\n",
       "    </tr>\n",
       "    <tr>\n",
       "      <th>5</th>\n",
       "      <td>83.919587</td>\n",
       "      <td>newbalanceDest</td>\n",
       "    </tr>\n",
       "    <tr>\n",
       "      <th>4</th>\n",
       "      <td>72.236866</td>\n",
       "      <td>oldbalanceDest</td>\n",
       "    </tr>\n",
       "    <tr>\n",
       "      <th>1</th>\n",
       "      <td>4.078319</td>\n",
       "      <td>amount</td>\n",
       "    </tr>\n",
       "    <tr>\n",
       "      <th>0</th>\n",
       "      <td>1.191735</td>\n",
       "      <td>step</td>\n",
       "    </tr>\n",
       "    <tr>\n",
       "      <th>6</th>\n",
       "      <td>1.188005</td>\n",
       "      <td>isFraud</td>\n",
       "    </tr>\n",
       "    <tr>\n",
       "      <th>7</th>\n",
       "      <td>1.002548</td>\n",
       "      <td>isFlaggedFraud</td>\n",
       "    </tr>\n",
       "  </tbody>\n",
       "</table>\n",
       "</div>"
      ],
      "text/plain": [
       "          VIF          Column\n",
       "3  547.616120  newbalanceOrig\n",
       "2  545.307261   oldbalanceOrg\n",
       "5   83.919587  newbalanceDest\n",
       "4   72.236866  oldbalanceDest\n",
       "1    4.078319          amount\n",
       "0    1.191735            step\n",
       "6    1.188005         isFraud\n",
       "7    1.002548  isFlaggedFraud"
      ]
     },
     "execution_count": 24,
     "metadata": {},
     "output_type": "execute_result"
    }
   ],
   "source": [
    "X = num_fraud_df[list(num_fraud_df)]\n",
    "\n",
    "vif_info = pd.DataFrame()\n",
    "vif_info['VIF'] = [variance_inflation_factor(X.values, i) for i in range(X.shape[1])]\n",
    "vif_info['Column'] = X.columns\n",
    "vif_info.sort_values('VIF', ascending=False)"
   ]
  },
  {
   "cell_type": "markdown",
   "id": "6d8e58f9",
   "metadata": {
    "papermill": {
     "duration": 0.018311,
     "end_time": "2022-09-08T14:30:10.182577",
     "exception": false,
     "start_time": "2022-09-08T14:30:10.164266",
     "status": "completed"
    },
    "tags": []
   },
   "source": [
    "During the analysis, two high multi-collinearity have been found i.e. -\n",
    "- `newbalanceOrig` vs. `oldbalanceOrg`\n",
    "- `newbalanceDest` vs. `oldbalanceDest`"
   ]
  },
  {
   "cell_type": "markdown",
   "id": "88ad0ab4",
   "metadata": {
    "papermill": {
     "duration": 0.017933,
     "end_time": "2022-09-08T14:30:10.218777",
     "exception": false,
     "start_time": "2022-09-08T14:30:10.200844",
     "status": "completed"
    },
    "tags": []
   },
   "source": [
    "#### 3.3.1. Remove Multi-collinearity\n",
    "- The difference between `newbalanceOrig` and `oldbalanceOrg` has been calculated as `balanceOrigDiff`. Finally, the `newbalanceOrig` and `oldbalanceOrg` attributes have been removed from the dataset.\n",
    "\n",
    "- Since the account balance of the Merchants are not available for the destination accounts so both `newbalanceDest` and `oldbalanceDest` attributes are required for further analysis."
   ]
  },
  {
   "cell_type": "code",
   "execution_count": 25,
   "id": "7e333f79",
   "metadata": {
    "execution": {
     "iopub.execute_input": "2022-09-08T14:30:10.257132Z",
     "iopub.status.busy": "2022-09-08T14:30:10.256713Z",
     "iopub.status.idle": "2022-09-08T14:30:10.650411Z",
     "shell.execute_reply": "2022-09-08T14:30:10.649343Z"
    },
    "papermill": {
     "duration": 0.415851,
     "end_time": "2022-09-08T14:30:10.652871",
     "exception": false,
     "start_time": "2022-09-08T14:30:10.237020",
     "status": "completed"
    },
    "tags": []
   },
   "outputs": [
    {
     "data": {
      "text/html": [
       "<div>\n",
       "<style scoped>\n",
       "    .dataframe tbody tr th:only-of-type {\n",
       "        vertical-align: middle;\n",
       "    }\n",
       "\n",
       "    .dataframe tbody tr th {\n",
       "        vertical-align: top;\n",
       "    }\n",
       "\n",
       "    .dataframe thead th {\n",
       "        text-align: right;\n",
       "    }\n",
       "</style>\n",
       "<table border=\"1\" class=\"dataframe\">\n",
       "  <thead>\n",
       "    <tr style=\"text-align: right;\">\n",
       "      <th></th>\n",
       "      <th>step</th>\n",
       "      <th>amount</th>\n",
       "      <th>oldbalanceDest</th>\n",
       "      <th>newbalanceDest</th>\n",
       "      <th>isFraud</th>\n",
       "      <th>isFlaggedFraud</th>\n",
       "      <th>balanceOrigDiff</th>\n",
       "    </tr>\n",
       "  </thead>\n",
       "  <tbody>\n",
       "    <tr>\n",
       "      <th>0</th>\n",
       "      <td>1</td>\n",
       "      <td>9839.64</td>\n",
       "      <td>0.0</td>\n",
       "      <td>0.0</td>\n",
       "      <td>0</td>\n",
       "      <td>0</td>\n",
       "      <td>9839.64</td>\n",
       "    </tr>\n",
       "    <tr>\n",
       "      <th>1</th>\n",
       "      <td>1</td>\n",
       "      <td>1864.28</td>\n",
       "      <td>0.0</td>\n",
       "      <td>0.0</td>\n",
       "      <td>0</td>\n",
       "      <td>0</td>\n",
       "      <td>1864.28</td>\n",
       "    </tr>\n",
       "    <tr>\n",
       "      <th>2</th>\n",
       "      <td>1</td>\n",
       "      <td>181.00</td>\n",
       "      <td>0.0</td>\n",
       "      <td>0.0</td>\n",
       "      <td>1</td>\n",
       "      <td>0</td>\n",
       "      <td>181.00</td>\n",
       "    </tr>\n",
       "    <tr>\n",
       "      <th>3</th>\n",
       "      <td>1</td>\n",
       "      <td>181.00</td>\n",
       "      <td>21182.0</td>\n",
       "      <td>0.0</td>\n",
       "      <td>1</td>\n",
       "      <td>0</td>\n",
       "      <td>181.00</td>\n",
       "    </tr>\n",
       "    <tr>\n",
       "      <th>4</th>\n",
       "      <td>1</td>\n",
       "      <td>11668.14</td>\n",
       "      <td>0.0</td>\n",
       "      <td>0.0</td>\n",
       "      <td>0</td>\n",
       "      <td>0</td>\n",
       "      <td>11668.14</td>\n",
       "    </tr>\n",
       "  </tbody>\n",
       "</table>\n",
       "</div>"
      ],
      "text/plain": [
       "   step    amount  oldbalanceDest  newbalanceDest  isFraud  isFlaggedFraud  \\\n",
       "0     1   9839.64             0.0             0.0        0               0   \n",
       "1     1   1864.28             0.0             0.0        0               0   \n",
       "2     1    181.00             0.0             0.0        1               0   \n",
       "3     1    181.00         21182.0             0.0        1               0   \n",
       "4     1  11668.14             0.0             0.0        0               0   \n",
       "\n",
       "   balanceOrigDiff  \n",
       "0          9839.64  \n",
       "1          1864.28  \n",
       "2           181.00  \n",
       "3           181.00  \n",
       "4         11668.14  "
      ]
     },
     "execution_count": 25,
     "metadata": {},
     "output_type": "execute_result"
    }
   ],
   "source": [
    "num_fraud_df['balanceOrigDiff'] = num_fraud_df['oldbalanceOrg'] - num_fraud_df['newbalanceOrig']\n",
    "final_df = num_fraud_df.drop(['newbalanceOrig', 'oldbalanceOrg'], axis=1)\n",
    "final_df.head()"
   ]
  },
  {
   "cell_type": "markdown",
   "id": "46574b5c",
   "metadata": {
    "papermill": {
     "duration": 0.017957,
     "end_time": "2022-09-08T14:30:10.689382",
     "exception": false,
     "start_time": "2022-09-08T14:30:10.671425",
     "status": "completed"
    },
    "tags": []
   },
   "source": [
    "## 4. Exploratory Data Analysis"
   ]
  },
  {
   "cell_type": "markdown",
   "id": "d1f73ea5",
   "metadata": {
    "papermill": {
     "duration": 0.017709,
     "end_time": "2022-09-08T14:30:10.726258",
     "exception": false,
     "start_time": "2022-09-08T14:30:10.708549",
     "status": "completed"
    },
    "tags": []
   },
   "source": [
    "In this section, the average amount of each category of amount payment has been calculated to understand the payment flow."
   ]
  },
  {
   "cell_type": "code",
   "execution_count": 26,
   "id": "2a250c6f",
   "metadata": {
    "execution": {
     "iopub.execute_input": "2022-09-08T14:30:10.764318Z",
     "iopub.status.busy": "2022-09-08T14:30:10.763618Z",
     "iopub.status.idle": "2022-09-08T14:30:11.452989Z",
     "shell.execute_reply": "2022-09-08T14:30:11.451901Z"
    },
    "papermill": {
     "duration": 0.711286,
     "end_time": "2022-09-08T14:30:11.455615",
     "exception": false,
     "start_time": "2022-09-08T14:30:10.744329",
     "status": "completed"
    },
    "tags": []
   },
   "outputs": [
    {
     "data": {
      "text/html": [
       "<div>\n",
       "<style scoped>\n",
       "    .dataframe tbody tr th:only-of-type {\n",
       "        vertical-align: middle;\n",
       "    }\n",
       "\n",
       "    .dataframe tbody tr th {\n",
       "        vertical-align: top;\n",
       "    }\n",
       "\n",
       "    .dataframe thead th {\n",
       "        text-align: right;\n",
       "    }\n",
       "</style>\n",
       "<table border=\"1\" class=\"dataframe\">\n",
       "  <thead>\n",
       "    <tr style=\"text-align: right;\">\n",
       "      <th></th>\n",
       "      <th>type</th>\n",
       "      <th>amount</th>\n",
       "    </tr>\n",
       "  </thead>\n",
       "  <tbody>\n",
       "    <tr>\n",
       "      <th>0</th>\n",
       "      <td>CASH_IN</td>\n",
       "      <td>168920.220537</td>\n",
       "    </tr>\n",
       "    <tr>\n",
       "      <th>1</th>\n",
       "      <td>CASH_OUT</td>\n",
       "      <td>176273.944698</td>\n",
       "    </tr>\n",
       "    <tr>\n",
       "      <th>2</th>\n",
       "      <td>DEBIT</td>\n",
       "      <td>5483.665314</td>\n",
       "    </tr>\n",
       "    <tr>\n",
       "      <th>3</th>\n",
       "      <td>PAYMENT</td>\n",
       "      <td>13057.606984</td>\n",
       "    </tr>\n",
       "    <tr>\n",
       "      <th>4</th>\n",
       "      <td>TRANSFER</td>\n",
       "      <td>910364.274711</td>\n",
       "    </tr>\n",
       "  </tbody>\n",
       "</table>\n",
       "</div>"
      ],
      "text/plain": [
       "       type         amount\n",
       "0   CASH_IN  168920.220537\n",
       "1  CASH_OUT  176273.944698\n",
       "2     DEBIT    5483.665314\n",
       "3   PAYMENT   13057.606984\n",
       "4  TRANSFER  910364.274711"
      ]
     },
     "execution_count": 26,
     "metadata": {},
     "output_type": "execute_result"
    }
   ],
   "source": [
    "amount_fraud_df = fraud_df.groupby(['type'])[['amount']].mean()\n",
    "amount_fraud_df = amount_fraud_df.reset_index()\n",
    "amount_fraud_df.head()"
   ]
  },
  {
   "cell_type": "code",
   "execution_count": 27,
   "id": "b12246ed",
   "metadata": {
    "execution": {
     "iopub.execute_input": "2022-09-08T14:30:11.494091Z",
     "iopub.status.busy": "2022-09-08T14:30:11.493150Z",
     "iopub.status.idle": "2022-09-08T14:30:11.700134Z",
     "shell.execute_reply": "2022-09-08T14:30:11.699099Z"
    },
    "papermill": {
     "duration": 0.228884,
     "end_time": "2022-09-08T14:30:11.702690",
     "exception": false,
     "start_time": "2022-09-08T14:30:11.473806",
     "status": "completed"
    },
    "tags": []
   },
   "outputs": [
    {
     "data": {
      "image/png": "[encoded data removed]",
      "text/plain": [
       "<Figure size 576x288 with 1 Axes>"
      ]
     },
     "metadata": {
      "needs_background": "light"
     },
     "output_type": "display_data"
    }
   ],
   "source": [
    "x = amount_fraud_df.loc[:, 'type']\n",
    "y1 = amount_fraud_df['amount']\n",
    "\n",
    "plt.figure(figsize = (8, 4))\n",
    "\n",
    "plt.plot(x, y1, marker='D', label = 'Amount')\n",
    "\n",
    "plt.xlabel('Type', fontsize = 14)\n",
    "plt.ylabel('Amount', fontsize = 14)\n",
    "plt.title('Average Amount Type Analysis', fontsize = 18)\n",
    "plt.legend(fontsize = 10, loc = 'best')\n",
    "plt.xticks(rotation=45)\n",
    "plt.show()"
   ]
  },
  {
   "cell_type": "markdown",
   "id": "bf60dc1e",
   "metadata": {
    "papermill": {
     "duration": 0.018111,
     "end_time": "2022-09-08T14:30:11.739584",
     "exception": false,
     "start_time": "2022-09-08T14:30:11.721473",
     "status": "completed"
    },
    "tags": []
   },
   "source": [
    "During the analysis, it has been found that the maximum amount has been transferred from one account to another one."
   ]
  },
  {
   "cell_type": "markdown",
   "id": "362c0470",
   "metadata": {
    "papermill": {
     "duration": 0.018112,
     "end_time": "2022-09-08T14:30:11.776237",
     "exception": false,
     "start_time": "2022-09-08T14:30:11.758125",
     "status": "completed"
    },
    "tags": []
   },
   "source": [
    "## 5. Predictive Analysis [Regression Models]"
   ]
  },
  {
   "cell_type": "markdown",
   "id": "f49b9f57",
   "metadata": {
    "papermill": {
     "duration": 0.018124,
     "end_time": "2022-09-08T14:30:11.813019",
     "exception": false,
     "start_time": "2022-09-08T14:30:11.794895",
     "status": "completed"
    },
    "tags": []
   },
   "source": [
    "### 5.1. Correlation of Features\n",
    "In this phase of analysis, the correlations have been evaluated to measure the dependencies between the feature variables and the fraud data. The correlations represent the relationships between the variables in terms of statistical analysis. The linear relationships between the two variables have been defined by the covariance matrix."
   ]
  },
  {
   "cell_type": "code",
   "execution_count": 28,
   "id": "02a77954",
   "metadata": {
    "execution": {
     "iopub.execute_input": "2022-09-08T14:30:11.851881Z",
     "iopub.status.busy": "2022-09-08T14:30:11.851205Z",
     "iopub.status.idle": "2022-09-08T14:30:13.044261Z",
     "shell.execute_reply": "2022-09-08T14:30:13.043229Z"
    },
    "papermill": {
     "duration": 1.215459,
     "end_time": "2022-09-08T14:30:13.046911",
     "exception": false,
     "start_time": "2022-09-08T14:30:11.831452",
     "status": "completed"
    },
    "tags": []
   },
   "outputs": [
    {
     "data": {
      "text/html": [
       "<div>\n",
       "<style scoped>\n",
       "    .dataframe tbody tr th:only-of-type {\n",
       "        vertical-align: middle;\n",
       "    }\n",
       "\n",
       "    .dataframe tbody tr th {\n",
       "        vertical-align: top;\n",
       "    }\n",
       "\n",
       "    .dataframe thead th {\n",
       "        text-align: right;\n",
       "    }\n",
       "</style>\n",
       "<table border=\"1\" class=\"dataframe\">\n",
       "  <thead>\n",
       "    <tr style=\"text-align: right;\">\n",
       "      <th></th>\n",
       "      <th>step</th>\n",
       "      <th>amount</th>\n",
       "      <th>oldbalanceDest</th>\n",
       "      <th>newbalanceDest</th>\n",
       "      <th>isFraud</th>\n",
       "      <th>isFlaggedFraud</th>\n",
       "      <th>balanceOrigDiff</th>\n",
       "    </tr>\n",
       "  </thead>\n",
       "  <tbody>\n",
       "    <tr>\n",
       "      <th>step</th>\n",
       "      <td>1.000000</td>\n",
       "      <td>0.022392</td>\n",
       "      <td>0.027742</td>\n",
       "      <td>0.025945</td>\n",
       "      <td>0.031551</td>\n",
       "      <td>0.003277</td>\n",
       "      <td>0.007182</td>\n",
       "    </tr>\n",
       "    <tr>\n",
       "      <th>amount</th>\n",
       "      <td>0.022392</td>\n",
       "      <td>1.000000</td>\n",
       "      <td>0.295605</td>\n",
       "      <td>0.461208</td>\n",
       "      <td>0.076651</td>\n",
       "      <td>0.012321</td>\n",
       "      <td>0.102135</td>\n",
       "    </tr>\n",
       "    <tr>\n",
       "      <th>oldbalanceDest</th>\n",
       "      <td>0.027742</td>\n",
       "      <td>0.295605</td>\n",
       "      <td>1.000000</td>\n",
       "      <td>0.976387</td>\n",
       "      <td>-0.005912</td>\n",
       "      <td>-0.000516</td>\n",
       "      <td>-0.047750</td>\n",
       "    </tr>\n",
       "    <tr>\n",
       "      <th>newbalanceDest</th>\n",
       "      <td>0.025945</td>\n",
       "      <td>0.461208</td>\n",
       "      <td>0.976387</td>\n",
       "      <td>1.000000</td>\n",
       "      <td>0.000547</td>\n",
       "      <td>-0.000531</td>\n",
       "      <td>-0.006460</td>\n",
       "    </tr>\n",
       "    <tr>\n",
       "      <th>isFraud</th>\n",
       "      <td>0.031551</td>\n",
       "      <td>0.076651</td>\n",
       "      <td>-0.005912</td>\n",
       "      <td>0.000547</td>\n",
       "      <td>1.000000</td>\n",
       "      <td>0.044117</td>\n",
       "      <td>0.362041</td>\n",
       "    </tr>\n",
       "    <tr>\n",
       "      <th>isFlaggedFraud</th>\n",
       "      <td>0.003277</td>\n",
       "      <td>0.012321</td>\n",
       "      <td>-0.000516</td>\n",
       "      <td>-0.000531</td>\n",
       "      <td>0.044117</td>\n",
       "      <td>1.000000</td>\n",
       "      <td>0.000230</td>\n",
       "    </tr>\n",
       "    <tr>\n",
       "      <th>balanceOrigDiff</th>\n",
       "      <td>0.007182</td>\n",
       "      <td>0.102135</td>\n",
       "      <td>-0.047750</td>\n",
       "      <td>-0.006460</td>\n",
       "      <td>0.362041</td>\n",
       "      <td>0.000230</td>\n",
       "      <td>1.000000</td>\n",
       "    </tr>\n",
       "  </tbody>\n",
       "</table>\n",
       "</div>"
      ],
      "text/plain": [
       "                     step    amount  oldbalanceDest  newbalanceDest   isFraud  \\\n",
       "step             1.000000  0.022392        0.027742        0.025945  0.031551   \n",
       "amount           0.022392  1.000000        0.295605        0.461208  0.076651   \n",
       "oldbalanceDest   0.027742  0.295605        1.000000        0.976387 -0.005912   \n",
       "newbalanceDest   0.025945  0.461208        0.976387        1.000000  0.000547   \n",
       "isFraud          0.031551  0.076651       -0.005912        0.000547  1.000000   \n",
       "isFlaggedFraud   0.003277  0.012321       -0.000516       -0.000531  0.044117   \n",
       "balanceOrigDiff  0.007182  0.102135       -0.047750       -0.006460  0.362041   \n",
       "\n",
       "                 isFlaggedFraud  balanceOrigDiff  \n",
       "step                   0.003277         0.007182  \n",
       "amount                 0.012321         0.102135  \n",
       "oldbalanceDest        -0.000516        -0.047750  \n",
       "newbalanceDest        -0.000531        -0.006460  \n",
       "isFraud                0.044117         0.362041  \n",
       "isFlaggedFraud         1.000000         0.000230  \n",
       "balanceOrigDiff        0.000230         1.000000  "
      ]
     },
     "execution_count": 28,
     "metadata": {},
     "output_type": "execute_result"
    }
   ],
   "source": [
    "final_df_corr = final_df.corr()\n",
    "final_df_corr"
   ]
  },
  {
   "cell_type": "code",
   "execution_count": 29,
   "id": "cf85de51",
   "metadata": {
    "execution": {
     "iopub.execute_input": "2022-09-08T14:30:13.086954Z",
     "iopub.status.busy": "2022-09-08T14:30:13.085913Z",
     "iopub.status.idle": "2022-09-08T14:30:13.428141Z",
     "shell.execute_reply": "2022-09-08T14:30:13.427367Z"
    },
    "papermill": {
     "duration": 0.364269,
     "end_time": "2022-09-08T14:30:13.430234",
     "exception": false,
     "start_time": "2022-09-08T14:30:13.065965",
     "status": "completed"
    },
    "tags": []
   },
   "outputs": [
    {
     "data": {
      "image/png": "[encoded data removed]",
      "text/plain": [
       "<Figure size 576x432 with 2 Axes>"
      ]
     },
     "metadata": {
      "needs_background": "light"
     },
     "output_type": "display_data"
    }
   ],
   "source": [
    "mask = np.triu(np.ones_like(final_df_corr, dtype=bool))\n",
    "plt.figure(figsize=(8,6))\n",
    "sns.heatmap(final_df_corr,annot=True, mask = mask, cmap=plt.cm.YlGnBu)\n",
    "plt.xticks(rotation=45)\n",
    "plt.show()"
   ]
  },
  {
   "cell_type": "markdown",
   "id": "575661c8",
   "metadata": {
    "papermill": {
     "duration": 0.018982,
     "end_time": "2022-09-08T14:30:13.468753",
     "exception": false,
     "start_time": "2022-09-08T14:30:13.449771",
     "status": "completed"
    },
    "tags": []
   },
   "source": [
    "### 5.2. Feature Selection\n",
    "In this phase, those feature(s) will be selected which have the better correlation (threshold > 0.25) with the target variable `isFraud`. These features will help to develop a better classification model for predictive analysis."
   ]
  },
  {
   "cell_type": "code",
   "execution_count": 30,
   "id": "97c882b7",
   "metadata": {
    "execution": {
     "iopub.execute_input": "2022-09-08T14:30:13.509467Z",
     "iopub.status.busy": "2022-09-08T14:30:13.508874Z",
     "iopub.status.idle": "2022-09-08T14:30:13.517879Z",
     "shell.execute_reply": "2022-09-08T14:30:13.516823Z"
    },
    "papermill": {
     "duration": 0.032314,
     "end_time": "2022-09-08T14:30:13.520428",
     "exception": false,
     "start_time": "2022-09-08T14:30:13.488114",
     "status": "completed"
    },
    "tags": []
   },
   "outputs": [
    {
     "data": {
      "text/plain": [
       "isFraud            1.000000\n",
       "balanceOrigDiff    0.362041\n",
       "Name: isFraud, dtype: float64"
      ]
     },
     "execution_count": 30,
     "metadata": {},
     "output_type": "execute_result"
    }
   ],
   "source": [
    "cor_target = abs(final_df_corr[\"isFraud\"])\n",
    "\n",
    "relevant_train_features = cor_target[cor_target>0.25]\n",
    "relevant_train_features"
   ]
  },
  {
   "cell_type": "markdown",
   "id": "f66cc708",
   "metadata": {
    "papermill": {
     "duration": 0.018899,
     "end_time": "2022-09-08T14:30:13.558812",
     "exception": false,
     "start_time": "2022-09-08T14:30:13.539913",
     "status": "completed"
    },
    "tags": []
   },
   "source": [
    "During the analysis, `balanceOrigDiff` attribute has the highest correlation with the target variable `isFraud`. So, this variable has been selected as the relevant training feature to predict fraud transactions."
   ]
  },
  {
   "cell_type": "code",
   "execution_count": 31,
   "id": "1fafc2c7",
   "metadata": {
    "execution": {
     "iopub.execute_input": "2022-09-08T14:30:13.599141Z",
     "iopub.status.busy": "2022-09-08T14:30:13.598712Z",
     "iopub.status.idle": "2022-09-08T14:30:13.638261Z",
     "shell.execute_reply": "2022-09-08T14:30:13.637116Z"
    },
    "papermill": {
     "duration": 0.062468,
     "end_time": "2022-09-08T14:30:13.640560",
     "exception": false,
     "start_time": "2022-09-08T14:30:13.578092",
     "status": "completed"
    },
    "tags": []
   },
   "outputs": [
    {
     "data": {
      "text/html": [
       "<div>\n",
       "<style scoped>\n",
       "    .dataframe tbody tr th:only-of-type {\n",
       "        vertical-align: middle;\n",
       "    }\n",
       "\n",
       "    .dataframe tbody tr th {\n",
       "        vertical-align: top;\n",
       "    }\n",
       "\n",
       "    .dataframe thead th {\n",
       "        text-align: right;\n",
       "    }\n",
       "</style>\n",
       "<table border=\"1\" class=\"dataframe\">\n",
       "  <thead>\n",
       "    <tr style=\"text-align: right;\">\n",
       "      <th></th>\n",
       "      <th>balanceOrigDiff</th>\n",
       "      <th>isFraud</th>\n",
       "    </tr>\n",
       "  </thead>\n",
       "  <tbody>\n",
       "    <tr>\n",
       "      <th>0</th>\n",
       "      <td>9839.64</td>\n",
       "      <td>0</td>\n",
       "    </tr>\n",
       "    <tr>\n",
       "      <th>1</th>\n",
       "      <td>1864.28</td>\n",
       "      <td>0</td>\n",
       "    </tr>\n",
       "    <tr>\n",
       "      <th>2</th>\n",
       "      <td>181.00</td>\n",
       "      <td>1</td>\n",
       "    </tr>\n",
       "    <tr>\n",
       "      <th>3</th>\n",
       "      <td>181.00</td>\n",
       "      <td>1</td>\n",
       "    </tr>\n",
       "    <tr>\n",
       "      <th>4</th>\n",
       "      <td>11668.14</td>\n",
       "      <td>0</td>\n",
       "    </tr>\n",
       "  </tbody>\n",
       "</table>\n",
       "</div>"
      ],
      "text/plain": [
       "   balanceOrigDiff  isFraud\n",
       "0          9839.64        0\n",
       "1          1864.28        0\n",
       "2           181.00        1\n",
       "3           181.00        1\n",
       "4         11668.14        0"
      ]
     },
     "execution_count": 31,
     "metadata": {},
     "output_type": "execute_result"
    }
   ],
   "source": [
    "final_fraud_data = final_df[['balanceOrigDiff', 'isFraud']]\n",
    "final_fraud_data.head()"
   ]
  },
  {
   "cell_type": "markdown",
   "id": "3f800d05",
   "metadata": {
    "papermill": {
     "duration": 0.019393,
     "end_time": "2022-09-08T14:30:13.679667",
     "exception": false,
     "start_time": "2022-09-08T14:30:13.660274",
     "status": "completed"
    },
    "tags": []
   },
   "source": [
    "### 5.2. Train-Test-Val Split"
   ]
  },
  {
   "cell_type": "markdown",
   "id": "f10664d9",
   "metadata": {
    "papermill": {
     "duration": 0.020611,
     "end_time": "2022-09-08T14:30:13.719870",
     "exception": false,
     "start_time": "2022-09-08T14:30:13.699259",
     "status": "completed"
    },
    "tags": []
   },
   "source": [
    "The fraud data will be divided into **X** and **y** sets based on the feature variables and the target variable. The **X** set contains the independent variable`balanceOrigDiff` and the **y** set contains the dependent variable `isFraud`. The X and y sets have been divided into **80:20** ratio i.e. **80%** of data can be used for **training** purpose and **20%** of data can be used for **validation** purpose."
   ]
  },
  {
   "cell_type": "code",
   "execution_count": 32,
   "id": "0fbecf73",
   "metadata": {
    "execution": {
     "iopub.execute_input": "2022-09-08T14:30:13.761554Z",
     "iopub.status.busy": "2022-09-08T14:30:13.760765Z",
     "iopub.status.idle": "2022-09-08T14:30:13.806454Z",
     "shell.execute_reply": "2022-09-08T14:30:13.805055Z"
    },
    "papermill": {
     "duration": 0.070195,
     "end_time": "2022-09-08T14:30:13.809963",
     "exception": false,
     "start_time": "2022-09-08T14:30:13.739768",
     "status": "completed"
    },
    "tags": []
   },
   "outputs": [],
   "source": [
    "X = final_fraud_data.drop(['isFraud'], axis=1)\n",
    "y = final_fraud_data['isFraud']"
   ]
  },
  {
   "cell_type": "code",
   "execution_count": 33,
   "id": "49b1cd52",
   "metadata": {
    "execution": {
     "iopub.execute_input": "2022-09-08T14:30:13.851415Z",
     "iopub.status.busy": "2022-09-08T14:30:13.851037Z",
     "iopub.status.idle": "2022-09-08T14:30:14.863908Z",
     "shell.execute_reply": "2022-09-08T14:30:14.862397Z"
    },
    "papermill": {
     "duration": 1.036281,
     "end_time": "2022-09-08T14:30:14.866393",
     "exception": false,
     "start_time": "2022-09-08T14:30:13.830112",
     "status": "completed"
    },
    "tags": []
   },
   "outputs": [
    {
     "name": "stdout",
     "output_type": "stream",
     "text": [
      "(5090084, 1) (1272521, 1) (5090084,) (1272521,)\n"
     ]
    }
   ],
   "source": [
    "X_train, X_val, y_train, y_val = train_test_split(X, y, test_size=0.2, random_state=100)\n",
    "print(X_train.shape,X_val.shape,y_train.shape,y_val.shape)"
   ]
  },
  {
   "cell_type": "markdown",
   "id": "69e4ecba",
   "metadata": {
    "papermill": {
     "duration": 0.019486,
     "end_time": "2022-09-08T14:30:14.906194",
     "exception": false,
     "start_time": "2022-09-08T14:30:14.886708",
     "status": "completed"
    },
    "tags": []
   },
   "source": [
    "### 5.3 Logistic Regression Model\n",
    "- In order to build the predictive model, the machine learning-based classifier has been trained based on the training data and validated using the validation data to analyze the model performance.\n",
    "- The confusion matrix and classification report have been presented for the classification model to understand the model performance on the corresponding dataset."
   ]
  },
  {
   "cell_type": "markdown",
   "id": "c6d728a3",
   "metadata": {
    "papermill": {
     "duration": 0.019396,
     "end_time": "2022-09-08T14:30:14.945370",
     "exception": false,
     "start_time": "2022-09-08T14:30:14.925974",
     "status": "completed"
    },
    "tags": []
   },
   "source": [
    "#### 5.3.1 Model Training"
   ]
  },
  {
   "cell_type": "code",
   "execution_count": 34,
   "id": "d1c8ed7e",
   "metadata": {
    "execution": {
     "iopub.execute_input": "2022-09-08T14:30:14.987760Z",
     "iopub.status.busy": "2022-09-08T14:30:14.987361Z",
     "iopub.status.idle": "2022-09-08T14:30:32.701278Z",
     "shell.execute_reply": "2022-09-08T14:30:32.699725Z"
    },
    "papermill": {
     "duration": 17.740131,
     "end_time": "2022-09-08T14:30:32.705659",
     "exception": false,
     "start_time": "2022-09-08T14:30:14.965528",
     "status": "completed"
    },
    "tags": []
   },
   "outputs": [
    {
     "data": {
      "text/plain": [
       "LogisticRegression()"
      ]
     },
     "execution_count": 34,
     "metadata": {},
     "output_type": "execute_result"
    }
   ],
   "source": [
    "log_reg_model = LogisticRegression()\n",
    "log_reg_model.fit(X_train, y_train)"
   ]
  },
  {
   "cell_type": "code",
   "execution_count": 35,
   "id": "adc66fe9",
   "metadata": {
    "execution": {
     "iopub.execute_input": "2022-09-08T14:30:32.808818Z",
     "iopub.status.busy": "2022-09-08T14:30:32.808416Z",
     "iopub.status.idle": "2022-09-08T14:30:32.976553Z",
     "shell.execute_reply": "2022-09-08T14:30:32.975465Z"
    },
    "papermill": {
     "duration": 0.220477,
     "end_time": "2022-09-08T14:30:32.979095",
     "exception": false,
     "start_time": "2022-09-08T14:30:32.758618",
     "status": "completed"
    },
    "tags": []
   },
   "outputs": [
    {
     "data": {
      "text/plain": [
       "array([0, 0, 0, ..., 0, 0, 0])"
      ]
     },
     "execution_count": 35,
     "metadata": {},
     "output_type": "execute_result"
    }
   ],
   "source": [
    "log_reg_model.predict(X_val)"
   ]
  },
  {
   "cell_type": "markdown",
   "id": "4ac5921d",
   "metadata": {
    "papermill": {
     "duration": 0.019542,
     "end_time": "2022-09-08T14:30:33.018661",
     "exception": false,
     "start_time": "2022-09-08T14:30:32.999119",
     "status": "completed"
    },
    "tags": []
   },
   "source": [
    "#### 5.3.2 Model Performance Analysis"
   ]
  },
  {
   "cell_type": "code",
   "execution_count": 36,
   "id": "baeaa64e",
   "metadata": {
    "execution": {
     "iopub.execute_input": "2022-09-08T14:30:33.060975Z",
     "iopub.status.busy": "2022-09-08T14:30:33.060208Z",
     "iopub.status.idle": "2022-09-08T14:30:33.197793Z",
     "shell.execute_reply": "2022-09-08T14:30:33.196502Z"
    },
    "papermill": {
     "duration": 0.163017,
     "end_time": "2022-09-08T14:30:33.201754",
     "exception": false,
     "start_time": "2022-09-08T14:30:33.038737",
     "status": "completed"
    },
    "tags": []
   },
   "outputs": [
    {
     "name": "stdout",
     "output_type": "stream",
     "text": [
      "The classification accuracy of Logistic Regression model is 99.91%\n"
     ]
    }
   ],
   "source": [
    "log_reg_model_score = log_reg_model.score(X_val, y_val)\n",
    "log_reg_model_accuracy = round(log_reg_model_score*100, 2)\n",
    "print(\"The classification accuracy of Logistic Regression model is \"+ str(log_reg_model_accuracy)+\"%\")"
   ]
  },
  {
   "cell_type": "markdown",
   "id": "ec9b0ff2",
   "metadata": {
    "papermill": {
     "duration": 0.019594,
     "end_time": "2022-09-08T14:30:33.242330",
     "exception": false,
     "start_time": "2022-09-08T14:30:33.222736",
     "status": "completed"
    },
    "tags": []
   },
   "source": [
    "During predictive analysis, the **Logistic Regression** model has achieved significant prediction accuracy on the validation data. It has been found that the **Logistic Regression** model achieved **99.91%** prediction accuracy for classifying the fraud and potential customers based on the selected features."
   ]
  },
  {
   "cell_type": "code",
   "execution_count": 37,
   "id": "658ad3fa",
   "metadata": {
    "execution": {
     "iopub.execute_input": "2022-09-08T14:30:33.284118Z",
     "iopub.status.busy": "2022-09-08T14:30:33.283345Z",
     "iopub.status.idle": "2022-09-08T14:30:33.821461Z",
     "shell.execute_reply": "2022-09-08T14:30:33.820149Z"
    },
    "papermill": {
     "duration": 0.561906,
     "end_time": "2022-09-08T14:30:33.824078",
     "exception": false,
     "start_time": "2022-09-08T14:30:33.262172",
     "status": "completed"
    },
    "tags": []
   },
   "outputs": [
    {
     "data": {
      "text/plain": [
       "Text(0.5, 1.0, 'Logistic Regression Confusion Matrix')"
      ]
     },
     "execution_count": 37,
     "metadata": {},
     "output_type": "execute_result"
    },
    {
     "data": {
      "image/png": "[encoded data removed]",
      "text/plain": [
       "<Figure size 432x288 with 2 Axes>"
      ]
     },
     "metadata": {
      "needs_background": "light"
     },
     "output_type": "display_data"
    }
   ],
   "source": [
    "y_pred = log_reg_model.predict(X_val)\n",
    "cm = confusion_matrix(y_val,y_pred)\n",
    "axes = sns.heatmap(cm, annot=True, annot_kws={\"size\": 16}, fmt='g', linewidths=.5)\n",
    "class_labels = ['Not Fraud', 'Fraud']\n",
    "\n",
    "axes.set_xlabel('Actual', fontsize=12)\n",
    "axes.set_ylabel('Predicted', fontsize=12)\n",
    "\n",
    "xtick_marks = np.arange(len(class_labels)) + 0.5\n",
    "ytick_marks = np.arange(len(class_labels)) + 0.5\n",
    "\n",
    "axes.set_xticks(xtick_marks)\n",
    "axes.set_xticklabels(class_labels, rotation=45)\n",
    "\n",
    "axes.set_yticks(ytick_marks)\n",
    "axes.set_yticklabels(class_labels, rotation=0)\n",
    "\n",
    "axes.set_title('Logistic Regression Confusion Matrix', fontsize=14, pad=20)"
   ]
  },
  {
   "cell_type": "markdown",
   "id": "fffefc28",
   "metadata": {
    "papermill": {
     "duration": 0.023899,
     "end_time": "2022-09-08T14:30:33.870829",
     "exception": false,
     "start_time": "2022-09-08T14:30:33.846930",
     "status": "completed"
    },
    "tags": []
   },
   "source": [
    "The validation data consists of total **1270871** cases of genuine and **1650** cases of fraud transaction records.\n",
    "\n",
    "From the confusion matrix it has been found how many transactions have been classified correctly by the classifier as follows -\n",
    "- **TP = True Positive** (Actual -> Not Fraud ; Predicted -> Not Fraud) = 1270741 cases\n",
    "- **FP = False Positive** (Actual -> Fraud ; Predicted -> Not Fraud) = 130 cases\n",
    "- **FN = False Negative** (Actual -> Not Fraud ; Predicted -> Fraud) = 1046 cases\n",
    "- **TN = True Negative** (Actual -> Fraud ; Predicted -> Fraud) = 604 cases"
   ]
  },
  {
   "cell_type": "code",
   "execution_count": 38,
   "id": "c38c82df",
   "metadata": {
    "execution": {
     "iopub.execute_input": "2022-09-08T14:30:33.915486Z",
     "iopub.status.busy": "2022-09-08T14:30:33.915003Z",
     "iopub.status.idle": "2022-09-08T14:30:36.294026Z",
     "shell.execute_reply": "2022-09-08T14:30:36.292774Z"
    },
    "papermill": {
     "duration": 2.404071,
     "end_time": "2022-09-08T14:30:36.296460",
     "exception": false,
     "start_time": "2022-09-08T14:30:33.892389",
     "status": "completed"
    },
    "tags": []
   },
   "outputs": [
    {
     "name": "stdout",
     "output_type": "stream",
     "text": [
      "Logistic Regression Classification Report\n",
      "=========================================\n",
      "\n",
      "              precision    recall  f1-score   support\n",
      "\n",
      "   Not Fraud       1.00      1.00      1.00   1270871\n",
      "       Fraud       0.82      0.37      0.51      1650\n",
      "\n",
      "    accuracy                           1.00   1272521\n",
      "   macro avg       0.91      0.68      0.75   1272521\n",
      "weighted avg       1.00      1.00      1.00   1272521\n",
      "\n"
     ]
    }
   ],
   "source": [
    "print('Logistic Regression Classification Report')\n",
    "print('=========================================')\n",
    "print()\n",
    "print(classification_report(y_val, y_pred, target_names=class_labels))"
   ]
  },
  {
   "cell_type": "markdown",
   "id": "496317a2",
   "metadata": {
    "papermill": {
     "duration": 0.02075,
     "end_time": "2022-09-08T14:30:36.337821",
     "exception": false,
     "start_time": "2022-09-08T14:30:36.317071",
     "status": "completed"
    },
    "tags": []
   },
   "source": [
    "The model performance has been analyzed using the following metrics -\n",
    "$$\\mathrm{precision =\\ }\\frac{\\mathrm{TP}}{\\mathrm{TP + FP}}\\mathrm{\\ =\\ }\\frac{\\mathrm{1270741}}{\\mathrm{1270741 + 130}}\\mathrm{\\ = 0.99989\\ (approx.)\\ }$$\n",
    "\n",
    "$$\\mathrm{recall =\\ }\\frac{\\mathrm{TP}}{\\mathrm{TP + FN}}\\mathrm{\\ =\\ }\\frac{\\mathrm{1270741}}{\\mathrm{1270741 + 1046}}\\mathrm{\\ = 0.99918\\ (approx.)\\ }$$\n",
    "\n",
    "$$\\mathrm{f1-score =\\ }\\frac{\\mathrm{2 * precision * recall}}{\\mathrm{precision + recall}}\\mathrm{\\ =\\ }\\frac{\\mathrm{2 * 0.99989 * 0.99918}}{\\mathrm{0.99989 + 0.99918}}\\mathrm{\\ = 0.99954\\ (approx.)\\ }$$\n",
    "\n",
    "$$\\mathrm{accuracy =\\ }\\frac{\\mathrm{TP + TN}}{\\mathrm{TP + FP + FN + TN}}\\mathrm{\\ =\\ }\\frac{\\mathrm{1270741 + 604}}{\\mathrm{1270741 + 130+ 1046 + 604}}\\mathrm{\\ = 0.99908\\ (approx.)\\ }$$"
   ]
  },
  {
   "cell_type": "markdown",
   "id": "d5c36751",
   "metadata": {
    "papermill": {
     "duration": 0.020567,
     "end_time": "2022-09-08T14:30:36.378830",
     "exception": false,
     "start_time": "2022-09-08T14:30:36.358263",
     "status": "completed"
    },
    "tags": []
   },
   "source": [
    "#### Key factors to predict fraudulent customers -\n",
    "- Need to check that the amount is debited from the customer's account, whether the same amount is credited to the destonation account or not. If the same amount is credited to the destonation account then the transaction is genuine.\n",
    "- The balance details for destination accounts are not sufficient since the Marchent accounts have no records. So it is difficult to predict the fraud transactions having marchent's account as the destonation account."
   ]
  },
  {
   "cell_type": "markdown",
   "id": "92627a86",
   "metadata": {
    "papermill": {
     "duration": 0.020238,
     "end_time": "2022-09-08T14:30:36.419431",
     "exception": false,
     "start_time": "2022-09-08T14:30:36.399193",
     "status": "completed"
    },
    "tags": []
   },
   "source": [
    "#### Further Preventions\n",
    "- Detailed customer information needs to be collected at the initial stage. These details may include Name, DOB, Address, Contact, and Unique Gov. IDs (for verification).\n",
    "- The online secure transaction API can be used for payment gateway.\n",
    "- Maintain the data of the fraud customers.\n",
    "- Update the legal policy against fraud customers."
   ]
  },
  {
   "cell_type": "markdown",
   "id": "403868ed",
   "metadata": {
    "papermill": {
     "duration": 0.020085,
     "end_time": "2022-09-08T14:30:36.459889",
     "exception": false,
     "start_time": "2022-09-08T14:30:36.439804",
     "status": "completed"
    },
    "tags": []
   },
   "source": [
    "#### Future Implementation \n",
    "- Detailed customer records help to identify authentic customers which will help to prevent fraud transactions.\n",
    "- The online secure transaction API help to prevent any unauthorized activities during the online payment.\n",
    "- The new customer's data needs to be matched with the previous fraud customers to prevent fraud transactions.\n",
    "\n",
    "Furthermore, a secure web application can be developed based on this predictive system for analyzing customer data to predict whether the customer is fraudulent or not. The web-based system will display the predicted outcome through its user interface. After the deployment of the web-based system in the server, the user of the predictive system need not to be concerned about the backend analysis. It will further help to implement an abstraction between the user and developer levels."
   ]
  }
 ],
 "metadata": {
  "kernelspec": {
   "display_name": "Python 3",
   "language": "python",
   "name": "python3"
  },
  "language_info": {
   "codemirror_mode": {
    "name": "ipython",
    "version": 3
   },
   "file_extension": ".py",
   "mimetype": "text/x-python",
   "name": "python",
   "nbconvert_exporter": "python",
   "pygments_lexer": "ipython3",
   "version": "3.7.12"
  },
  "papermill": {
   "default_parameters": {},
   "duration": 112.613542,
   "end_time": "2022-09-08T14:30:37.704423",
   "environment_variables": {},
   "exception": null,
   "input_path": "__notebook__.ipynb",
   "output_path": "__notebook__.ipynb",
   "parameters": {},
   "start_time": "2022-09-08T14:28:45.090881",
   "version": "2.3.4"
  }
 },
 "nbformat": 4,
 "nbformat_minor": 5
}
