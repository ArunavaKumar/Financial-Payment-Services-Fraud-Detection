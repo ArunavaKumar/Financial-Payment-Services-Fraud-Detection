{
 "cells": [
  {
   "cell_type": "markdown",
   "id": "3a37c7fa",
   "metadata": {},
   "source": [
    "## Financial Payment Services Fraud Detection Analysis\n",
    "\n",
    "### Data Science & Machine Learning\n",
    "\n",
    "#### Arunava Kumar Chakraborty"
   ]
  },
  {
   "cell_type": "markdown",
   "id": "8d2265f2",
   "metadata": {},
   "source": [
    "This Data Science assignment presents a Machine Learning-based predictive approach to explore the given **Fraud** CSV dataset. The Dataset has been uploaded in my Kaggle repository (www.kaggle.com/arunavakrchakraborty/financial-payment-services-fraud-data).\n",
    "\n",
    "I have Proposed an experimental approach to develop a Fraud detection model to predict future Fraud cases based on the other features. The best feature variables need to be selected on the basis of their linear relationships. Furthermore, the following ML-based models will be developed to build the predictive system.\n",
    "- **Linear Regression**\n",
    "- **Logistic Regression**\n",
    "- **K-Nearest Neighbors**\n",
    "- **Decision Tree** \n",
    "- **AdaBoost Tree**\n",
    "\n",
    "The models will be trained using the training data and predict the fraud caused from the test data to identify the fraudulent customer. The best-performing model will be selected as the final model for preparing the predictive system."
   ]
  },
  {
   "cell_type": "markdown",
   "id": "87731bfa",
   "metadata": {},
   "source": [
    "## 1. Importing Packages"
   ]
  },
  {
   "cell_type": "markdown",
   "id": "c605049a",
   "metadata": {},
   "source": [
    "Here, required Python packages have been imported for the analysis.\n",
    "\n",
    "- The **pandas**, **numpy** packages are required for basic analysis.\n",
    "- The **matplotlib**, **seaborn**, **yellowbrick** packages are used for visualization purpose.\n",
    "- The **statsmodels** package is required to perform the statistical analysis of the data.\n",
    "- The **sklearn** package is used for importing machine learning models for regression analysis."
   ]
  },
  {
   "cell_type": "code",
   "execution_count": 1,
   "id": "5a337d9b",
   "metadata": {},
   "outputs": [],
   "source": [
    "import pandas as pd\n",
    "import numpy as np\n",
    "import matplotlib.pyplot as plt\n",
    "import seaborn as sns\n",
    "\n",
    "import statsmodels.api as sm\n",
    "from statsmodels.stats.outliers_influence import variance_inflation_factor\n",
    "\n",
    "from sklearn.model_selection import train_test_split\n",
    "from sklearn.linear_model import LinearRegression\n",
    "from sklearn.neighbors import KNeighborsRegressor\n",
    "from sklearn.tree import DecisionTreeRegressor\n",
    "from sklearn.ensemble import AdaBoostRegressor\n",
    "from sklearn.ensemble import RandomForestRegressor\n",
    "from sklearn.metrics import accuracy_score, classification_report, confusion_matrix\n",
    "\n",
    "from yellowbrick.datasets import load_concrete\n",
    "from yellowbrick.regressor import PredictionError\n",
    "\n",
    "import warnings\n",
    "warnings.filterwarnings('ignore')\n",
    "%matplotlib inline"
   ]
  },
  {
   "cell_type": "markdown",
   "id": "a24e145b",
   "metadata": {},
   "source": [
    "## 2. Load Datasets"
   ]
  },
  {
   "cell_type": "markdown",
   "id": "8f0acf67",
   "metadata": {},
   "source": [
    "In this section, the given dataset **Fraud.csv** has been loaded into the pandas dataframe."
   ]
  },
  {
   "cell_type": "code",
   "execution_count": 2,
   "id": "af70274a",
   "metadata": {},
   "outputs": [
    {
     "data": {
      "text/html": [
       "<div>\n",
       "<style scoped>\n",
       "    .dataframe tbody tr th:only-of-type {\n",
       "        vertical-align: middle;\n",
       "    }\n",
       "\n",
       "    .dataframe tbody tr th {\n",
       "        vertical-align: top;\n",
       "    }\n",
       "\n",
       "    .dataframe thead th {\n",
       "        text-align: right;\n",
       "    }\n",
       "</style>\n",
       "<table border=\"1\" class=\"dataframe\">\n",
       "  <thead>\n",
       "    <tr style=\"text-align: right;\">\n",
       "      <th></th>\n",
       "      <th>step</th>\n",
       "      <th>type</th>\n",
       "      <th>amount</th>\n",
       "      <th>nameOrig</th>\n",
       "      <th>oldbalanceOrg</th>\n",
       "      <th>newbalanceOrig</th>\n",
       "      <th>nameDest</th>\n",
       "      <th>oldbalanceDest</th>\n",
       "      <th>newbalanceDest</th>\n",
       "      <th>isFraud</th>\n",
       "      <th>isFlaggedFraud</th>\n",
       "    </tr>\n",
       "  </thead>\n",
       "  <tbody>\n",
       "    <tr>\n",
       "      <th>0</th>\n",
       "      <td>1</td>\n",
       "      <td>PAYMENT</td>\n",
       "      <td>9839.64</td>\n",
       "      <td>C1231006815</td>\n",
       "      <td>170136.0</td>\n",
       "      <td>160296.36</td>\n",
       "      <td>M1979787155</td>\n",
       "      <td>0.0</td>\n",
       "      <td>0.0</td>\n",
       "      <td>0</td>\n",
       "      <td>0</td>\n",
       "    </tr>\n",
       "    <tr>\n",
       "      <th>1</th>\n",
       "      <td>1</td>\n",
       "      <td>PAYMENT</td>\n",
       "      <td>1864.28</td>\n",
       "      <td>C1666544295</td>\n",
       "      <td>21249.0</td>\n",
       "      <td>19384.72</td>\n",
       "      <td>M2044282225</td>\n",
       "      <td>0.0</td>\n",
       "      <td>0.0</td>\n",
       "      <td>0</td>\n",
       "      <td>0</td>\n",
       "    </tr>\n",
       "    <tr>\n",
       "      <th>2</th>\n",
       "      <td>1</td>\n",
       "      <td>TRANSFER</td>\n",
       "      <td>181.00</td>\n",
       "      <td>C1305486145</td>\n",
       "      <td>181.0</td>\n",
       "      <td>0.00</td>\n",
       "      <td>C553264065</td>\n",
       "      <td>0.0</td>\n",
       "      <td>0.0</td>\n",
       "      <td>1</td>\n",
       "      <td>0</td>\n",
       "    </tr>\n",
       "    <tr>\n",
       "      <th>3</th>\n",
       "      <td>1</td>\n",
       "      <td>CASH_OUT</td>\n",
       "      <td>181.00</td>\n",
       "      <td>C840083671</td>\n",
       "      <td>181.0</td>\n",
       "      <td>0.00</td>\n",
       "      <td>C38997010</td>\n",
       "      <td>21182.0</td>\n",
       "      <td>0.0</td>\n",
       "      <td>1</td>\n",
       "      <td>0</td>\n",
       "    </tr>\n",
       "    <tr>\n",
       "      <th>4</th>\n",
       "      <td>1</td>\n",
       "      <td>PAYMENT</td>\n",
       "      <td>11668.14</td>\n",
       "      <td>C2048537720</td>\n",
       "      <td>41554.0</td>\n",
       "      <td>29885.86</td>\n",
       "      <td>M1230701703</td>\n",
       "      <td>0.0</td>\n",
       "      <td>0.0</td>\n",
       "      <td>0</td>\n",
       "      <td>0</td>\n",
       "    </tr>\n",
       "  </tbody>\n",
       "</table>\n",
       "</div>"
      ],
      "text/plain": [
       "   step      type    amount     nameOrig  oldbalanceOrg  newbalanceOrig  \\\n",
       "0     1   PAYMENT   9839.64  C1231006815       170136.0       160296.36   \n",
       "1     1   PAYMENT   1864.28  C1666544295        21249.0        19384.72   \n",
       "2     1  TRANSFER    181.00  C1305486145          181.0            0.00   \n",
       "3     1  CASH_OUT    181.00   C840083671          181.0            0.00   \n",
       "4     1   PAYMENT  11668.14  C2048537720        41554.0        29885.86   \n",
       "\n",
       "      nameDest  oldbalanceDest  newbalanceDest  isFraud  isFlaggedFraud  \n",
       "0  M1979787155             0.0             0.0        0               0  \n",
       "1  M2044282225             0.0             0.0        0               0  \n",
       "2   C553264065             0.0             0.0        1               0  \n",
       "3    C38997010         21182.0             0.0        1               0  \n",
       "4  M1230701703             0.0             0.0        0               0  "
      ]
     },
     "execution_count": 2,
     "metadata": {},
     "output_type": "execute_result"
    }
   ],
   "source": [
    "fraud_df = pd.read_csv(\"Fraud.csv\")\n",
    "fraud_df.head()"
   ]
  },
  {
   "cell_type": "code",
   "execution_count": 3,
   "id": "2efab31e",
   "metadata": {},
   "outputs": [
    {
     "name": "stdout",
     "output_type": "stream",
     "text": [
      "<class 'pandas.core.frame.DataFrame'>\n",
      "RangeIndex: 6362620 entries, 0 to 6362619\n",
      "Data columns (total 11 columns):\n",
      " #   Column          Dtype  \n",
      "---  ------          -----  \n",
      " 0   step            int64  \n",
      " 1   type            object \n",
      " 2   amount          float64\n",
      " 3   nameOrig        object \n",
      " 4   oldbalanceOrg   float64\n",
      " 5   newbalanceOrig  float64\n",
      " 6   nameDest        object \n",
      " 7   oldbalanceDest  float64\n",
      " 8   newbalanceDest  float64\n",
      " 9   isFraud         int64  \n",
      " 10  isFlaggedFraud  int64  \n",
      "dtypes: float64(5), int64(3), object(3)\n",
      "memory usage: 534.0+ MB\n"
     ]
    }
   ],
   "source": [
    "fraud_df.info()"
   ]
  },
  {
   "cell_type": "markdown",
   "id": "33bb3163",
   "metadata": {},
   "source": [
    "## 3. Data Pre-processing"
   ]
  },
  {
   "cell_type": "markdown",
   "id": "3a56757d",
   "metadata": {},
   "source": [
    "In order to prepare the data for the predictive analysis, the dataset needs to be pre-processed at the initial phase of the experiment. The entire pre-processing of the data mainly consists of the following phases -\n",
    "- **Missing Values Removal -** In this phase we will search for the missing values from the dataset.\n",
    "- **Outliers Removal -** In this section all the outliers from the numerical columns will be identified and removed from the dataset.\n",
    "- **Multi-collinearity Removal -** In this phase all the Multi-collinearity will be identified and removed for the datasets after calculating the difference values of the respective features."
   ]
  },
  {
   "cell_type": "markdown",
   "id": "37dc13d4",
   "metadata": {},
   "source": [
    "### 3.1. Missing Values Removal"
   ]
  },
  {
   "cell_type": "code",
   "execution_count": 4,
   "id": "cd13cdff",
   "metadata": {},
   "outputs": [
    {
     "data": {
      "text/plain": [
       "step              0.0\n",
       "type              0.0\n",
       "amount            0.0\n",
       "nameOrig          0.0\n",
       "oldbalanceOrg     0.0\n",
       "newbalanceOrig    0.0\n",
       "nameDest          0.0\n",
       "oldbalanceDest    0.0\n",
       "newbalanceDest    0.0\n",
       "isFraud           0.0\n",
       "isFlaggedFraud    0.0\n",
       "dtype: float64"
      ]
     },
     "execution_count": 4,
     "metadata": {},
     "output_type": "execute_result"
    }
   ],
   "source": [
    "fraud_df.isnull().mean()*100"
   ]
  },
  {
   "cell_type": "markdown",
   "id": "45e5772c",
   "metadata": {},
   "source": [
    "During the analysis, no missing values have been found from the dataset."
   ]
  },
  {
   "cell_type": "markdown",
   "id": "61c04bf4",
   "metadata": {},
   "source": [
    "### 3.2. Outliers Removal"
   ]
  },
  {
   "cell_type": "markdown",
   "id": "e9756373",
   "metadata": {},
   "source": [
    "#### 3.2.1. Outliers fromf Amount of the Transaction"
   ]
  },
  {
   "cell_type": "code",
   "execution_count": 5,
   "id": "8ce00d6e",
   "metadata": {},
   "outputs": [
    {
     "data": {
      "image/png": "[encoded data removed]",
      "text/plain": [
       "<Figure size 432x288 with 1 Axes>"
      ]
     },
     "metadata": {
      "needs_background": "light"
     },
     "output_type": "display_data"
    }
   ],
   "source": [
    "plt.boxplot(fraud_df['amount'])\n",
    "plt.show()"
   ]
  },
  {
   "cell_type": "code",
   "execution_count": 6,
   "id": "f895cf60",
   "metadata": {},
   "outputs": [
    {
     "data": {
      "text/html": [
       "<div>\n",
       "<style scoped>\n",
       "    .dataframe tbody tr th:only-of-type {\n",
       "        vertical-align: middle;\n",
       "    }\n",
       "\n",
       "    .dataframe tbody tr th {\n",
       "        vertical-align: top;\n",
       "    }\n",
       "\n",
       "    .dataframe thead th {\n",
       "        text-align: right;\n",
       "    }\n",
       "</style>\n",
       "<table border=\"1\" class=\"dataframe\">\n",
       "  <thead>\n",
       "    <tr style=\"text-align: right;\">\n",
       "      <th></th>\n",
       "      <th>step</th>\n",
       "      <th>type</th>\n",
       "      <th>amount</th>\n",
       "      <th>nameOrig</th>\n",
       "      <th>oldbalanceOrg</th>\n",
       "      <th>newbalanceOrig</th>\n",
       "      <th>nameDest</th>\n",
       "      <th>oldbalanceDest</th>\n",
       "      <th>newbalanceDest</th>\n",
       "      <th>isFraud</th>\n",
       "      <th>isFlaggedFraud</th>\n",
       "    </tr>\n",
       "  </thead>\n",
       "  <tbody>\n",
       "    <tr>\n",
       "      <th>3686583</th>\n",
       "      <td>276</td>\n",
       "      <td>TRANSFER</td>\n",
       "      <td>92445516.64</td>\n",
       "      <td>C1715283297</td>\n",
       "      <td>0.0</td>\n",
       "      <td>0.0</td>\n",
       "      <td>C439737079</td>\n",
       "      <td>9595.98</td>\n",
       "      <td>92455112.62</td>\n",
       "      <td>0</td>\n",
       "      <td>0</td>\n",
       "    </tr>\n",
       "  </tbody>\n",
       "</table>\n",
       "</div>"
      ],
      "text/plain": [
       "         step      type       amount     nameOrig  oldbalanceOrg  \\\n",
       "3686583   276  TRANSFER  92445516.64  C1715283297            0.0   \n",
       "\n",
       "         newbalanceOrig    nameDest  oldbalanceDest  newbalanceDest  isFraud  \\\n",
       "3686583             0.0  C439737079         9595.98     92455112.62        0   \n",
       "\n",
       "         isFlaggedFraud  \n",
       "3686583               0  "
      ]
     },
     "execution_count": 6,
     "metadata": {},
     "output_type": "execute_result"
    }
   ],
   "source": [
    "fraud_df.query('amount>80000000')"
   ]
  },
  {
   "cell_type": "code",
   "execution_count": 7,
   "id": "8a097976",
   "metadata": {},
   "outputs": [],
   "source": [
    "indexNames = fraud_df[fraud_df['amount'] > 80000000].index\n",
    "fraud_df.drop(indexNames , inplace=True)"
   ]
  },
  {
   "cell_type": "markdown",
   "id": "e94086a6",
   "metadata": {},
   "source": [
    "During the analysis, one outlier has been found for the **amount** feature with a value of greater than 80000000. The outlier has been removed from the dataset."
   ]
  },
  {
   "cell_type": "markdown",
   "id": "76c43cdf",
   "metadata": {},
   "source": [
    "#### 3.2.2. Outliers from Initial Balance Before the Transaction"
   ]
  },
  {
   "cell_type": "code",
   "execution_count": 8,
   "id": "24bf167b",
   "metadata": {},
   "outputs": [
    {
     "data": {
      "image/png": "[encoded data removed]",
      "text/plain": [
       "<Figure size 432x288 with 1 Axes>"
      ]
     },
     "metadata": {
      "needs_background": "light"
     },
     "output_type": "display_data"
    }
   ],
   "source": [
    "plt.boxplot(fraud_df['oldbalanceOrg'])\n",
    "plt.show()"
   ]
  },
  {
   "cell_type": "code",
   "execution_count": 9,
   "id": "df70deef",
   "metadata": {},
   "outputs": [
    {
     "data": {
      "text/html": [
       "<div>\n",
       "<style scoped>\n",
       "    .dataframe tbody tr th:only-of-type {\n",
       "        vertical-align: middle;\n",
       "    }\n",
       "\n",
       "    .dataframe tbody tr th {\n",
       "        vertical-align: top;\n",
       "    }\n",
       "\n",
       "    .dataframe thead th {\n",
       "        text-align: right;\n",
       "    }\n",
       "</style>\n",
       "<table border=\"1\" class=\"dataframe\">\n",
       "  <thead>\n",
       "    <tr style=\"text-align: right;\">\n",
       "      <th></th>\n",
       "      <th>step</th>\n",
       "      <th>type</th>\n",
       "      <th>amount</th>\n",
       "      <th>nameOrig</th>\n",
       "      <th>oldbalanceOrg</th>\n",
       "      <th>newbalanceOrig</th>\n",
       "      <th>nameDest</th>\n",
       "      <th>oldbalanceDest</th>\n",
       "      <th>newbalanceDest</th>\n",
       "      <th>isFraud</th>\n",
       "      <th>isFlaggedFraud</th>\n",
       "    </tr>\n",
       "  </thead>\n",
       "  <tbody>\n",
       "    <tr>\n",
       "      <th>5996399</th>\n",
       "      <td>425</td>\n",
       "      <td>TRANSFER</td>\n",
       "      <td>10000000.0</td>\n",
       "      <td>C40489106</td>\n",
       "      <td>59585040.37</td>\n",
       "      <td>49585040.37</td>\n",
       "      <td>C650095152</td>\n",
       "      <td>0.0</td>\n",
       "      <td>0.0</td>\n",
       "      <td>1</td>\n",
       "      <td>0</td>\n",
       "    </tr>\n",
       "    <tr>\n",
       "      <th>6281474</th>\n",
       "      <td>646</td>\n",
       "      <td>TRANSFER</td>\n",
       "      <td>10000000.0</td>\n",
       "      <td>C590657619</td>\n",
       "      <td>50399045.08</td>\n",
       "      <td>40399045.08</td>\n",
       "      <td>C1971187430</td>\n",
       "      <td>0.0</td>\n",
       "      <td>0.0</td>\n",
       "      <td>1</td>\n",
       "      <td>0</td>\n",
       "    </tr>\n",
       "    <tr>\n",
       "      <th>6362452</th>\n",
       "      <td>730</td>\n",
       "      <td>TRANSFER</td>\n",
       "      <td>10000000.0</td>\n",
       "      <td>C726730575</td>\n",
       "      <td>57316255.05</td>\n",
       "      <td>47316255.05</td>\n",
       "      <td>C1364745638</td>\n",
       "      <td>0.0</td>\n",
       "      <td>0.0</td>\n",
       "      <td>1</td>\n",
       "      <td>0</td>\n",
       "    </tr>\n",
       "  </tbody>\n",
       "</table>\n",
       "</div>"
      ],
      "text/plain": [
       "         step      type      amount    nameOrig  oldbalanceOrg  \\\n",
       "5996399   425  TRANSFER  10000000.0   C40489106    59585040.37   \n",
       "6281474   646  TRANSFER  10000000.0  C590657619    50399045.08   \n",
       "6362452   730  TRANSFER  10000000.0  C726730575    57316255.05   \n",
       "\n",
       "         newbalanceOrig     nameDest  oldbalanceDest  newbalanceDest  isFraud  \\\n",
       "5996399     49585040.37   C650095152             0.0             0.0        1   \n",
       "6281474     40399045.08  C1971187430             0.0             0.0        1   \n",
       "6362452     47316255.05  C1364745638             0.0             0.0        1   \n",
       "\n",
       "         isFlaggedFraud  \n",
       "5996399               0  \n",
       "6281474               0  \n",
       "6362452               0  "
      ]
     },
     "execution_count": 9,
     "metadata": {},
     "output_type": "execute_result"
    }
   ],
   "source": [
    "fraud_df.query('oldbalanceOrg>50000000')"
   ]
  },
  {
   "cell_type": "code",
   "execution_count": 10,
   "id": "eed59133",
   "metadata": {},
   "outputs": [],
   "source": [
    "indexNames = fraud_df[fraud_df['oldbalanceOrg'] > 50000000].index\n",
    "fraud_df.drop(indexNames , inplace=True)"
   ]
  },
  {
   "cell_type": "markdown",
   "id": "55c68d35",
   "metadata": {},
   "source": [
    "During the analysis, three outliers have been found for the **oldbalanceOrg** feature with a value of greater than 50000000. The outliers have been removed from the dataset."
   ]
  },
  {
   "cell_type": "markdown",
   "id": "287092aa",
   "metadata": {},
   "source": [
    "#### 3.2.3. Outliers from New Balance After the Transaction"
   ]
  },
  {
   "cell_type": "code",
   "execution_count": 11,
   "id": "6c739ca8",
   "metadata": {},
   "outputs": [
    {
     "data": {
      "image/png": "[encoded data removed]",
      "text/plain": [
       "<Figure size 432x288 with 1 Axes>"
      ]
     },
     "metadata": {
      "needs_background": "light"
     },
     "output_type": "display_data"
    }
   ],
   "source": [
    "plt.boxplot(fraud_df['newbalanceOrig'])\n",
    "plt.show()"
   ]
  },
  {
   "cell_type": "code",
   "execution_count": 12,
   "id": "b9eb359d",
   "metadata": {},
   "outputs": [
    {
     "data": {
      "text/html": [
       "<div>\n",
       "<style scoped>\n",
       "    .dataframe tbody tr th:only-of-type {\n",
       "        vertical-align: middle;\n",
       "    }\n",
       "\n",
       "    .dataframe tbody tr th {\n",
       "        vertical-align: top;\n",
       "    }\n",
       "\n",
       "    .dataframe thead th {\n",
       "        text-align: right;\n",
       "    }\n",
       "</style>\n",
       "<table border=\"1\" class=\"dataframe\">\n",
       "  <thead>\n",
       "    <tr style=\"text-align: right;\">\n",
       "      <th></th>\n",
       "      <th>step</th>\n",
       "      <th>type</th>\n",
       "      <th>amount</th>\n",
       "      <th>nameOrig</th>\n",
       "      <th>oldbalanceOrg</th>\n",
       "      <th>newbalanceOrig</th>\n",
       "      <th>nameDest</th>\n",
       "      <th>oldbalanceDest</th>\n",
       "      <th>newbalanceDest</th>\n",
       "      <th>isFraud</th>\n",
       "      <th>isFlaggedFraud</th>\n",
       "    </tr>\n",
       "  </thead>\n",
       "  <tbody>\n",
       "    <tr>\n",
       "      <th>4180200</th>\n",
       "      <td>304</td>\n",
       "      <td>PAYMENT</td>\n",
       "      <td>8301.85</td>\n",
       "      <td>C1568160039</td>\n",
       "      <td>41699144.49</td>\n",
       "      <td>41690842.64</td>\n",
       "      <td>M1906748245</td>\n",
       "      <td>0.00</td>\n",
       "      <td>0.00</td>\n",
       "      <td>0</td>\n",
       "      <td>0</td>\n",
       "    </tr>\n",
       "    <tr>\n",
       "      <th>4180201</th>\n",
       "      <td>304</td>\n",
       "      <td>CASH_OUT</td>\n",
       "      <td>258483.17</td>\n",
       "      <td>C438977024</td>\n",
       "      <td>41690842.64</td>\n",
       "      <td>41432359.46</td>\n",
       "      <td>C1162702437</td>\n",
       "      <td>6449276.06</td>\n",
       "      <td>6707759.23</td>\n",
       "      <td>0</td>\n",
       "      <td>0</td>\n",
       "    </tr>\n",
       "    <tr>\n",
       "      <th>4203639</th>\n",
       "      <td>305</td>\n",
       "      <td>CASH_OUT</td>\n",
       "      <td>132238.97</td>\n",
       "      <td>C559275248</td>\n",
       "      <td>43818855.30</td>\n",
       "      <td>43686616.33</td>\n",
       "      <td>C1114436169</td>\n",
       "      <td>5327024.57</td>\n",
       "      <td>5459263.54</td>\n",
       "      <td>0</td>\n",
       "      <td>0</td>\n",
       "    </tr>\n",
       "    <tr>\n",
       "      <th>4203640</th>\n",
       "      <td>305</td>\n",
       "      <td>PAYMENT</td>\n",
       "      <td>12814.12</td>\n",
       "      <td>C2080486364</td>\n",
       "      <td>43686616.33</td>\n",
       "      <td>43673802.21</td>\n",
       "      <td>M928977012</td>\n",
       "      <td>0.00</td>\n",
       "      <td>0.00</td>\n",
       "      <td>0</td>\n",
       "      <td>0</td>\n",
       "    </tr>\n",
       "  </tbody>\n",
       "</table>\n",
       "</div>"
      ],
      "text/plain": [
       "         step      type     amount     nameOrig  oldbalanceOrg  \\\n",
       "4180200   304   PAYMENT    8301.85  C1568160039    41699144.49   \n",
       "4180201   304  CASH_OUT  258483.17   C438977024    41690842.64   \n",
       "4203639   305  CASH_OUT  132238.97   C559275248    43818855.30   \n",
       "4203640   305   PAYMENT   12814.12  C2080486364    43686616.33   \n",
       "\n",
       "         newbalanceOrig     nameDest  oldbalanceDest  newbalanceDest  isFraud  \\\n",
       "4180200     41690842.64  M1906748245            0.00            0.00        0   \n",
       "4180201     41432359.46  C1162702437      6449276.06      6707759.23        0   \n",
       "4203639     43686616.33  C1114436169      5327024.57      5459263.54        0   \n",
       "4203640     43673802.21   M928977012            0.00            0.00        0   \n",
       "\n",
       "         isFlaggedFraud  \n",
       "4180200               0  \n",
       "4180201               0  \n",
       "4203639               0  \n",
       "4203640               0  "
      ]
     },
     "execution_count": 12,
     "metadata": {},
     "output_type": "execute_result"
    }
   ],
   "source": [
    "fraud_df.query('newbalanceOrig>40000000')"
   ]
  },
  {
   "cell_type": "code",
   "execution_count": 13,
   "id": "63722a2d",
   "metadata": {},
   "outputs": [],
   "source": [
    "indexNames = fraud_df[fraud_df['newbalanceOrig'] > 40000000].index\n",
    "fraud_df.drop(indexNames , inplace=True)"
   ]
  },
  {
   "cell_type": "markdown",
   "id": "13834d90",
   "metadata": {},
   "source": [
    "During the analysis, four outliers have been found for the **newbalanceOrig** feature with a value of greater than 40000000. The outliers have been removed from the dataset."
   ]
  },
  {
   "cell_type": "markdown",
   "id": "097a0589",
   "metadata": {},
   "source": [
    "#### 3.2.4. Outliers from Initial Balance Recipient Before the Transaction"
   ]
  },
  {
   "cell_type": "code",
   "execution_count": 14,
   "id": "8bbe05b0",
   "metadata": {},
   "outputs": [
    {
     "data": {
      "image/png": "[encoded data removed]",
      "text/plain": [
       "<Figure size 432x288 with 1 Axes>"
      ]
     },
     "metadata": {
      "needs_background": "light"
     },
     "output_type": "display_data"
    }
   ],
   "source": [
    "plt.boxplot(fraud_df['oldbalanceDest'])\n",
    "plt.show()"
   ]
  },
  {
   "cell_type": "code",
   "execution_count": 15,
   "id": "07fcdc6d",
   "metadata": {},
   "outputs": [
    {
     "data": {
      "text/html": [
       "<div>\n",
       "<style scoped>\n",
       "    .dataframe tbody tr th:only-of-type {\n",
       "        vertical-align: middle;\n",
       "    }\n",
       "\n",
       "    .dataframe tbody tr th {\n",
       "        vertical-align: top;\n",
       "    }\n",
       "\n",
       "    .dataframe thead th {\n",
       "        text-align: right;\n",
       "    }\n",
       "</style>\n",
       "<table border=\"1\" class=\"dataframe\">\n",
       "  <thead>\n",
       "    <tr style=\"text-align: right;\">\n",
       "      <th></th>\n",
       "      <th>step</th>\n",
       "      <th>type</th>\n",
       "      <th>amount</th>\n",
       "      <th>nameOrig</th>\n",
       "      <th>oldbalanceOrg</th>\n",
       "      <th>newbalanceOrig</th>\n",
       "      <th>nameDest</th>\n",
       "      <th>oldbalanceDest</th>\n",
       "      <th>newbalanceDest</th>\n",
       "      <th>isFraud</th>\n",
       "      <th>isFlaggedFraud</th>\n",
       "    </tr>\n",
       "  </thead>\n",
       "  <tbody>\n",
       "    <tr>\n",
       "      <th>4596803</th>\n",
       "      <td>328</td>\n",
       "      <td>CASH_IN</td>\n",
       "      <td>171982.69</td>\n",
       "      <td>C758787020</td>\n",
       "      <td>31748.00</td>\n",
       "      <td>203730.69</td>\n",
       "      <td>C439737079</td>\n",
       "      <td>3.555534e+08</td>\n",
       "      <td>3.553814e+08</td>\n",
       "      <td>0</td>\n",
       "      <td>0</td>\n",
       "    </tr>\n",
       "    <tr>\n",
       "      <th>4721497</th>\n",
       "      <td>332</td>\n",
       "      <td>CASH_IN</td>\n",
       "      <td>195896.55</td>\n",
       "      <td>C494525103</td>\n",
       "      <td>4178494.78</td>\n",
       "      <td>4374391.33</td>\n",
       "      <td>C439737079</td>\n",
       "      <td>3.553814e+08</td>\n",
       "      <td>3.551855e+08</td>\n",
       "      <td>0</td>\n",
       "      <td>0</td>\n",
       "    </tr>\n",
       "    <tr>\n",
       "      <th>5380607</th>\n",
       "      <td>376</td>\n",
       "      <td>CASH_OUT</td>\n",
       "      <td>194946.47</td>\n",
       "      <td>C4896808</td>\n",
       "      <td>0.00</td>\n",
       "      <td>0.00</td>\n",
       "      <td>C439737079</td>\n",
       "      <td>3.551855e+08</td>\n",
       "      <td>3.553805e+08</td>\n",
       "      <td>0</td>\n",
       "      <td>0</td>\n",
       "    </tr>\n",
       "    <tr>\n",
       "      <th>5486389</th>\n",
       "      <td>380</td>\n",
       "      <td>TRANSFER</td>\n",
       "      <td>635405.82</td>\n",
       "      <td>C1666289749</td>\n",
       "      <td>0.00</td>\n",
       "      <td>0.00</td>\n",
       "      <td>C439737079</td>\n",
       "      <td>3.553805e+08</td>\n",
       "      <td>3.560159e+08</td>\n",
       "      <td>0</td>\n",
       "      <td>0</td>\n",
       "    </tr>\n",
       "    <tr>\n",
       "      <th>5920180</th>\n",
       "      <td>404</td>\n",
       "      <td>CASH_OUT</td>\n",
       "      <td>163389.56</td>\n",
       "      <td>C1323053481</td>\n",
       "      <td>0.00</td>\n",
       "      <td>0.00</td>\n",
       "      <td>C439737079</td>\n",
       "      <td>3.560159e+08</td>\n",
       "      <td>3.561793e+08</td>\n",
       "      <td>0</td>\n",
       "      <td>0</td>\n",
       "    </tr>\n",
       "  </tbody>\n",
       "</table>\n",
       "</div>"
      ],
      "text/plain": [
       "         step      type     amount     nameOrig  oldbalanceOrg  \\\n",
       "4596803   328   CASH_IN  171982.69   C758787020       31748.00   \n",
       "4721497   332   CASH_IN  195896.55   C494525103     4178494.78   \n",
       "5380607   376  CASH_OUT  194946.47     C4896808           0.00   \n",
       "5486389   380  TRANSFER  635405.82  C1666289749           0.00   \n",
       "5920180   404  CASH_OUT  163389.56  C1323053481           0.00   \n",
       "\n",
       "         newbalanceOrig    nameDest  oldbalanceDest  newbalanceDest  isFraud  \\\n",
       "4596803       203730.69  C439737079    3.555534e+08    3.553814e+08        0   \n",
       "4721497      4374391.33  C439737079    3.553814e+08    3.551855e+08        0   \n",
       "5380607            0.00  C439737079    3.551855e+08    3.553805e+08        0   \n",
       "5486389            0.00  C439737079    3.553805e+08    3.560159e+08        0   \n",
       "5920180            0.00  C439737079    3.560159e+08    3.561793e+08        0   \n",
       "\n",
       "         isFlaggedFraud  \n",
       "4596803               0  \n",
       "4721497               0  \n",
       "5380607               0  \n",
       "5486389               0  \n",
       "5920180               0  "
      ]
     },
     "execution_count": 15,
     "metadata": {},
     "output_type": "execute_result"
    }
   ],
   "source": [
    "fraud_df.query('oldbalanceDest>350000000')"
   ]
  },
  {
   "cell_type": "code",
   "execution_count": 16,
   "id": "bdef082d",
   "metadata": {},
   "outputs": [],
   "source": [
    "indexNames = fraud_df[fraud_df['oldbalanceDest'] > 350000000].index\n",
    "fraud_df.drop(indexNames , inplace=True)"
   ]
  },
  {
   "cell_type": "markdown",
   "id": "2c68bc7d",
   "metadata": {},
   "source": [
    "During the analysis, Five outliers have been found for the **oldbalanceDest** feature with a value of greater than 350000000. The outliers have been removed from the dataset."
   ]
  },
  {
   "cell_type": "markdown",
   "id": "9097050d",
   "metadata": {},
   "source": [
    "#### 3.2.5. Outliers from New Balance Recipient After the Transaction"
   ]
  },
  {
   "cell_type": "code",
   "execution_count": 17,
   "id": "752c8540",
   "metadata": {},
   "outputs": [
    {
     "data": {
      "image/png": "[encoded data removed]",
      "text/plain": [
       "<Figure size 432x288 with 1 Axes>"
      ]
     },
     "metadata": {
      "needs_background": "light"
     },
     "output_type": "display_data"
    }
   ],
   "source": [
    "plt.boxplot(fraud_df['newbalanceDest'])\n",
    "plt.show()"
   ]
  },
  {
   "cell_type": "code",
   "execution_count": 18,
   "id": "b03c704b",
   "metadata": {},
   "outputs": [
    {
     "data": {
      "text/html": [
       "<div>\n",
       "<style scoped>\n",
       "    .dataframe tbody tr th:only-of-type {\n",
       "        vertical-align: middle;\n",
       "    }\n",
       "\n",
       "    .dataframe tbody tr th {\n",
       "        vertical-align: top;\n",
       "    }\n",
       "\n",
       "    .dataframe thead th {\n",
       "        text-align: right;\n",
       "    }\n",
       "</style>\n",
       "<table border=\"1\" class=\"dataframe\">\n",
       "  <thead>\n",
       "    <tr style=\"text-align: right;\">\n",
       "      <th></th>\n",
       "      <th>step</th>\n",
       "      <th>type</th>\n",
       "      <th>amount</th>\n",
       "      <th>nameOrig</th>\n",
       "      <th>oldbalanceOrg</th>\n",
       "      <th>newbalanceOrig</th>\n",
       "      <th>nameDest</th>\n",
       "      <th>oldbalanceDest</th>\n",
       "      <th>newbalanceDest</th>\n",
       "      <th>isFraud</th>\n",
       "      <th>isFlaggedFraud</th>\n",
       "    </tr>\n",
       "  </thead>\n",
       "  <tbody>\n",
       "    <tr>\n",
       "      <th>4124250</th>\n",
       "      <td>302</td>\n",
       "      <td>TRANSFER</td>\n",
       "      <td>3325263.90</td>\n",
       "      <td>C1812458696</td>\n",
       "      <td>0.0</td>\n",
       "      <td>0.0</td>\n",
       "      <td>C439737079</td>\n",
       "      <td>3.215898e+08</td>\n",
       "      <td>355553416.3</td>\n",
       "      <td>0</td>\n",
       "      <td>0</td>\n",
       "    </tr>\n",
       "    <tr>\n",
       "      <th>4133583</th>\n",
       "      <td>302</td>\n",
       "      <td>TRANSFER</td>\n",
       "      <td>30638354.89</td>\n",
       "      <td>C1800693711</td>\n",
       "      <td>0.0</td>\n",
       "      <td>0.0</td>\n",
       "      <td>C439737079</td>\n",
       "      <td>3.249151e+08</td>\n",
       "      <td>355553416.3</td>\n",
       "      <td>0</td>\n",
       "      <td>0</td>\n",
       "    </tr>\n",
       "  </tbody>\n",
       "</table>\n",
       "</div>"
      ],
      "text/plain": [
       "         step      type       amount     nameOrig  oldbalanceOrg  \\\n",
       "4124250   302  TRANSFER   3325263.90  C1812458696            0.0   \n",
       "4133583   302  TRANSFER  30638354.89  C1800693711            0.0   \n",
       "\n",
       "         newbalanceOrig    nameDest  oldbalanceDest  newbalanceDest  isFraud  \\\n",
       "4124250             0.0  C439737079    3.215898e+08     355553416.3        0   \n",
       "4133583             0.0  C439737079    3.249151e+08     355553416.3        0   \n",
       "\n",
       "         isFlaggedFraud  \n",
       "4124250               0  \n",
       "4133583               0  "
      ]
     },
     "execution_count": 18,
     "metadata": {},
     "output_type": "execute_result"
    }
   ],
   "source": [
    "fraud_df.query('newbalanceDest>350000000')"
   ]
  },
  {
   "cell_type": "code",
   "execution_count": 19,
   "id": "68e211ad",
   "metadata": {},
   "outputs": [],
   "source": [
    "indexNames = fraud_df[fraud_df['newbalanceDest'] > 350000000].index\n",
    "fraud_df.drop(indexNames , inplace=True)"
   ]
  },
  {
   "cell_type": "markdown",
   "id": "ed753e0e",
   "metadata": {},
   "source": [
    "During the analysis, two outliers have been found for the **newbalanceDest** feature with a value of greater than 350000000. The outliers have been removed from the dataset."
   ]
  },
  {
   "cell_type": "code",
   "execution_count": 20,
   "id": "8175d26e",
   "metadata": {},
   "outputs": [
    {
     "data": {
      "text/plain": [
       "array([0, 1])"
      ]
     },
     "execution_count": 20,
     "metadata": {},
     "output_type": "execute_result"
    }
   ],
   "source": [
    "fraud_df['isFraud'].unique()"
   ]
  },
  {
   "cell_type": "code",
   "execution_count": 21,
   "id": "7dc9df1e",
   "metadata": {},
   "outputs": [
    {
     "data": {
      "text/plain": [
       "array([0, 1])"
      ]
     },
     "execution_count": 21,
     "metadata": {},
     "output_type": "execute_result"
    }
   ],
   "source": [
    "fraud_df['isFlaggedFraud'].unique()"
   ]
  },
  {
   "cell_type": "code",
   "execution_count": 22,
   "id": "dcfdbdb8",
   "metadata": {},
   "outputs": [
    {
     "data": {
      "text/html": [
       "<div>\n",
       "<style scoped>\n",
       "    .dataframe tbody tr th:only-of-type {\n",
       "        vertical-align: middle;\n",
       "    }\n",
       "\n",
       "    .dataframe tbody tr th {\n",
       "        vertical-align: top;\n",
       "    }\n",
       "\n",
       "    .dataframe thead th {\n",
       "        text-align: right;\n",
       "    }\n",
       "</style>\n",
       "<table border=\"1\" class=\"dataframe\">\n",
       "  <thead>\n",
       "    <tr style=\"text-align: right;\">\n",
       "      <th></th>\n",
       "      <th>step</th>\n",
       "      <th>type</th>\n",
       "      <th>amount</th>\n",
       "      <th>nameOrig</th>\n",
       "      <th>oldbalanceOrg</th>\n",
       "      <th>newbalanceOrig</th>\n",
       "      <th>nameDest</th>\n",
       "      <th>oldbalanceDest</th>\n",
       "      <th>newbalanceDest</th>\n",
       "      <th>isFraud</th>\n",
       "      <th>isFlaggedFraud</th>\n",
       "    </tr>\n",
       "  </thead>\n",
       "  <tbody>\n",
       "    <tr>\n",
       "      <th>0</th>\n",
       "      <td>1</td>\n",
       "      <td>PAYMENT</td>\n",
       "      <td>9839.64</td>\n",
       "      <td>C1231006815</td>\n",
       "      <td>170136.0</td>\n",
       "      <td>160296.36</td>\n",
       "      <td>M1979787155</td>\n",
       "      <td>0.0</td>\n",
       "      <td>0.0</td>\n",
       "      <td>0</td>\n",
       "      <td>0</td>\n",
       "    </tr>\n",
       "    <tr>\n",
       "      <th>1</th>\n",
       "      <td>1</td>\n",
       "      <td>PAYMENT</td>\n",
       "      <td>1864.28</td>\n",
       "      <td>C1666544295</td>\n",
       "      <td>21249.0</td>\n",
       "      <td>19384.72</td>\n",
       "      <td>M2044282225</td>\n",
       "      <td>0.0</td>\n",
       "      <td>0.0</td>\n",
       "      <td>0</td>\n",
       "      <td>0</td>\n",
       "    </tr>\n",
       "    <tr>\n",
       "      <th>2</th>\n",
       "      <td>1</td>\n",
       "      <td>TRANSFER</td>\n",
       "      <td>181.00</td>\n",
       "      <td>C1305486145</td>\n",
       "      <td>181.0</td>\n",
       "      <td>0.00</td>\n",
       "      <td>C553264065</td>\n",
       "      <td>0.0</td>\n",
       "      <td>0.0</td>\n",
       "      <td>1</td>\n",
       "      <td>0</td>\n",
       "    </tr>\n",
       "    <tr>\n",
       "      <th>3</th>\n",
       "      <td>1</td>\n",
       "      <td>CASH_OUT</td>\n",
       "      <td>181.00</td>\n",
       "      <td>C840083671</td>\n",
       "      <td>181.0</td>\n",
       "      <td>0.00</td>\n",
       "      <td>C38997010</td>\n",
       "      <td>21182.0</td>\n",
       "      <td>0.0</td>\n",
       "      <td>1</td>\n",
       "      <td>0</td>\n",
       "    </tr>\n",
       "    <tr>\n",
       "      <th>4</th>\n",
       "      <td>1</td>\n",
       "      <td>PAYMENT</td>\n",
       "      <td>11668.14</td>\n",
       "      <td>C2048537720</td>\n",
       "      <td>41554.0</td>\n",
       "      <td>29885.86</td>\n",
       "      <td>M1230701703</td>\n",
       "      <td>0.0</td>\n",
       "      <td>0.0</td>\n",
       "      <td>0</td>\n",
       "      <td>0</td>\n",
       "    </tr>\n",
       "  </tbody>\n",
       "</table>\n",
       "</div>"
      ],
      "text/plain": [
       "   step      type    amount     nameOrig  oldbalanceOrg  newbalanceOrig  \\\n",
       "0     1   PAYMENT   9839.64  C1231006815       170136.0       160296.36   \n",
       "1     1   PAYMENT   1864.28  C1666544295        21249.0        19384.72   \n",
       "2     1  TRANSFER    181.00  C1305486145          181.0            0.00   \n",
       "3     1  CASH_OUT    181.00   C840083671          181.0            0.00   \n",
       "4     1   PAYMENT  11668.14  C2048537720        41554.0        29885.86   \n",
       "\n",
       "      nameDest  oldbalanceDest  newbalanceDest  isFraud  isFlaggedFraud  \n",
       "0  M1979787155             0.0             0.0        0               0  \n",
       "1  M2044282225             0.0             0.0        0               0  \n",
       "2   C553264065             0.0             0.0        1               0  \n",
       "3    C38997010         21182.0             0.0        1               0  \n",
       "4  M1230701703             0.0             0.0        0               0  "
      ]
     },
     "execution_count": 22,
     "metadata": {},
     "output_type": "execute_result"
    }
   ],
   "source": [
    "fraud_df.head()"
   ]
  },
  {
   "cell_type": "markdown",
   "id": "015750d2",
   "metadata": {},
   "source": [
    "### 3.3. Multi-collinearity Removal"
   ]
  },
  {
   "cell_type": "code",
   "execution_count": 23,
   "id": "66584340",
   "metadata": {},
   "outputs": [
    {
     "data": {
      "text/html": [
       "<div>\n",
       "<style scoped>\n",
       "    .dataframe tbody tr th:only-of-type {\n",
       "        vertical-align: middle;\n",
       "    }\n",
       "\n",
       "    .dataframe tbody tr th {\n",
       "        vertical-align: top;\n",
       "    }\n",
       "\n",
       "    .dataframe thead th {\n",
       "        text-align: right;\n",
       "    }\n",
       "</style>\n",
       "<table border=\"1\" class=\"dataframe\">\n",
       "  <thead>\n",
       "    <tr style=\"text-align: right;\">\n",
       "      <th></th>\n",
       "      <th>step</th>\n",
       "      <th>amount</th>\n",
       "      <th>oldbalanceOrg</th>\n",
       "      <th>newbalanceOrig</th>\n",
       "      <th>oldbalanceDest</th>\n",
       "      <th>newbalanceDest</th>\n",
       "      <th>isFraud</th>\n",
       "      <th>isFlaggedFraud</th>\n",
       "    </tr>\n",
       "  </thead>\n",
       "  <tbody>\n",
       "    <tr>\n",
       "      <th>0</th>\n",
       "      <td>1</td>\n",
       "      <td>9839.64</td>\n",
       "      <td>170136.0</td>\n",
       "      <td>160296.36</td>\n",
       "      <td>0.0</td>\n",
       "      <td>0.0</td>\n",
       "      <td>0</td>\n",
       "      <td>0</td>\n",
       "    </tr>\n",
       "    <tr>\n",
       "      <th>1</th>\n",
       "      <td>1</td>\n",
       "      <td>1864.28</td>\n",
       "      <td>21249.0</td>\n",
       "      <td>19384.72</td>\n",
       "      <td>0.0</td>\n",
       "      <td>0.0</td>\n",
       "      <td>0</td>\n",
       "      <td>0</td>\n",
       "    </tr>\n",
       "    <tr>\n",
       "      <th>2</th>\n",
       "      <td>1</td>\n",
       "      <td>181.00</td>\n",
       "      <td>181.0</td>\n",
       "      <td>0.00</td>\n",
       "      <td>0.0</td>\n",
       "      <td>0.0</td>\n",
       "      <td>1</td>\n",
       "      <td>0</td>\n",
       "    </tr>\n",
       "    <tr>\n",
       "      <th>3</th>\n",
       "      <td>1</td>\n",
       "      <td>181.00</td>\n",
       "      <td>181.0</td>\n",
       "      <td>0.00</td>\n",
       "      <td>21182.0</td>\n",
       "      <td>0.0</td>\n",
       "      <td>1</td>\n",
       "      <td>0</td>\n",
       "    </tr>\n",
       "    <tr>\n",
       "      <th>4</th>\n",
       "      <td>1</td>\n",
       "      <td>11668.14</td>\n",
       "      <td>41554.0</td>\n",
       "      <td>29885.86</td>\n",
       "      <td>0.0</td>\n",
       "      <td>0.0</td>\n",
       "      <td>0</td>\n",
       "      <td>0</td>\n",
       "    </tr>\n",
       "  </tbody>\n",
       "</table>\n",
       "</div>"
      ],
      "text/plain": [
       "   step    amount  oldbalanceOrg  newbalanceOrig  oldbalanceDest  \\\n",
       "0     1   9839.64       170136.0       160296.36             0.0   \n",
       "1     1   1864.28        21249.0        19384.72             0.0   \n",
       "2     1    181.00          181.0            0.00             0.0   \n",
       "3     1    181.00          181.0            0.00         21182.0   \n",
       "4     1  11668.14        41554.0        29885.86             0.0   \n",
       "\n",
       "   newbalanceDest  isFraud  isFlaggedFraud  \n",
       "0             0.0        0               0  \n",
       "1             0.0        0               0  \n",
       "2             0.0        1               0  \n",
       "3             0.0        1               0  \n",
       "4             0.0        0               0  "
      ]
     },
     "execution_count": 23,
     "metadata": {},
     "output_type": "execute_result"
    }
   ],
   "source": [
    "num_fraud_df = fraud_df[['step', 'amount', 'oldbalanceOrg',\n",
    "                         'newbalanceOrig', 'oldbalanceDest', 'newbalanceDest',\n",
    "                         'isFraud', 'isFlaggedFraud']]\n",
    "num_fraud_df.head()"
   ]
  },
  {
   "cell_type": "markdown",
   "id": "543e9d41",
   "metadata": {},
   "source": [
    "#### 3.3.1. Identify Multi-collinearity"
   ]
  },
  {
   "cell_type": "code",
   "execution_count": 24,
   "id": "4a798dd2",
   "metadata": {},
   "outputs": [
    {
     "data": {
      "text/html": [
       "<div>\n",
       "<style scoped>\n",
       "    .dataframe tbody tr th:only-of-type {\n",
       "        vertical-align: middle;\n",
       "    }\n",
       "\n",
       "    .dataframe tbody tr th {\n",
       "        vertical-align: top;\n",
       "    }\n",
       "\n",
       "    .dataframe thead th {\n",
       "        text-align: right;\n",
       "    }\n",
       "</style>\n",
       "<table border=\"1\" class=\"dataframe\">\n",
       "  <thead>\n",
       "    <tr style=\"text-align: right;\">\n",
       "      <th></th>\n",
       "      <th>VIF</th>\n",
       "      <th>Column</th>\n",
       "    </tr>\n",
       "  </thead>\n",
       "  <tbody>\n",
       "    <tr>\n",
       "      <th>3</th>\n",
       "      <td>547.616120</td>\n",
       "      <td>newbalanceOrig</td>\n",
       "    </tr>\n",
       "    <tr>\n",
       "      <th>2</th>\n",
       "      <td>545.307261</td>\n",
       "      <td>oldbalanceOrg</td>\n",
       "    </tr>\n",
       "    <tr>\n",
       "      <th>5</th>\n",
       "      <td>83.919587</td>\n",
       "      <td>newbalanceDest</td>\n",
       "    </tr>\n",
       "    <tr>\n",
       "      <th>4</th>\n",
       "      <td>72.236866</td>\n",
       "      <td>oldbalanceDest</td>\n",
       "    </tr>\n",
       "    <tr>\n",
       "      <th>1</th>\n",
       "      <td>4.078319</td>\n",
       "      <td>amount</td>\n",
       "    </tr>\n",
       "    <tr>\n",
       "      <th>0</th>\n",
       "      <td>1.191735</td>\n",
       "      <td>step</td>\n",
       "    </tr>\n",
       "    <tr>\n",
       "      <th>6</th>\n",
       "      <td>1.188005</td>\n",
       "      <td>isFraud</td>\n",
       "    </tr>\n",
       "    <tr>\n",
       "      <th>7</th>\n",
       "      <td>1.002548</td>\n",
       "      <td>isFlaggedFraud</td>\n",
       "    </tr>\n",
       "  </tbody>\n",
       "</table>\n",
       "</div>"
      ],
      "text/plain": [
       "          VIF          Column\n",
       "3  547.616120  newbalanceOrig\n",
       "2  545.307261   oldbalanceOrg\n",
       "5   83.919587  newbalanceDest\n",
       "4   72.236866  oldbalanceDest\n",
       "1    4.078319          amount\n",
       "0    1.191735            step\n",
       "6    1.188005         isFraud\n",
       "7    1.002548  isFlaggedFraud"
      ]
     },
     "execution_count": 24,
     "metadata": {},
     "output_type": "execute_result"
    }
   ],
   "source": [
    "X = num_fraud_df[list(num_fraud_df)]\n",
    "\n",
    "vif_info = pd.DataFrame()\n",
    "vif_info['VIF'] = [variance_inflation_factor(X.values, i) for i in range(X.shape[1])]\n",
    "vif_info['Column'] = X.columns\n",
    "vif_info.sort_values('VIF', ascending=False)"
   ]
  },
  {
   "cell_type": "markdown",
   "id": "2177323c",
   "metadata": {},
   "source": [
    "#### 3.3.1. Remove Multi-collinearity"
   ]
  },
  {
   "cell_type": "code",
   "execution_count": 25,
   "id": "d4d672cf",
   "metadata": {},
   "outputs": [
    {
     "data": {
      "text/html": [
       "<div>\n",
       "<style scoped>\n",
       "    .dataframe tbody tr th:only-of-type {\n",
       "        vertical-align: middle;\n",
       "    }\n",
       "\n",
       "    .dataframe tbody tr th {\n",
       "        vertical-align: top;\n",
       "    }\n",
       "\n",
       "    .dataframe thead th {\n",
       "        text-align: right;\n",
       "    }\n",
       "</style>\n",
       "<table border=\"1\" class=\"dataframe\">\n",
       "  <thead>\n",
       "    <tr style=\"text-align: right;\">\n",
       "      <th></th>\n",
       "      <th>step</th>\n",
       "      <th>amount</th>\n",
       "      <th>isFraud</th>\n",
       "      <th>isFlaggedFraud</th>\n",
       "      <th>balanceOrigDiff</th>\n",
       "      <th>balanceDestDiff</th>\n",
       "    </tr>\n",
       "  </thead>\n",
       "  <tbody>\n",
       "    <tr>\n",
       "      <th>0</th>\n",
       "      <td>1</td>\n",
       "      <td>9839.64</td>\n",
       "      <td>0</td>\n",
       "      <td>0</td>\n",
       "      <td>-9839.64</td>\n",
       "      <td>0.0</td>\n",
       "    </tr>\n",
       "    <tr>\n",
       "      <th>1</th>\n",
       "      <td>1</td>\n",
       "      <td>1864.28</td>\n",
       "      <td>0</td>\n",
       "      <td>0</td>\n",
       "      <td>-1864.28</td>\n",
       "      <td>0.0</td>\n",
       "    </tr>\n",
       "    <tr>\n",
       "      <th>2</th>\n",
       "      <td>1</td>\n",
       "      <td>181.00</td>\n",
       "      <td>1</td>\n",
       "      <td>0</td>\n",
       "      <td>-181.00</td>\n",
       "      <td>0.0</td>\n",
       "    </tr>\n",
       "    <tr>\n",
       "      <th>3</th>\n",
       "      <td>1</td>\n",
       "      <td>181.00</td>\n",
       "      <td>1</td>\n",
       "      <td>0</td>\n",
       "      <td>-181.00</td>\n",
       "      <td>-21182.0</td>\n",
       "    </tr>\n",
       "    <tr>\n",
       "      <th>4</th>\n",
       "      <td>1</td>\n",
       "      <td>11668.14</td>\n",
       "      <td>0</td>\n",
       "      <td>0</td>\n",
       "      <td>-11668.14</td>\n",
       "      <td>0.0</td>\n",
       "    </tr>\n",
       "  </tbody>\n",
       "</table>\n",
       "</div>"
      ],
      "text/plain": [
       "   step    amount  isFraud  isFlaggedFraud  balanceOrigDiff  balanceDestDiff\n",
       "0     1   9839.64        0               0         -9839.64              0.0\n",
       "1     1   1864.28        0               0         -1864.28              0.0\n",
       "2     1    181.00        1               0          -181.00              0.0\n",
       "3     1    181.00        1               0          -181.00         -21182.0\n",
       "4     1  11668.14        0               0        -11668.14              0.0"
      ]
     },
     "execution_count": 25,
     "metadata": {},
     "output_type": "execute_result"
    }
   ],
   "source": [
    "num_fraud_df['balanceOrigDiff'] = num_fraud_df['newbalanceOrig'] - num_fraud_df['oldbalanceOrg']\n",
    "num_fraud_df['balanceDestDiff'] = num_fraud_df['newbalanceDest'] - num_fraud_df['oldbalanceDest']\n",
    "\n",
    "final_df = num_fraud_df.drop(['newbalanceOrig', 'oldbalanceOrg', 'newbalanceDest', 'oldbalanceDest'], axis=1)\n",
    "\n",
    "final_df.head()"
   ]
  },
  {
   "cell_type": "markdown",
   "id": "5b5c63b0",
   "metadata": {},
   "source": [
    "During the analysis, two multi-collinearity have been found i.e. -\n",
    "- **newbalanceOrig** vs. **oldbalanceOrg**\n",
    "- **newbalanceDest** vs. **oldbalanceDest**\n",
    "\n",
    "The difference between these attributes has been calculated and the attributes have been removed from the dataset."
   ]
  },
  {
   "cell_type": "markdown",
   "id": "03968f83",
   "metadata": {},
   "source": [
    "## 4. Exploratory Data Analysis"
   ]
  },
  {
   "cell_type": "markdown",
   "id": "dd55d418",
   "metadata": {},
   "source": [
    "In this section, the average amount of each category of amount payment has been calculated to understand the payment flow."
   ]
  },
  {
   "cell_type": "code",
   "execution_count": 26,
   "id": "3aa3f705",
   "metadata": {},
   "outputs": [
    {
     "data": {
      "text/html": [
       "<div>\n",
       "<style scoped>\n",
       "    .dataframe tbody tr th:only-of-type {\n",
       "        vertical-align: middle;\n",
       "    }\n",
       "\n",
       "    .dataframe tbody tr th {\n",
       "        vertical-align: top;\n",
       "    }\n",
       "\n",
       "    .dataframe thead th {\n",
       "        text-align: right;\n",
       "    }\n",
       "</style>\n",
       "<table border=\"1\" class=\"dataframe\">\n",
       "  <thead>\n",
       "    <tr style=\"text-align: right;\">\n",
       "      <th></th>\n",
       "      <th>type</th>\n",
       "      <th>amount</th>\n",
       "    </tr>\n",
       "  </thead>\n",
       "  <tbody>\n",
       "    <tr>\n",
       "      <th>0</th>\n",
       "      <td>CASH_IN</td>\n",
       "      <td>168920.220537</td>\n",
       "    </tr>\n",
       "    <tr>\n",
       "      <th>1</th>\n",
       "      <td>CASH_OUT</td>\n",
       "      <td>176273.944698</td>\n",
       "    </tr>\n",
       "    <tr>\n",
       "      <th>2</th>\n",
       "      <td>DEBIT</td>\n",
       "      <td>5483.665314</td>\n",
       "    </tr>\n",
       "    <tr>\n",
       "      <th>3</th>\n",
       "      <td>PAYMENT</td>\n",
       "      <td>13057.606984</td>\n",
       "    </tr>\n",
       "    <tr>\n",
       "      <th>4</th>\n",
       "      <td>TRANSFER</td>\n",
       "      <td>910364.274711</td>\n",
       "    </tr>\n",
       "  </tbody>\n",
       "</table>\n",
       "</div>"
      ],
      "text/plain": [
       "       type         amount\n",
       "0   CASH_IN  168920.220537\n",
       "1  CASH_OUT  176273.944698\n",
       "2     DEBIT    5483.665314\n",
       "3   PAYMENT   13057.606984\n",
       "4  TRANSFER  910364.274711"
      ]
     },
     "execution_count": 26,
     "metadata": {},
     "output_type": "execute_result"
    }
   ],
   "source": [
    "amount_fraud_df = fraud_df.groupby(['type'])[['amount']].mean()\n",
    "amount_fraud_df = amount_fraud_df.reset_index()\n",
    "amount_fraud_df.head()"
   ]
  },
  {
   "cell_type": "code",
   "execution_count": 27,
   "id": "e886e5cb",
   "metadata": {},
   "outputs": [
    {
     "data": {
      "image/png": "[encoded data removed]",
      "text/plain": [
       "<Figure size 576x288 with 1 Axes>"
      ]
     },
     "metadata": {
      "needs_background": "light"
     },
     "output_type": "display_data"
    }
   ],
   "source": [
    "x = amount_fraud_df.loc[:, 'type']\n",
    "y1 = amount_fraud_df['amount']\n",
    "\n",
    "plt.figure(figsize = (8, 4))\n",
    "\n",
    "plt.plot(x, y1, marker='D', label = 'Amount')\n",
    "\n",
    "plt.xlabel('Type', fontsize = 14)\n",
    "plt.ylabel('Amount', fontsize = 14)\n",
    "plt.title('Average Amount Type Analysis', fontsize = 18)\n",
    "plt.legend(fontsize = 10, loc = 'best')\n",
    "plt.xticks(rotation=45)\n",
    "plt.show()"
   ]
  },
  {
   "cell_type": "markdown",
   "id": "af92f4f4",
   "metadata": {},
   "source": [
    "During the analysis, it has been found that the maximum amount has been transferred from one account to another one."
   ]
  },
  {
   "cell_type": "markdown",
   "id": "8954cc38",
   "metadata": {},
   "source": [
    "## 5. Predictive Analysis [Regression Models]"
   ]
  },
  {
   "cell_type": "markdown",
   "id": "24236bd6",
   "metadata": {},
   "source": [
    "### 5.1. Correlation of Features"
   ]
  },
  {
   "cell_type": "markdown",
   "id": "4183f3d0",
   "metadata": {},
   "source": [
    "In this phase of analysis, the correlations have been evaluated to measure the dependencies between the feature variables and the fraud data. The correlations represent the relationships between the variables in terms of statistical analysis. The linear relationships between the two variables have been defined by the covariance matrix."
   ]
  },
  {
   "cell_type": "code",
   "execution_count": 28,
   "id": "91a6693b",
   "metadata": {},
   "outputs": [
    {
     "data": {
      "text/html": [
       "<div>\n",
       "<style scoped>\n",
       "    .dataframe tbody tr th:only-of-type {\n",
       "        vertical-align: middle;\n",
       "    }\n",
       "\n",
       "    .dataframe tbody tr th {\n",
       "        vertical-align: top;\n",
       "    }\n",
       "\n",
       "    .dataframe thead th {\n",
       "        text-align: right;\n",
       "    }\n",
       "</style>\n",
       "<table border=\"1\" class=\"dataframe\">\n",
       "  <thead>\n",
       "    <tr style=\"text-align: right;\">\n",
       "      <th></th>\n",
       "      <th>step</th>\n",
       "      <th>amount</th>\n",
       "      <th>isFraud</th>\n",
       "      <th>isFlaggedFraud</th>\n",
       "      <th>balanceOrigDiff</th>\n",
       "      <th>balanceDestDiff</th>\n",
       "    </tr>\n",
       "  </thead>\n",
       "  <tbody>\n",
       "    <tr>\n",
       "      <th>step</th>\n",
       "      <td>1.000000</td>\n",
       "      <td>0.022392</td>\n",
       "      <td>0.031551</td>\n",
       "      <td>0.003277</td>\n",
       "      <td>-0.007182</td>\n",
       "      <td>0.001317</td>\n",
       "    </tr>\n",
       "    <tr>\n",
       "      <th>amount</th>\n",
       "      <td>0.022392</td>\n",
       "      <td>1.000000</td>\n",
       "      <td>0.076651</td>\n",
       "      <td>0.012321</td>\n",
       "      <td>-0.102135</td>\n",
       "      <td>0.845748</td>\n",
       "    </tr>\n",
       "    <tr>\n",
       "      <th>isFraud</th>\n",
       "      <td>0.031551</td>\n",
       "      <td>0.076651</td>\n",
       "      <td>1.000000</td>\n",
       "      <td>0.044117</td>\n",
       "      <td>-0.362041</td>\n",
       "      <td>0.027070</td>\n",
       "    </tr>\n",
       "    <tr>\n",
       "      <th>isFlaggedFraud</th>\n",
       "      <td>0.003277</td>\n",
       "      <td>0.012321</td>\n",
       "      <td>0.044117</td>\n",
       "      <td>1.000000</td>\n",
       "      <td>-0.000230</td>\n",
       "      <td>-0.000243</td>\n",
       "    </tr>\n",
       "    <tr>\n",
       "      <th>balanceOrigDiff</th>\n",
       "      <td>-0.007182</td>\n",
       "      <td>-0.102135</td>\n",
       "      <td>-0.362041</td>\n",
       "      <td>-0.000230</td>\n",
       "      <td>1.000000</td>\n",
       "      <td>-0.169693</td>\n",
       "    </tr>\n",
       "    <tr>\n",
       "      <th>balanceDestDiff</th>\n",
       "      <td>0.001317</td>\n",
       "      <td>0.845748</td>\n",
       "      <td>0.027070</td>\n",
       "      <td>-0.000243</td>\n",
       "      <td>-0.169693</td>\n",
       "      <td>1.000000</td>\n",
       "    </tr>\n",
       "  </tbody>\n",
       "</table>\n",
       "</div>"
      ],
      "text/plain": [
       "                     step    amount   isFraud  isFlaggedFraud  \\\n",
       "step             1.000000  0.022392  0.031551        0.003277   \n",
       "amount           0.022392  1.000000  0.076651        0.012321   \n",
       "isFraud          0.031551  0.076651  1.000000        0.044117   \n",
       "isFlaggedFraud   0.003277  0.012321  0.044117        1.000000   \n",
       "balanceOrigDiff -0.007182 -0.102135 -0.362041       -0.000230   \n",
       "balanceDestDiff  0.001317  0.845748  0.027070       -0.000243   \n",
       "\n",
       "                 balanceOrigDiff  balanceDestDiff  \n",
       "step                   -0.007182         0.001317  \n",
       "amount                 -0.102135         0.845748  \n",
       "isFraud                -0.362041         0.027070  \n",
       "isFlaggedFraud         -0.000230        -0.000243  \n",
       "balanceOrigDiff         1.000000        -0.169693  \n",
       "balanceDestDiff        -0.169693         1.000000  "
      ]
     },
     "execution_count": 28,
     "metadata": {},
     "output_type": "execute_result"
    }
   ],
   "source": [
    "final_df_corr = final_df.corr()\n",
    "final_df_corr"
   ]
  },
  {
   "cell_type": "code",
   "execution_count": 29,
   "id": "7bab9b25",
   "metadata": {},
   "outputs": [
    {
     "data": {
      "image/png": "[encoded data removed]",
      "text/plain": [
       "<Figure size 576x432 with 2 Axes>"
      ]
     },
     "metadata": {
      "needs_background": "light"
     },
     "output_type": "display_data"
    }
   ],
   "source": [
    "mask = np.triu(np.ones_like(final_df_corr, dtype=bool))\n",
    "plt.figure(figsize=(8,6))\n",
    "sns.heatmap(final_df_corr,annot=True, mask = mask, cmap=plt.cm.YlGnBu)\n",
    "plt.xticks(rotation=45)\n",
    "plt.show()"
   ]
  },
  {
   "cell_type": "markdown",
   "id": "533a1ab2",
   "metadata": {},
   "source": [
    "The key factors to predict fraudulent customers are as follows -\n",
    "- **amount -** If the amount is high then there will be a higher risk of fraud.\n",
    "- **balanceOrigDiff -** The difference between the **newbalanceOrig** and **oldbalanceOrg**. A higher amount will increase the risk of fraud.\n",
    "- **balanceDestDiff -** The difference between the **newbalanceDest** and **oldbalanceDest**. A higher amount will increase the risk of fraud. "
   ]
  },
  {
   "cell_type": "markdown",
   "id": "76a1557b",
   "metadata": {},
   "source": [
    "### 5.2. Train-Test-Val Split"
   ]
  },
  {
   "cell_type": "markdown",
   "id": "ddc34797",
   "metadata": {},
   "source": [
    "The fraud data will be divided into X and y sets based on the feature variables and the target variable. The X set contains all the independent variables whereas the y set contains the dependent variable **isFraud**. The X and y sets have been divided into **80:20** ratio i.e. **80%** of data can be used for **training** purpose and **20%** of data can be used for **testing** purpose."
   ]
  },
  {
   "cell_type": "code",
   "execution_count": 30,
   "id": "ea142d48",
   "metadata": {},
   "outputs": [],
   "source": [
    "X = final_df.drop(['isFraud'], axis=1)\n",
    "y = final_df['isFraud']"
   ]
  },
  {
   "cell_type": "code",
   "execution_count": 31,
   "id": "ba07a263",
   "metadata": {},
   "outputs": [
    {
     "name": "stdout",
     "output_type": "stream",
     "text": [
      "(5090084, 5) (1272521, 5) (5090084,) (1272521,)\n"
     ]
    }
   ],
   "source": [
    "X_train, X_test, y_train, y_test = train_test_split(X, y, test_size=0.2, random_state=10)\n",
    "print(X_train.shape,X_test.shape,y_train.shape,y_test.shape)"
   ]
  },
  {
   "cell_type": "markdown",
   "id": "4a1577d5",
   "metadata": {},
   "source": [
    "### 5.3 Regression Models"
   ]
  },
  {
   "cell_type": "markdown",
   "id": "6193bd43",
   "metadata": {},
   "source": [
    "In order to build the predictive model, the machine learning-based regressors have been trained based on the training data and tested the performance using the test data. The best regressor will be selected on the basis of their prediction performance.\n",
    "\n",
    "The prediction error has been analyzed for all the regression models to understand the model accuracy on the corresponding dataset. The regression lines for the true and predicted target labels have been plotted in a 2D scatterplot to understand how much the predicted line is close to the original line throughout the plane. The minimum distance between these two lines denotes more accuracy of the respective model."
   ]
  },
  {
   "cell_type": "markdown",
   "id": "97a9f907",
   "metadata": {},
   "source": [
    "#### 5.3.1 Linear Regression Model"
   ]
  },
  {
   "cell_type": "code",
   "execution_count": 32,
   "id": "61a7905e",
   "metadata": {},
   "outputs": [
    {
     "data": {
      "text/plain": [
       "LinearRegression()"
      ]
     },
     "execution_count": 32,
     "metadata": {},
     "output_type": "execute_result"
    }
   ],
   "source": [
    "lin_reg_model = LinearRegression()\n",
    "lin_reg_model.fit(X_train, y_train)"
   ]
  },
  {
   "cell_type": "code",
   "execution_count": 33,
   "id": "3ec75b69",
   "metadata": {},
   "outputs": [
    {
     "data": {
      "text/plain": [
       "array([ 0.0046351 ,  0.00819356,  0.00086774, ...,  0.00353546,\n",
       "        0.0031226 , -0.00612435])"
      ]
     },
     "execution_count": 33,
     "metadata": {},
     "output_type": "execute_result"
    }
   ],
   "source": [
    "lin_reg_model.predict(X_test)"
   ]
  },
  {
   "cell_type": "code",
   "execution_count": 34,
   "id": "8ab90d14",
   "metadata": {},
   "outputs": [
    {
     "name": "stdout",
     "output_type": "stream",
     "text": [
      "The prediction accuracy of Linear Regression model is 14.57%\n"
     ]
    }
   ],
   "source": [
    "lin_reg_model_score = lin_reg_model.score(X_test, y_test)\n",
    "lin_reg_model_accuracy = round(lin_reg_model_score*100, 2)\n",
    "print(\"The prediction accuracy of Linear Regression model is \"+ str(lin_reg_model_accuracy)+\"%\")"
   ]
  },
  {
   "cell_type": "code",
   "execution_count": 35,
   "id": "8a9bdf2a",
   "metadata": {},
   "outputs": [
    {
     "name": "stdout",
     "output_type": "stream",
     "text": [
      "Coefficients:  [ 6.02692562e-06  1.43558560e-08  9.32596312e-01 -9.25361706e-08\n",
      " -1.06484582e-08]\n",
      "Intercept:  0.0005313645551160207\n"
     ]
    }
   ],
   "source": [
    "print ('Coefficients: ', lin_reg_model.coef_)\n",
    "print ('Intercept: ',lin_reg_model.intercept_)"
   ]
  },
  {
   "cell_type": "code",
   "execution_count": 36,
   "id": "0ab46a78",
   "metadata": {},
   "outputs": [
    {
     "data": {
      "image/png": "[encoded data removed]",
      "text/plain": [
       "<Figure size 432x288 with 1 Axes>"
      ]
     },
     "metadata": {
      "needs_background": "light"
     },
     "output_type": "display_data"
    },
    {
     "data": {
      "text/plain": [
       "<AxesSubplot:title={'center':'Prediction Error for LinearRegression'}, xlabel='$y$', ylabel='$\\\\hat{y}$'>"
      ]
     },
     "execution_count": 36,
     "metadata": {},
     "output_type": "execute_result"
    }
   ],
   "source": [
    "visualizer = PredictionError(lin_reg_model)\n",
    "\n",
    "visualizer.fit(X_train, y_train)\n",
    "visualizer.score(X_test, y_test)\n",
    "visualizer.show() "
   ]
  },
  {
   "cell_type": "markdown",
   "id": "d49830a4",
   "metadata": {},
   "source": [
    "#### 5.3.2 KNN Regression Model"
   ]
  },
  {
   "cell_type": "code",
   "execution_count": 37,
   "id": "79bf31b5",
   "metadata": {},
   "outputs": [
    {
     "data": {
      "text/plain": [
       "KNeighborsRegressor()"
      ]
     },
     "execution_count": 37,
     "metadata": {},
     "output_type": "execute_result"
    }
   ],
   "source": [
    "knn_model = KNeighborsRegressor()\n",
    "knn_model.fit(X_train, y_train)"
   ]
  },
  {
   "cell_type": "code",
   "execution_count": 38,
   "id": "41f73be1",
   "metadata": {},
   "outputs": [],
   "source": [
    "y_train_pred = knn_model.predict(X_train)\n",
    "y_test_pred = knn_model.predict(X_test)"
   ]
  },
  {
   "cell_type": "code",
   "execution_count": 39,
   "id": "af7572d1",
   "metadata": {},
   "outputs": [
    {
     "name": "stdout",
     "output_type": "stream",
     "text": [
      "The prediction accuracy of KNN model is 48.7%\n"
     ]
    }
   ],
   "source": [
    "knn_model_score = knn_model.score(X_test, y_test)\n",
    "knn_model_accuracy = round(knn_model_score*100, 2)\n",
    "print(\"The prediction accuracy of KNN model is \"+ str(knn_model_accuracy)+\"%\")"
   ]
  },
  {
   "cell_type": "code",
   "execution_count": 40,
   "id": "025bd283",
   "metadata": {},
   "outputs": [
    {
     "data": {
      "image/png": "[encoded data removed]",
      "text/plain": [
       "<Figure size 432x288 with 1 Axes>"
      ]
     },
     "metadata": {
      "needs_background": "light"
     },
     "output_type": "display_data"
    },
    {
     "data": {
      "text/plain": [
       "<AxesSubplot:title={'center':'Prediction Error for KNeighborsRegressor'}, xlabel='$y$', ylabel='$\\\\hat{y}$'>"
      ]
     },
     "execution_count": 40,
     "metadata": {},
     "output_type": "execute_result"
    }
   ],
   "source": [
    "visualizer = PredictionError(knn_model)\n",
    "\n",
    "visualizer.fit(X_train, y_train)\n",
    "visualizer.score(X_test, y_test)\n",
    "visualizer.show()"
   ]
  },
  {
   "cell_type": "markdown",
   "id": "24ded0a8",
   "metadata": {},
   "source": [
    "#### 5.3.3 Decision Tree Regression Model"
   ]
  },
  {
   "cell_type": "code",
   "execution_count": 41,
   "id": "fca2a593",
   "metadata": {},
   "outputs": [
    {
     "data": {
      "text/plain": [
       "DecisionTreeRegressor()"
      ]
     },
     "execution_count": 41,
     "metadata": {},
     "output_type": "execute_result"
    }
   ],
   "source": [
    "dtree_model = DecisionTreeRegressor()\n",
    "dtree_model.fit(X_train, y_train)"
   ]
  },
  {
   "cell_type": "code",
   "execution_count": 42,
   "id": "2e80e6d5",
   "metadata": {},
   "outputs": [
    {
     "data": {
      "text/plain": [
       "array([0., 0., 0., ..., 0., 0., 0.])"
      ]
     },
     "execution_count": 42,
     "metadata": {},
     "output_type": "execute_result"
    }
   ],
   "source": [
    "dtree_model.predict(X_test)"
   ]
  },
  {
   "cell_type": "code",
   "execution_count": 43,
   "id": "06b425e4",
   "metadata": {},
   "outputs": [
    {
     "name": "stdout",
     "output_type": "stream",
     "text": [
      "The prediction accuracy of Decision Tree model is 39.74%\n"
     ]
    }
   ],
   "source": [
    "dtree_model_score = dtree_model.score(X_test, y_test)\n",
    "dtree_model_accuracy = round(dtree_model_score*100, 2)\n",
    "print(\"The prediction accuracy of Decision Tree model is \"+ str(dtree_model_accuracy)+\"%\")"
   ]
  },
  {
   "cell_type": "code",
   "execution_count": 44,
   "id": "37983638",
   "metadata": {},
   "outputs": [
    {
     "data": {
      "image/png": "[encoded data removed]",
      "text/plain": [
       "<Figure size 432x288 with 1 Axes>"
      ]
     },
     "metadata": {
      "needs_background": "light"
     },
     "output_type": "display_data"
    },
    {
     "data": {
      "text/plain": [
       "<AxesSubplot:title={'center':'Prediction Error for DecisionTreeRegressor'}, xlabel='$y$', ylabel='$\\\\hat{y}$'>"
      ]
     },
     "execution_count": 44,
     "metadata": {},
     "output_type": "execute_result"
    }
   ],
   "source": [
    "visualizer = PredictionError(dtree_model)\n",
    "\n",
    "visualizer.fit(X_train, y_train)\n",
    "visualizer.score(X_test, y_test)\n",
    "visualizer.show()"
   ]
  },
  {
   "cell_type": "markdown",
   "id": "9fdaa138",
   "metadata": {},
   "source": [
    "#### 5.3.4 AdaBoost Regression Model"
   ]
  },
  {
   "cell_type": "code",
   "execution_count": 45,
   "id": "1e6daca6",
   "metadata": {},
   "outputs": [
    {
     "data": {
      "text/plain": [
       "AdaBoostRegressor()"
      ]
     },
     "execution_count": 45,
     "metadata": {},
     "output_type": "execute_result"
    }
   ],
   "source": [
    "adaboost_model = AdaBoostRegressor()\n",
    "adaboost_model.fit(X_train, y_train)"
   ]
  },
  {
   "cell_type": "code",
   "execution_count": 46,
   "id": "7089cc06",
   "metadata": {},
   "outputs": [
    {
     "data": {
      "text/plain": [
       "array([0.00066887, 0.00066887, 0.00066887, ..., 0.00066887, 0.00066887,\n",
       "       0.00066887])"
      ]
     },
     "execution_count": 46,
     "metadata": {},
     "output_type": "execute_result"
    }
   ],
   "source": [
    "adaboost_model.predict(X_test)"
   ]
  },
  {
   "cell_type": "code",
   "execution_count": 47,
   "id": "fc6ff788",
   "metadata": {},
   "outputs": [
    {
     "name": "stdout",
     "output_type": "stream",
     "text": [
      "The prediction accuracy of AdaBoost model is 41.72%\n"
     ]
    }
   ],
   "source": [
    "adaboost_model_score = adaboost_model.score(X_test, y_test)\n",
    "adaboost_model_accuracy = round(adaboost_model_score*100, 2)\n",
    "print(\"The prediction accuracy of AdaBoost model is \"+ str(adaboost_model_accuracy)+\"%\")"
   ]
  },
  {
   "cell_type": "code",
   "execution_count": 48,
   "id": "81b0f97c",
   "metadata": {},
   "outputs": [
    {
     "data": {
      "image/png": "[encoded data removed]",
      "text/plain": [
       "<Figure size 432x288 with 1 Axes>"
      ]
     },
     "metadata": {
      "needs_background": "light"
     },
     "output_type": "display_data"
    },
    {
     "data": {
      "text/plain": [
       "<AxesSubplot:title={'center':'Prediction Error for AdaBoostRegressor'}, xlabel='$y$', ylabel='$\\\\hat{y}$'>"
      ]
     },
     "execution_count": 48,
     "metadata": {},
     "output_type": "execute_result"
    }
   ],
   "source": [
    "visualizer = PredictionError(adaboost_model)\n",
    "\n",
    "visualizer.fit(X_train, y_train)\n",
    "visualizer.score(X_test, y_test)\n",
    "visualizer.show()"
   ]
  },
  {
   "cell_type": "markdown",
   "id": "d9465848",
   "metadata": {},
   "source": [
    "#### 5.3.5 Random Forest Regression Model"
   ]
  },
  {
   "cell_type": "code",
   "execution_count": 49,
   "id": "dc767bef",
   "metadata": {},
   "outputs": [
    {
     "data": {
      "text/plain": [
       "RandomForestRegressor(max_leaf_nodes=50, n_jobs=-1, oob_score=True,\n",
       "                      random_state=42)"
      ]
     },
     "execution_count": 49,
     "metadata": {},
     "output_type": "execute_result"
    }
   ],
   "source": [
    "rforest_model = RandomForestRegressor(random_state=42, max_leaf_nodes=50, n_estimators=100,\n",
    "                                   bootstrap=True, n_jobs=-1, oob_score=True)\n",
    "rforest_model.fit(X_train, y_train)"
   ]
  },
  {
   "cell_type": "code",
   "execution_count": 50,
   "id": "dd027b67",
   "metadata": {},
   "outputs": [
    {
     "data": {
      "text/plain": [
       "array([0.00028681, 0.00028681, 0.00028681, ..., 0.00028681, 0.00028681,\n",
       "       0.00028681])"
      ]
     },
     "execution_count": 50,
     "metadata": {},
     "output_type": "execute_result"
    }
   ],
   "source": [
    "rforest_model.predict(X_test)"
   ]
  },
  {
   "cell_type": "code",
   "execution_count": 51,
   "id": "d10508eb",
   "metadata": {},
   "outputs": [
    {
     "name": "stdout",
     "output_type": "stream",
     "text": [
      "The prediction accuracy of Random Forest model is 59.78%\n"
     ]
    }
   ],
   "source": [
    "rforest_model_score = rforest_model.score(X_test, y_test)\n",
    "rforest_model_accuracy = round(rforest_model_score*100, 2)\n",
    "print(\"The prediction accuracy of Random Forest model is \"+ str(rforest_model_accuracy)+\"%\")"
   ]
  },
  {
   "cell_type": "code",
   "execution_count": 52,
   "id": "7c998e26",
   "metadata": {},
   "outputs": [
    {
     "data": {
      "image/png": "[encoded data removed]",
      "text/plain": [
       "<Figure size 432x288 with 1 Axes>"
      ]
     },
     "metadata": {
      "needs_background": "light"
     },
     "output_type": "display_data"
    },
    {
     "data": {
      "text/plain": [
       "<AxesSubplot:title={'center':'Prediction Error for AdaBoostRegressor'}, xlabel='$y$', ylabel='$\\\\hat{y}$'>"
      ]
     },
     "execution_count": 52,
     "metadata": {},
     "output_type": "execute_result"
    }
   ],
   "source": [
    "visualizer = PredictionError(adaboost_model)\n",
    "\n",
    "visualizer.fit(X_train, y_train)\n",
    "visualizer.score(X_test, y_test)\n",
    "visualizer.show()"
   ]
  },
  {
   "cell_type": "markdown",
   "id": "3f5fb831",
   "metadata": {},
   "source": [
    "### 5.4 Regression Model Performance Analysis"
   ]
  },
  {
   "cell_type": "code",
   "execution_count": 53,
   "id": "8476eacc",
   "metadata": {},
   "outputs": [
    {
     "data": {
      "image/png": "[encoded data removed]",
      "text/plain": [
       "<Figure size 576x288 with 1 Axes>"
      ]
     },
     "metadata": {
      "needs_background": "light"
     },
     "output_type": "display_data"
    }
   ],
   "source": [
    "plt.figure(figsize = (8,4))\n",
    "accuracy_dict = {'Linear Regrssion' : lin_reg_model_accuracy,\n",
    "                 'K-Nearest Neighbors' : knn_model_accuracy,\n",
    "                 'Decision Tree' : dtree_model_accuracy,\n",
    "                 'AdaBoost' : adaboost_model_accuracy,\n",
    "                 'Random Forest' : rforest_model_accuracy}\n",
    "for k, v in accuracy_dict.items():\n",
    "    plt.bar(k,v)\n",
    "plt.plot(list(accuracy_dict.values()), color = 'blue')\n",
    "plt.title(r'Regression Model Performance Analysis', fontsize=18, pad=10)\n",
    "plt.xlabel('Regression Models', fontsize=14)\n",
    "plt.ylabel('Accuracy', fontsize=14)\n",
    "plt.xticks(rotation=45)\n",
    "plt.show()"
   ]
  },
  {
   "cell_type": "markdown",
   "id": "874ed40d",
   "metadata": {},
   "source": [
    "During regression analysis, five ML-based regression models have achieved significant prediction accuracy on the test data. It has been found that the **Random Forest** model achieved the highest **59.78%** prediction accuracy for predicting the fraud customers based on the respective features.\n",
    "\n",
    "The Final predictive model has been developed based on the **Random Forest** model. Although, it is necessary to improve the model performance by optimizing the hyperparameters so that the proposed model will help to identify the fraudulent customers."
   ]
  },
  {
   "cell_type": "markdown",
   "id": "e5e17c98",
   "metadata": {},
   "source": [
    "#### Future Scope \n",
    "In the future, a web application can be developed based on this predictive system for analyzing customer data to predict whether the customer is fraudulent or not. The web-based system will display the predicted outcome through its user interface. After the deployment of the web-based system in the server, the user of the predictive system need not to be concerned about the backend analysis. It will further help to implement an abstraction between the user and developer levels."
   ]
  }
 ],
 "metadata": {
  "kernelspec": {
   "display_name": "Python 3 (ipykernel)",
   "language": "python",
   "name": "python3"
  },
  "language_info": {
   "codemirror_mode": {
    "name": "ipython",
    "version": 3
   },
   "file_extension": ".py",
   "mimetype": "text/x-python",
   "name": "python",
   "nbconvert_exporter": "python",
   "pygments_lexer": "ipython3",
   "version": "3.9.7"
  }
 },
 "nbformat": 4,
 "nbformat_minor": 5
}
