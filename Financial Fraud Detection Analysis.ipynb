{
 "cells": [
  {
   "cell_type": "markdown",
   "id": "a5aac41c",
   "metadata": {
    "papermill": {
     "duration": 0.013779,
     "end_time": "2022-11-06T16:18:41.638414",
     "exception": false,
     "start_time": "2022-11-06T16:18:41.624635",
     "status": "completed"
    },
    "tags": []
   },
   "source": [
    "## Financial Payment Services Fraud Detection Analysis\n",
    "\n",
    "### Data Science & Machine Learning\n",
    "\n",
    "#### Arunava Kumar Chakraborty\n",
    "\n",
    "This notebook represents a Machine Learning-based predictive approach to explore the given **Fraud** dataset. The Dataset has been uploaded in my [Kaggle repository](www.kaggle.com/arunavakrchakraborty/financial-payment-services-fraud-data).\n",
    "\n",
    "I have Proposed an experimental approach to develop a Fraud detection model to predict future Fraud customers based on the related features. The best feature variables will be selected on the basis of their linear relationships. Furthermore, the **Logistic Regression** classifier will be developed to build the predictive system.\n",
    "\n",
    "The classifier will be trained using the training data to predict the fraud cases from the validation data to identify the fraudulent customer."
   ]
  },
  {
   "cell_type": "markdown",
   "id": "0969403e",
   "metadata": {
    "papermill": {
     "duration": 0.016234,
     "end_time": "2022-11-06T16:18:41.665183",
     "exception": false,
     "start_time": "2022-11-06T16:18:41.648949",
     "status": "completed"
    },
    "tags": []
   },
   "source": [
    "## 1. Importing Packages\n",
    "Here, required Python packages have been imported for the analysis.\n",
    "\n",
    "- The **pandas**, **numpy** packages are required for basic analysis.\n",
    "- The **matplotlib**, **seaborn** packages are used for visualization purpose.\n",
    "- The **statsmodels** package is required to perform the statistical analysis of the data.\n",
    "- The **sklearn** package is used for importing machine learning models for classification."
   ]
  },
  {
   "cell_type": "code",
   "execution_count": 1,
   "id": "d78169da",
   "metadata": {
    "execution": {
     "iopub.execute_input": "2022-11-06T16:18:41.707315Z",
     "iopub.status.busy": "2022-11-06T16:18:41.706786Z",
     "iopub.status.idle": "2022-11-06T16:18:43.455889Z",
     "shell.execute_reply": "2022-11-06T16:18:43.454925Z"
    },
    "papermill": {
     "duration": 1.772862,
     "end_time": "2022-11-06T16:18:43.458440",
     "exception": false,
     "start_time": "2022-11-06T16:18:41.685578",
     "status": "completed"
    },
    "tags": []
   },
   "outputs": [],
   "source": [
    "import pandas as pd\n",
    "import numpy as np\n",
    "import matplotlib.pyplot as plt\n",
    "import seaborn as sns\n",
    "\n",
    "import statsmodels.api as sm\n",
    "from statsmodels.stats.outliers_influence import variance_inflation_factor\n",
    "\n",
    "from sklearn.model_selection import train_test_split\n",
    "from sklearn.linear_model import LogisticRegression\n",
    "from sklearn.neighbors import KNeighborsClassifier\n",
    "from sklearn.tree import DecisionTreeClassifier\n",
    "from sklearn.ensemble import AdaBoostClassifier, RandomForestClassifier\n",
    "from sklearn.metrics import accuracy_score, classification_report, confusion_matrix\n",
    "\n",
    "import warnings\n",
    "warnings.filterwarnings('ignore')\n",
    "%matplotlib inline"
   ]
  },
  {
   "cell_type": "markdown",
   "id": "08606926",
   "metadata": {
    "papermill": {
     "duration": 0.010294,
     "end_time": "2022-11-06T16:18:43.479379",
     "exception": false,
     "start_time": "2022-11-06T16:18:43.469085",
     "status": "completed"
    },
    "tags": []
   },
   "source": [
    "## 2. Load Datasets"
   ]
  },
  {
   "cell_type": "markdown",
   "id": "2943e525",
   "metadata": {
    "papermill": {
     "duration": 0.010277,
     "end_time": "2022-11-06T16:18:43.500000",
     "exception": false,
     "start_time": "2022-11-06T16:18:43.489723",
     "status": "completed"
    },
    "tags": []
   },
   "source": [
    "In this section, the given **Fraud.csv** dataset has been loaded using the pandas dataframe."
   ]
  },
  {
   "cell_type": "code",
   "execution_count": 2,
   "id": "a233d35e",
   "metadata": {
    "execution": {
     "iopub.execute_input": "2022-11-06T16:18:43.532593Z",
     "iopub.status.busy": "2022-11-06T16:18:43.532158Z",
     "iopub.status.idle": "2022-11-06T16:18:58.646953Z",
     "shell.execute_reply": "2022-11-06T16:18:58.645887Z"
    },
    "papermill": {
     "duration": 15.139115,
     "end_time": "2022-11-06T16:18:58.649409",
     "exception": false,
     "start_time": "2022-11-06T16:18:43.510294",
     "status": "completed"
    },
    "tags": []
   },
   "outputs": [
    {
     "data": {
      "text/html": [
       "<div>\n",
       "<style scoped>\n",
       "    .dataframe tbody tr th:only-of-type {\n",
       "        vertical-align: middle;\n",
       "    }\n",
       "\n",
       "    .dataframe tbody tr th {\n",
       "        vertical-align: top;\n",
       "    }\n",
       "\n",
       "    .dataframe thead th {\n",
       "        text-align: right;\n",
       "    }\n",
       "</style>\n",
       "<table border=\"1\" class=\"dataframe\">\n",
       "  <thead>\n",
       "    <tr style=\"text-align: right;\">\n",
       "      <th></th>\n",
       "      <th>step</th>\n",
       "      <th>type</th>\n",
       "      <th>amount</th>\n",
       "      <th>nameOrig</th>\n",
       "      <th>oldbalanceOrg</th>\n",
       "      <th>newbalanceOrig</th>\n",
       "      <th>nameDest</th>\n",
       "      <th>oldbalanceDest</th>\n",
       "      <th>newbalanceDest</th>\n",
       "      <th>isFraud</th>\n",
       "      <th>isFlaggedFraud</th>\n",
       "    </tr>\n",
       "  </thead>\n",
       "  <tbody>\n",
       "    <tr>\n",
       "      <th>0</th>\n",
       "      <td>1</td>\n",
       "      <td>PAYMENT</td>\n",
       "      <td>9839.64</td>\n",
       "      <td>C1231006815</td>\n",
       "      <td>170136.0</td>\n",
       "      <td>160296.36</td>\n",
       "      <td>M1979787155</td>\n",
       "      <td>0.0</td>\n",
       "      <td>0.0</td>\n",
       "      <td>0</td>\n",
       "      <td>0</td>\n",
       "    </tr>\n",
       "    <tr>\n",
       "      <th>1</th>\n",
       "      <td>1</td>\n",
       "      <td>PAYMENT</td>\n",
       "      <td>1864.28</td>\n",
       "      <td>C1666544295</td>\n",
       "      <td>21249.0</td>\n",
       "      <td>19384.72</td>\n",
       "      <td>M2044282225</td>\n",
       "      <td>0.0</td>\n",
       "      <td>0.0</td>\n",
       "      <td>0</td>\n",
       "      <td>0</td>\n",
       "    </tr>\n",
       "    <tr>\n",
       "      <th>2</th>\n",
       "      <td>1</td>\n",
       "      <td>TRANSFER</td>\n",
       "      <td>181.00</td>\n",
       "      <td>C1305486145</td>\n",
       "      <td>181.0</td>\n",
       "      <td>0.00</td>\n",
       "      <td>C553264065</td>\n",
       "      <td>0.0</td>\n",
       "      <td>0.0</td>\n",
       "      <td>1</td>\n",
       "      <td>0</td>\n",
       "    </tr>\n",
       "    <tr>\n",
       "      <th>3</th>\n",
       "      <td>1</td>\n",
       "      <td>CASH_OUT</td>\n",
       "      <td>181.00</td>\n",
       "      <td>C840083671</td>\n",
       "      <td>181.0</td>\n",
       "      <td>0.00</td>\n",
       "      <td>C38997010</td>\n",
       "      <td>21182.0</td>\n",
       "      <td>0.0</td>\n",
       "      <td>1</td>\n",
       "      <td>0</td>\n",
       "    </tr>\n",
       "    <tr>\n",
       "      <th>4</th>\n",
       "      <td>1</td>\n",
       "      <td>PAYMENT</td>\n",
       "      <td>11668.14</td>\n",
       "      <td>C2048537720</td>\n",
       "      <td>41554.0</td>\n",
       "      <td>29885.86</td>\n",
       "      <td>M1230701703</td>\n",
       "      <td>0.0</td>\n",
       "      <td>0.0</td>\n",
       "      <td>0</td>\n",
       "      <td>0</td>\n",
       "    </tr>\n",
       "  </tbody>\n",
       "</table>\n",
       "</div>"
      ],
      "text/plain": [
       "   step      type    amount     nameOrig  oldbalanceOrg  newbalanceOrig  \\\n",
       "0     1   PAYMENT   9839.64  C1231006815       170136.0       160296.36   \n",
       "1     1   PAYMENT   1864.28  C1666544295        21249.0        19384.72   \n",
       "2     1  TRANSFER    181.00  C1305486145          181.0            0.00   \n",
       "3     1  CASH_OUT    181.00   C840083671          181.0            0.00   \n",
       "4     1   PAYMENT  11668.14  C2048537720        41554.0        29885.86   \n",
       "\n",
       "      nameDest  oldbalanceDest  newbalanceDest  isFraud  isFlaggedFraud  \n",
       "0  M1979787155             0.0             0.0        0               0  \n",
       "1  M2044282225             0.0             0.0        0               0  \n",
       "2   C553264065             0.0             0.0        1               0  \n",
       "3    C38997010         21182.0             0.0        1               0  \n",
       "4  M1230701703             0.0             0.0        0               0  "
      ]
     },
     "execution_count": 2,
     "metadata": {},
     "output_type": "execute_result"
    }
   ],
   "source": [
    "fraud_df = pd.read_csv(\"../input/financial-payment-services-fraud-data/Fraud.csv\")\n",
    "fraud_df.head()"
   ]
  },
  {
   "cell_type": "code",
   "execution_count": 3,
   "id": "cc5865a9",
   "metadata": {
    "execution": {
     "iopub.execute_input": "2022-11-06T16:18:58.673676Z",
     "iopub.status.busy": "2022-11-06T16:18:58.672830Z",
     "iopub.status.idle": "2022-11-06T16:18:58.693607Z",
     "shell.execute_reply": "2022-11-06T16:18:58.692509Z"
    },
    "papermill": {
     "duration": 0.035538,
     "end_time": "2022-11-06T16:18:58.696111",
     "exception": false,
     "start_time": "2022-11-06T16:18:58.660573",
     "status": "completed"
    },
    "tags": []
   },
   "outputs": [
    {
     "name": "stdout",
     "output_type": "stream",
     "text": [
      "<class 'pandas.core.frame.DataFrame'>\n",
      "RangeIndex: 6362620 entries, 0 to 6362619\n",
      "Data columns (total 11 columns):\n",
      " #   Column          Dtype  \n",
      "---  ------          -----  \n",
      " 0   step            int64  \n",
      " 1   type            object \n",
      " 2   amount          float64\n",
      " 3   nameOrig        object \n",
      " 4   oldbalanceOrg   float64\n",
      " 5   newbalanceOrig  float64\n",
      " 6   nameDest        object \n",
      " 7   oldbalanceDest  float64\n",
      " 8   newbalanceDest  float64\n",
      " 9   isFraud         int64  \n",
      " 10  isFlaggedFraud  int64  \n",
      "dtypes: float64(5), int64(3), object(3)\n",
      "memory usage: 534.0+ MB\n"
     ]
    }
   ],
   "source": [
    "fraud_df.info()"
   ]
  },
  {
   "cell_type": "markdown",
   "id": "b6b16b2b",
   "metadata": {
    "papermill": {
     "duration": 0.010653,
     "end_time": "2022-11-06T16:18:58.717853",
     "exception": false,
     "start_time": "2022-11-06T16:18:58.707200",
     "status": "completed"
    },
    "tags": []
   },
   "source": [
    "## 3. Data Pre-processing\n",
    "In order to prepare the data for the predictive analysis, the dataset needs to be pre-processed at the initial phase of the experiment. The entire pre-processing of the data mainly consists of the following phases -\n",
    "- **Missing Values Removal -** In this phase we will search for the missing values from the dataset.\n",
    "- **Outliers Removal -** In this section all the outliers from the numerical columns will be identified and removed from the dataset.\n",
    "- **Multi-collinearity Removal -** In this phase all the Multi-collinearity will be identified and removed for the datasets after calculating the difference values of the respective features."
   ]
  },
  {
   "cell_type": "markdown",
   "id": "8c6c0f5e",
   "metadata": {
    "papermill": {
     "duration": 0.010942,
     "end_time": "2022-11-06T16:18:58.739811",
     "exception": false,
     "start_time": "2022-11-06T16:18:58.728869",
     "status": "completed"
    },
    "tags": []
   },
   "source": [
    "### 3.1. Missing Values Removal"
   ]
  },
  {
   "cell_type": "code",
   "execution_count": 4,
   "id": "13b0152f",
   "metadata": {
    "execution": {
     "iopub.execute_input": "2022-11-06T16:18:58.765364Z",
     "iopub.status.busy": "2022-11-06T16:18:58.763580Z",
     "iopub.status.idle": "2022-11-06T16:18:59.480746Z",
     "shell.execute_reply": "2022-11-06T16:18:59.479678Z"
    },
    "papermill": {
     "duration": 0.732358,
     "end_time": "2022-11-06T16:18:59.483296",
     "exception": false,
     "start_time": "2022-11-06T16:18:58.750938",
     "status": "completed"
    },
    "tags": []
   },
   "outputs": [
    {
     "data": {
      "text/plain": [
       "step              0.0\n",
       "type              0.0\n",
       "amount            0.0\n",
       "nameOrig          0.0\n",
       "oldbalanceOrg     0.0\n",
       "newbalanceOrig    0.0\n",
       "nameDest          0.0\n",
       "oldbalanceDest    0.0\n",
       "newbalanceDest    0.0\n",
       "isFraud           0.0\n",
       "isFlaggedFraud    0.0\n",
       "dtype: float64"
      ]
     },
     "execution_count": 4,
     "metadata": {},
     "output_type": "execute_result"
    }
   ],
   "source": [
    "fraud_df.isnull().mean()*100"
   ]
  },
  {
   "cell_type": "markdown",
   "id": "2f1c5adb",
   "metadata": {
    "papermill": {
     "duration": 0.010746,
     "end_time": "2022-11-06T16:18:59.505843",
     "exception": false,
     "start_time": "2022-11-06T16:18:59.495097",
     "status": "completed"
    },
    "tags": []
   },
   "source": [
    "During the analysis, no missing values have been found from the dataset."
   ]
  },
  {
   "cell_type": "markdown",
   "id": "93e03a5d",
   "metadata": {
    "papermill": {
     "duration": 0.01065,
     "end_time": "2022-11-06T16:18:59.527417",
     "exception": false,
     "start_time": "2022-11-06T16:18:59.516767",
     "status": "completed"
    },
    "tags": []
   },
   "source": [
    "### 3.2. Outliers Removal"
   ]
  },
  {
   "cell_type": "markdown",
   "id": "d89ad33d",
   "metadata": {
    "papermill": {
     "duration": 0.010714,
     "end_time": "2022-11-06T16:18:59.549025",
     "exception": false,
     "start_time": "2022-11-06T16:18:59.538311",
     "status": "completed"
    },
    "tags": []
   },
   "source": [
    "#### 3.2.1. Outliers fromf Amount of the Transaction"
   ]
  },
  {
   "cell_type": "code",
   "execution_count": 5,
   "id": "99402baa",
   "metadata": {
    "execution": {
     "iopub.execute_input": "2022-11-06T16:18:59.572151Z",
     "iopub.status.busy": "2022-11-06T16:18:59.571810Z",
     "iopub.status.idle": "2022-11-06T16:19:00.236634Z",
     "shell.execute_reply": "2022-11-06T16:19:00.235452Z"
    },
    "papermill": {
     "duration": 0.67957,
     "end_time": "2022-11-06T16:19:00.239453",
     "exception": false,
     "start_time": "2022-11-06T16:18:59.559883",
     "status": "completed"
    },
    "tags": []
   },
   "outputs": [
    {
     "data": {
      "image/png": "[encoded data removed]",
      "text/plain": [
       "<Figure size 432x288 with 1 Axes>"
      ]
     },
     "metadata": {
      "needs_background": "light"
     },
     "output_type": "display_data"
    }
   ],
   "source": [
    "plt.boxplot(fraud_df['amount'])\n",
    "plt.show()"
   ]
  },
  {
   "cell_type": "code",
   "execution_count": 6,
   "id": "3cd3f1ad",
   "metadata": {
    "execution": {
     "iopub.execute_input": "2022-11-06T16:19:00.266185Z",
     "iopub.status.busy": "2022-11-06T16:19:00.265866Z",
     "iopub.status.idle": "2022-11-06T16:19:00.353464Z",
     "shell.execute_reply": "2022-11-06T16:19:00.352292Z"
    },
    "papermill": {
     "duration": 0.103732,
     "end_time": "2022-11-06T16:19:00.356356",
     "exception": false,
     "start_time": "2022-11-06T16:19:00.252624",
     "status": "completed"
    },
    "tags": []
   },
   "outputs": [
    {
     "data": {
      "text/html": [
       "<div>\n",
       "<style scoped>\n",
       "    .dataframe tbody tr th:only-of-type {\n",
       "        vertical-align: middle;\n",
       "    }\n",
       "\n",
       "    .dataframe tbody tr th {\n",
       "        vertical-align: top;\n",
       "    }\n",
       "\n",
       "    .dataframe thead th {\n",
       "        text-align: right;\n",
       "    }\n",
       "</style>\n",
       "<table border=\"1\" class=\"dataframe\">\n",
       "  <thead>\n",
       "    <tr style=\"text-align: right;\">\n",
       "      <th></th>\n",
       "      <th>step</th>\n",
       "      <th>type</th>\n",
       "      <th>amount</th>\n",
       "      <th>nameOrig</th>\n",
       "      <th>oldbalanceOrg</th>\n",
       "      <th>newbalanceOrig</th>\n",
       "      <th>nameDest</th>\n",
       "      <th>oldbalanceDest</th>\n",
       "      <th>newbalanceDest</th>\n",
       "      <th>isFraud</th>\n",
       "      <th>isFlaggedFraud</th>\n",
       "    </tr>\n",
       "  </thead>\n",
       "  <tbody>\n",
       "    <tr>\n",
       "      <th>3686583</th>\n",
       "      <td>276</td>\n",
       "      <td>TRANSFER</td>\n",
       "      <td>92445516.64</td>\n",
       "      <td>C1715283297</td>\n",
       "      <td>0.0</td>\n",
       "      <td>0.0</td>\n",
       "      <td>C439737079</td>\n",
       "      <td>9595.98</td>\n",
       "      <td>92455112.62</td>\n",
       "      <td>0</td>\n",
       "      <td>0</td>\n",
       "    </tr>\n",
       "  </tbody>\n",
       "</table>\n",
       "</div>"
      ],
      "text/plain": [
       "         step      type       amount     nameOrig  oldbalanceOrg  \\\n",
       "3686583   276  TRANSFER  92445516.64  C1715283297            0.0   \n",
       "\n",
       "         newbalanceOrig    nameDest  oldbalanceDest  newbalanceDest  isFraud  \\\n",
       "3686583             0.0  C439737079         9595.98     92455112.62        0   \n",
       "\n",
       "         isFlaggedFraud  \n",
       "3686583               0  "
      ]
     },
     "execution_count": 6,
     "metadata": {},
     "output_type": "execute_result"
    }
   ],
   "source": [
    "fraud_df.query('amount>80000000')"
   ]
  },
  {
   "cell_type": "code",
   "execution_count": 7,
   "id": "97947e03",
   "metadata": {
    "execution": {
     "iopub.execute_input": "2022-11-06T16:19:00.381900Z",
     "iopub.status.busy": "2022-11-06T16:19:00.381567Z",
     "iopub.status.idle": "2022-11-06T16:19:01.079530Z",
     "shell.execute_reply": "2022-11-06T16:19:01.078521Z"
    },
    "papermill": {
     "duration": 0.713882,
     "end_time": "2022-11-06T16:19:01.082205",
     "exception": false,
     "start_time": "2022-11-06T16:19:00.368323",
     "status": "completed"
    },
    "tags": []
   },
   "outputs": [],
   "source": [
    "indexNames = fraud_df[fraud_df['amount'] > 80000000].index\n",
    "fraud_df.drop(indexNames , inplace=True)"
   ]
  },
  {
   "cell_type": "markdown",
   "id": "91e57a2a",
   "metadata": {
    "papermill": {
     "duration": 0.011414,
     "end_time": "2022-11-06T16:19:01.105845",
     "exception": false,
     "start_time": "2022-11-06T16:19:01.094431",
     "status": "completed"
    },
    "tags": []
   },
   "source": [
    "During the analysis, one outlier has been found for the **amount** feature with a value of greater than 80000000. The outlier has been removed from the dataset."
   ]
  },
  {
   "cell_type": "markdown",
   "id": "9616d9bf",
   "metadata": {
    "papermill": {
     "duration": 0.011905,
     "end_time": "2022-11-06T16:19:01.129423",
     "exception": false,
     "start_time": "2022-11-06T16:19:01.117518",
     "status": "completed"
    },
    "tags": []
   },
   "source": [
    "#### 3.2.2. Outliers from Initial Balance Before the Transaction"
   ]
  },
  {
   "cell_type": "code",
   "execution_count": 8,
   "id": "786a4df0",
   "metadata": {
    "execution": {
     "iopub.execute_input": "2022-11-06T16:19:01.154807Z",
     "iopub.status.busy": "2022-11-06T16:19:01.153928Z",
     "iopub.status.idle": "2022-11-06T16:19:02.363062Z",
     "shell.execute_reply": "2022-11-06T16:19:02.361934Z"
    },
    "papermill": {
     "duration": 1.223846,
     "end_time": "2022-11-06T16:19:02.365204",
     "exception": false,
     "start_time": "2022-11-06T16:19:01.141358",
     "status": "completed"
    },
    "tags": []
   },
   "outputs": [
    {
     "data": {
      "image/png": "[encoded data removed]",
      "text/plain": [
       "<Figure size 432x288 with 1 Axes>"
      ]
     },
     "metadata": {
      "needs_background": "light"
     },
     "output_type": "display_data"
    }
   ],
   "source": [
    "plt.boxplot(fraud_df['oldbalanceOrg'])\n",
    "plt.show()"
   ]
  },
  {
   "cell_type": "code",
   "execution_count": 9,
   "id": "e78c968b",
   "metadata": {
    "execution": {
     "iopub.execute_input": "2022-11-06T16:19:02.390180Z",
     "iopub.status.busy": "2022-11-06T16:19:02.389388Z",
     "iopub.status.idle": "2022-11-06T16:19:02.453988Z",
     "shell.execute_reply": "2022-11-06T16:19:02.453124Z"
    },
    "papermill": {
     "duration": 0.079306,
     "end_time": "2022-11-06T16:19:02.456310",
     "exception": false,
     "start_time": "2022-11-06T16:19:02.377004",
     "status": "completed"
    },
    "tags": []
   },
   "outputs": [
    {
     "data": {
      "text/html": [
       "<div>\n",
       "<style scoped>\n",
       "    .dataframe tbody tr th:only-of-type {\n",
       "        vertical-align: middle;\n",
       "    }\n",
       "\n",
       "    .dataframe tbody tr th {\n",
       "        vertical-align: top;\n",
       "    }\n",
       "\n",
       "    .dataframe thead th {\n",
       "        text-align: right;\n",
       "    }\n",
       "</style>\n",
       "<table border=\"1\" class=\"dataframe\">\n",
       "  <thead>\n",
       "    <tr style=\"text-align: right;\">\n",
       "      <th></th>\n",
       "      <th>step</th>\n",
       "      <th>type</th>\n",
       "      <th>amount</th>\n",
       "      <th>nameOrig</th>\n",
       "      <th>oldbalanceOrg</th>\n",
       "      <th>newbalanceOrig</th>\n",
       "      <th>nameDest</th>\n",
       "      <th>oldbalanceDest</th>\n",
       "      <th>newbalanceDest</th>\n",
       "      <th>isFraud</th>\n",
       "      <th>isFlaggedFraud</th>\n",
       "    </tr>\n",
       "  </thead>\n",
       "  <tbody>\n",
       "    <tr>\n",
       "      <th>5996399</th>\n",
       "      <td>425</td>\n",
       "      <td>TRANSFER</td>\n",
       "      <td>10000000.0</td>\n",
       "      <td>C40489106</td>\n",
       "      <td>59585040.37</td>\n",
       "      <td>49585040.37</td>\n",
       "      <td>C650095152</td>\n",
       "      <td>0.0</td>\n",
       "      <td>0.0</td>\n",
       "      <td>1</td>\n",
       "      <td>0</td>\n",
       "    </tr>\n",
       "    <tr>\n",
       "      <th>6281474</th>\n",
       "      <td>646</td>\n",
       "      <td>TRANSFER</td>\n",
       "      <td>10000000.0</td>\n",
       "      <td>C590657619</td>\n",
       "      <td>50399045.08</td>\n",
       "      <td>40399045.08</td>\n",
       "      <td>C1971187430</td>\n",
       "      <td>0.0</td>\n",
       "      <td>0.0</td>\n",
       "      <td>1</td>\n",
       "      <td>0</td>\n",
       "    </tr>\n",
       "    <tr>\n",
       "      <th>6362452</th>\n",
       "      <td>730</td>\n",
       "      <td>TRANSFER</td>\n",
       "      <td>10000000.0</td>\n",
       "      <td>C726730575</td>\n",
       "      <td>57316255.05</td>\n",
       "      <td>47316255.05</td>\n",
       "      <td>C1364745638</td>\n",
       "      <td>0.0</td>\n",
       "      <td>0.0</td>\n",
       "      <td>1</td>\n",
       "      <td>0</td>\n",
       "    </tr>\n",
       "  </tbody>\n",
       "</table>\n",
       "</div>"
      ],
      "text/plain": [
       "         step      type      amount    nameOrig  oldbalanceOrg  \\\n",
       "5996399   425  TRANSFER  10000000.0   C40489106    59585040.37   \n",
       "6281474   646  TRANSFER  10000000.0  C590657619    50399045.08   \n",
       "6362452   730  TRANSFER  10000000.0  C726730575    57316255.05   \n",
       "\n",
       "         newbalanceOrig     nameDest  oldbalanceDest  newbalanceDest  isFraud  \\\n",
       "5996399     49585040.37   C650095152             0.0             0.0        1   \n",
       "6281474     40399045.08  C1971187430             0.0             0.0        1   \n",
       "6362452     47316255.05  C1364745638             0.0             0.0        1   \n",
       "\n",
       "         isFlaggedFraud  \n",
       "5996399               0  \n",
       "6281474               0  \n",
       "6362452               0  "
      ]
     },
     "execution_count": 9,
     "metadata": {},
     "output_type": "execute_result"
    }
   ],
   "source": [
    "fraud_df.query('oldbalanceOrg>50000000')"
   ]
  },
  {
   "cell_type": "code",
   "execution_count": 10,
   "id": "df748e1d",
   "metadata": {
    "execution": {
     "iopub.execute_input": "2022-11-06T16:19:02.483184Z",
     "iopub.status.busy": "2022-11-06T16:19:02.482256Z",
     "iopub.status.idle": "2022-11-06T16:19:03.748767Z",
     "shell.execute_reply": "2022-11-06T16:19:03.747770Z"
    },
    "papermill": {
     "duration": 1.28262,
     "end_time": "2022-11-06T16:19:03.751515",
     "exception": false,
     "start_time": "2022-11-06T16:19:02.468895",
     "status": "completed"
    },
    "tags": []
   },
   "outputs": [],
   "source": [
    "indexNames = fraud_df[fraud_df['oldbalanceOrg'] > 50000000].index\n",
    "fraud_df.drop(indexNames , inplace=True)"
   ]
  },
  {
   "cell_type": "markdown",
   "id": "a0ef4ca9",
   "metadata": {
    "papermill": {
     "duration": 0.013354,
     "end_time": "2022-11-06T16:19:03.778879",
     "exception": false,
     "start_time": "2022-11-06T16:19:03.765525",
     "status": "completed"
    },
    "tags": []
   },
   "source": [
    "During the analysis, three outliers have been found for the **oldbalanceOrg** feature with a value of greater than 50000000. The outliers have been removed from the dataset."
   ]
  },
  {
   "cell_type": "markdown",
   "id": "c5ed933a",
   "metadata": {
    "papermill": {
     "duration": 0.011771,
     "end_time": "2022-11-06T16:19:03.802490",
     "exception": false,
     "start_time": "2022-11-06T16:19:03.790719",
     "status": "completed"
    },
    "tags": []
   },
   "source": [
    "#### 3.2.3. Outliers from New Balance After the Transaction"
   ]
  },
  {
   "cell_type": "code",
   "execution_count": 11,
   "id": "c6bdfd6b",
   "metadata": {
    "execution": {
     "iopub.execute_input": "2022-11-06T16:19:03.827507Z",
     "iopub.status.busy": "2022-11-06T16:19:03.827201Z",
     "iopub.status.idle": "2022-11-06T16:19:04.979721Z",
     "shell.execute_reply": "2022-11-06T16:19:04.978815Z"
    },
    "papermill": {
     "duration": 1.167597,
     "end_time": "2022-11-06T16:19:04.982168",
     "exception": false,
     "start_time": "2022-11-06T16:19:03.814571",
     "status": "completed"
    },
    "tags": []
   },
   "outputs": [
    {
     "data": {
      "image/png": "[encoded data removed]",
      "text/plain": [
       "<Figure size 432x288 with 1 Axes>"
      ]
     },
     "metadata": {
      "needs_background": "light"
     },
     "output_type": "display_data"
    }
   ],
   "source": [
    "plt.boxplot(fraud_df['newbalanceOrig'])\n",
    "plt.show()"
   ]
  },
  {
   "cell_type": "code",
   "execution_count": 12,
   "id": "ff11e7f5",
   "metadata": {
    "execution": {
     "iopub.execute_input": "2022-11-06T16:19:05.008347Z",
     "iopub.status.busy": "2022-11-06T16:19:05.008047Z",
     "iopub.status.idle": "2022-11-06T16:19:05.070990Z",
     "shell.execute_reply": "2022-11-06T16:19:05.069907Z"
    },
    "papermill": {
     "duration": 0.0784,
     "end_time": "2022-11-06T16:19:05.073514",
     "exception": false,
     "start_time": "2022-11-06T16:19:04.995114",
     "status": "completed"
    },
    "tags": []
   },
   "outputs": [
    {
     "data": {
      "text/html": [
       "<div>\n",
       "<style scoped>\n",
       "    .dataframe tbody tr th:only-of-type {\n",
       "        vertical-align: middle;\n",
       "    }\n",
       "\n",
       "    .dataframe tbody tr th {\n",
       "        vertical-align: top;\n",
       "    }\n",
       "\n",
       "    .dataframe thead th {\n",
       "        text-align: right;\n",
       "    }\n",
       "</style>\n",
       "<table border=\"1\" class=\"dataframe\">\n",
       "  <thead>\n",
       "    <tr style=\"text-align: right;\">\n",
       "      <th></th>\n",
       "      <th>step</th>\n",
       "      <th>type</th>\n",
       "      <th>amount</th>\n",
       "      <th>nameOrig</th>\n",
       "      <th>oldbalanceOrg</th>\n",
       "      <th>newbalanceOrig</th>\n",
       "      <th>nameDest</th>\n",
       "      <th>oldbalanceDest</th>\n",
       "      <th>newbalanceDest</th>\n",
       "      <th>isFraud</th>\n",
       "      <th>isFlaggedFraud</th>\n",
       "    </tr>\n",
       "  </thead>\n",
       "  <tbody>\n",
       "    <tr>\n",
       "      <th>4180200</th>\n",
       "      <td>304</td>\n",
       "      <td>PAYMENT</td>\n",
       "      <td>8301.85</td>\n",
       "      <td>C1568160039</td>\n",
       "      <td>41699144.49</td>\n",
       "      <td>41690842.64</td>\n",
       "      <td>M1906748245</td>\n",
       "      <td>0.00</td>\n",
       "      <td>0.00</td>\n",
       "      <td>0</td>\n",
       "      <td>0</td>\n",
       "    </tr>\n",
       "    <tr>\n",
       "      <th>4180201</th>\n",
       "      <td>304</td>\n",
       "      <td>CASH_OUT</td>\n",
       "      <td>258483.17</td>\n",
       "      <td>C438977024</td>\n",
       "      <td>41690842.64</td>\n",
       "      <td>41432359.46</td>\n",
       "      <td>C1162702437</td>\n",
       "      <td>6449276.06</td>\n",
       "      <td>6707759.23</td>\n",
       "      <td>0</td>\n",
       "      <td>0</td>\n",
       "    </tr>\n",
       "    <tr>\n",
       "      <th>4203639</th>\n",
       "      <td>305</td>\n",
       "      <td>CASH_OUT</td>\n",
       "      <td>132238.97</td>\n",
       "      <td>C559275248</td>\n",
       "      <td>43818855.30</td>\n",
       "      <td>43686616.33</td>\n",
       "      <td>C1114436169</td>\n",
       "      <td>5327024.57</td>\n",
       "      <td>5459263.54</td>\n",
       "      <td>0</td>\n",
       "      <td>0</td>\n",
       "    </tr>\n",
       "    <tr>\n",
       "      <th>4203640</th>\n",
       "      <td>305</td>\n",
       "      <td>PAYMENT</td>\n",
       "      <td>12814.12</td>\n",
       "      <td>C2080486364</td>\n",
       "      <td>43686616.33</td>\n",
       "      <td>43673802.21</td>\n",
       "      <td>M928977012</td>\n",
       "      <td>0.00</td>\n",
       "      <td>0.00</td>\n",
       "      <td>0</td>\n",
       "      <td>0</td>\n",
       "    </tr>\n",
       "  </tbody>\n",
       "</table>\n",
       "</div>"
      ],
      "text/plain": [
       "         step      type     amount     nameOrig  oldbalanceOrg  \\\n",
       "4180200   304   PAYMENT    8301.85  C1568160039    41699144.49   \n",
       "4180201   304  CASH_OUT  258483.17   C438977024    41690842.64   \n",
       "4203639   305  CASH_OUT  132238.97   C559275248    43818855.30   \n",
       "4203640   305   PAYMENT   12814.12  C2080486364    43686616.33   \n",
       "\n",
       "         newbalanceOrig     nameDest  oldbalanceDest  newbalanceDest  isFraud  \\\n",
       "4180200     41690842.64  M1906748245            0.00            0.00        0   \n",
       "4180201     41432359.46  C1162702437      6449276.06      6707759.23        0   \n",
       "4203639     43686616.33  C1114436169      5327024.57      5459263.54        0   \n",
       "4203640     43673802.21   M928977012            0.00            0.00        0   \n",
       "\n",
       "         isFlaggedFraud  \n",
       "4180200               0  \n",
       "4180201               0  \n",
       "4203639               0  \n",
       "4203640               0  "
      ]
     },
     "execution_count": 12,
     "metadata": {},
     "output_type": "execute_result"
    }
   ],
   "source": [
    "fraud_df.query('newbalanceOrig>40000000')"
   ]
  },
  {
   "cell_type": "code",
   "execution_count": 13,
   "id": "da487302",
   "metadata": {
    "execution": {
     "iopub.execute_input": "2022-11-06T16:19:05.101149Z",
     "iopub.status.busy": "2022-11-06T16:19:05.099522Z",
     "iopub.status.idle": "2022-11-06T16:19:06.517060Z",
     "shell.execute_reply": "2022-11-06T16:19:06.515736Z"
    },
    "papermill": {
     "duration": 1.433962,
     "end_time": "2022-11-06T16:19:06.519832",
     "exception": false,
     "start_time": "2022-11-06T16:19:05.085870",
     "status": "completed"
    },
    "tags": []
   },
   "outputs": [],
   "source": [
    "indexNames = fraud_df[fraud_df['newbalanceOrig'] > 40000000].index\n",
    "fraud_df.drop(indexNames , inplace=True)"
   ]
  },
  {
   "cell_type": "markdown",
   "id": "7dbbea7b",
   "metadata": {
    "papermill": {
     "duration": 0.011986,
     "end_time": "2022-11-06T16:19:06.544597",
     "exception": false,
     "start_time": "2022-11-06T16:19:06.532611",
     "status": "completed"
    },
    "tags": []
   },
   "source": [
    "During the analysis, four outliers have been found for the **newbalanceOrig** feature with a value of greater than 40000000. The outliers have been removed from the dataset."
   ]
  },
  {
   "cell_type": "markdown",
   "id": "3f6ea0cd",
   "metadata": {
    "papermill": {
     "duration": 0.012603,
     "end_time": "2022-11-06T16:19:06.569297",
     "exception": false,
     "start_time": "2022-11-06T16:19:06.556694",
     "status": "completed"
    },
    "tags": []
   },
   "source": [
    "#### 3.2.4. Outliers from Initial Balance Recipient Before the Transaction"
   ]
  },
  {
   "cell_type": "code",
   "execution_count": 14,
   "id": "54e91375",
   "metadata": {
    "execution": {
     "iopub.execute_input": "2022-11-06T16:19:06.595082Z",
     "iopub.status.busy": "2022-11-06T16:19:06.594768Z",
     "iopub.status.idle": "2022-11-06T16:19:07.562674Z",
     "shell.execute_reply": "2022-11-06T16:19:07.561555Z"
    },
    "papermill": {
     "duration": 0.983376,
     "end_time": "2022-11-06T16:19:07.564750",
     "exception": false,
     "start_time": "2022-11-06T16:19:06.581374",
     "status": "completed"
    },
    "tags": []
   },
   "outputs": [
    {
     "data": {
      "image/png": "[encoded data removed]",
      "text/plain": [
       "<Figure size 432x288 with 1 Axes>"
      ]
     },
     "metadata": {
      "needs_background": "light"
     },
     "output_type": "display_data"
    }
   ],
   "source": [
    "plt.boxplot(fraud_df['oldbalanceDest'])\n",
    "plt.show()"
   ]
  },
  {
   "cell_type": "code",
   "execution_count": 15,
   "id": "52b85061",
   "metadata": {
    "execution": {
     "iopub.execute_input": "2022-11-06T16:19:07.594008Z",
     "iopub.status.busy": "2022-11-06T16:19:07.592352Z",
     "iopub.status.idle": "2022-11-06T16:19:07.662229Z",
     "shell.execute_reply": "2022-11-06T16:19:07.661120Z"
    },
    "papermill": {
     "duration": 0.086761,
     "end_time": "2022-11-06T16:19:07.664412",
     "exception": false,
     "start_time": "2022-11-06T16:19:07.577651",
     "status": "completed"
    },
    "tags": []
   },
   "outputs": [
    {
     "data": {
      "text/html": [
       "<div>\n",
       "<style scoped>\n",
       "    .dataframe tbody tr th:only-of-type {\n",
       "        vertical-align: middle;\n",
       "    }\n",
       "\n",
       "    .dataframe tbody tr th {\n",
       "        vertical-align: top;\n",
       "    }\n",
       "\n",
       "    .dataframe thead th {\n",
       "        text-align: right;\n",
       "    }\n",
       "</style>\n",
       "<table border=\"1\" class=\"dataframe\">\n",
       "  <thead>\n",
       "    <tr style=\"text-align: right;\">\n",
       "      <th></th>\n",
       "      <th>step</th>\n",
       "      <th>type</th>\n",
       "      <th>amount</th>\n",
       "      <th>nameOrig</th>\n",
       "      <th>oldbalanceOrg</th>\n",
       "      <th>newbalanceOrig</th>\n",
       "      <th>nameDest</th>\n",
       "      <th>oldbalanceDest</th>\n",
       "      <th>newbalanceDest</th>\n",
       "      <th>isFraud</th>\n",
       "      <th>isFlaggedFraud</th>\n",
       "    </tr>\n",
       "  </thead>\n",
       "  <tbody>\n",
       "    <tr>\n",
       "      <th>4596803</th>\n",
       "      <td>328</td>\n",
       "      <td>CASH_IN</td>\n",
       "      <td>171982.69</td>\n",
       "      <td>C758787020</td>\n",
       "      <td>31748.00</td>\n",
       "      <td>203730.69</td>\n",
       "      <td>C439737079</td>\n",
       "      <td>3.555534e+08</td>\n",
       "      <td>3.553814e+08</td>\n",
       "      <td>0</td>\n",
       "      <td>0</td>\n",
       "    </tr>\n",
       "    <tr>\n",
       "      <th>4721497</th>\n",
       "      <td>332</td>\n",
       "      <td>CASH_IN</td>\n",
       "      <td>195896.55</td>\n",
       "      <td>C494525103</td>\n",
       "      <td>4178494.78</td>\n",
       "      <td>4374391.33</td>\n",
       "      <td>C439737079</td>\n",
       "      <td>3.553814e+08</td>\n",
       "      <td>3.551855e+08</td>\n",
       "      <td>0</td>\n",
       "      <td>0</td>\n",
       "    </tr>\n",
       "    <tr>\n",
       "      <th>5380607</th>\n",
       "      <td>376</td>\n",
       "      <td>CASH_OUT</td>\n",
       "      <td>194946.47</td>\n",
       "      <td>C4896808</td>\n",
       "      <td>0.00</td>\n",
       "      <td>0.00</td>\n",
       "      <td>C439737079</td>\n",
       "      <td>3.551855e+08</td>\n",
       "      <td>3.553805e+08</td>\n",
       "      <td>0</td>\n",
       "      <td>0</td>\n",
       "    </tr>\n",
       "    <tr>\n",
       "      <th>5486389</th>\n",
       "      <td>380</td>\n",
       "      <td>TRANSFER</td>\n",
       "      <td>635405.82</td>\n",
       "      <td>C1666289749</td>\n",
       "      <td>0.00</td>\n",
       "      <td>0.00</td>\n",
       "      <td>C439737079</td>\n",
       "      <td>3.553805e+08</td>\n",
       "      <td>3.560159e+08</td>\n",
       "      <td>0</td>\n",
       "      <td>0</td>\n",
       "    </tr>\n",
       "    <tr>\n",
       "      <th>5920180</th>\n",
       "      <td>404</td>\n",
       "      <td>CASH_OUT</td>\n",
       "      <td>163389.56</td>\n",
       "      <td>C1323053481</td>\n",
       "      <td>0.00</td>\n",
       "      <td>0.00</td>\n",
       "      <td>C439737079</td>\n",
       "      <td>3.560159e+08</td>\n",
       "      <td>3.561793e+08</td>\n",
       "      <td>0</td>\n",
       "      <td>0</td>\n",
       "    </tr>\n",
       "  </tbody>\n",
       "</table>\n",
       "</div>"
      ],
      "text/plain": [
       "         step      type     amount     nameOrig  oldbalanceOrg  \\\n",
       "4596803   328   CASH_IN  171982.69   C758787020       31748.00   \n",
       "4721497   332   CASH_IN  195896.55   C494525103     4178494.78   \n",
       "5380607   376  CASH_OUT  194946.47     C4896808           0.00   \n",
       "5486389   380  TRANSFER  635405.82  C1666289749           0.00   \n",
       "5920180   404  CASH_OUT  163389.56  C1323053481           0.00   \n",
       "\n",
       "         newbalanceOrig    nameDest  oldbalanceDest  newbalanceDest  isFraud  \\\n",
       "4596803       203730.69  C439737079    3.555534e+08    3.553814e+08        0   \n",
       "4721497      4374391.33  C439737079    3.553814e+08    3.551855e+08        0   \n",
       "5380607            0.00  C439737079    3.551855e+08    3.553805e+08        0   \n",
       "5486389            0.00  C439737079    3.553805e+08    3.560159e+08        0   \n",
       "5920180            0.00  C439737079    3.560159e+08    3.561793e+08        0   \n",
       "\n",
       "         isFlaggedFraud  \n",
       "4596803               0  \n",
       "4721497               0  \n",
       "5380607               0  \n",
       "5486389               0  \n",
       "5920180               0  "
      ]
     },
     "execution_count": 15,
     "metadata": {},
     "output_type": "execute_result"
    }
   ],
   "source": [
    "fraud_df.query('oldbalanceDest>350000000')"
   ]
  },
  {
   "cell_type": "code",
   "execution_count": 16,
   "id": "b4e3176e",
   "metadata": {
    "execution": {
     "iopub.execute_input": "2022-11-06T16:19:07.693013Z",
     "iopub.status.busy": "2022-11-06T16:19:07.691211Z",
     "iopub.status.idle": "2022-11-06T16:19:08.894966Z",
     "shell.execute_reply": "2022-11-06T16:19:08.893970Z"
    },
    "papermill": {
     "duration": 1.220101,
     "end_time": "2022-11-06T16:19:08.897695",
     "exception": false,
     "start_time": "2022-11-06T16:19:07.677594",
     "status": "completed"
    },
    "tags": []
   },
   "outputs": [],
   "source": [
    "indexNames = fraud_df[fraud_df['oldbalanceDest'] > 350000000].index\n",
    "fraud_df.drop(indexNames , inplace=True)"
   ]
  },
  {
   "cell_type": "markdown",
   "id": "1dc4dfc3",
   "metadata": {
    "papermill": {
     "duration": 0.013516,
     "end_time": "2022-11-06T16:19:08.925541",
     "exception": false,
     "start_time": "2022-11-06T16:19:08.912025",
     "status": "completed"
    },
    "tags": []
   },
   "source": [
    "During the analysis, Five outliers have been found for the **oldbalanceDest** feature with a value of greater than 350000000. The outliers have been removed from the dataset."
   ]
  },
  {
   "cell_type": "markdown",
   "id": "92f7ea3a",
   "metadata": {
    "papermill": {
     "duration": 0.012442,
     "end_time": "2022-11-06T16:19:08.950899",
     "exception": false,
     "start_time": "2022-11-06T16:19:08.938457",
     "status": "completed"
    },
    "tags": []
   },
   "source": [
    "#### 3.2.5. Outliers from New Balance Recipient After the Transaction"
   ]
  },
  {
   "cell_type": "code",
   "execution_count": 17,
   "id": "2ae83511",
   "metadata": {
    "execution": {
     "iopub.execute_input": "2022-11-06T16:19:08.977508Z",
     "iopub.status.busy": "2022-11-06T16:19:08.977189Z",
     "iopub.status.idle": "2022-11-06T16:19:09.916919Z",
     "shell.execute_reply": "2022-11-06T16:19:09.915916Z"
    },
    "papermill": {
     "duration": 0.955511,
     "end_time": "2022-11-06T16:19:09.919173",
     "exception": false,
     "start_time": "2022-11-06T16:19:08.963662",
     "status": "completed"
    },
    "tags": []
   },
   "outputs": [
    {
     "data": {
      "image/png": "[encoded data removed]",
      "text/plain": [
       "<Figure size 432x288 with 1 Axes>"
      ]
     },
     "metadata": {
      "needs_background": "light"
     },
     "output_type": "display_data"
    }
   ],
   "source": [
    "plt.boxplot(fraud_df['newbalanceDest'])\n",
    "plt.show()"
   ]
  },
  {
   "cell_type": "code",
   "execution_count": 18,
   "id": "1fcd3e7b",
   "metadata": {
    "execution": {
     "iopub.execute_input": "2022-11-06T16:19:09.946581Z",
     "iopub.status.busy": "2022-11-06T16:19:09.946291Z",
     "iopub.status.idle": "2022-11-06T16:19:10.011338Z",
     "shell.execute_reply": "2022-11-06T16:19:10.010270Z"
    },
    "papermill": {
     "duration": 0.081735,
     "end_time": "2022-11-06T16:19:10.014180",
     "exception": false,
     "start_time": "2022-11-06T16:19:09.932445",
     "status": "completed"
    },
    "tags": []
   },
   "outputs": [
    {
     "data": {
      "text/html": [
       "<div>\n",
       "<style scoped>\n",
       "    .dataframe tbody tr th:only-of-type {\n",
       "        vertical-align: middle;\n",
       "    }\n",
       "\n",
       "    .dataframe tbody tr th {\n",
       "        vertical-align: top;\n",
       "    }\n",
       "\n",
       "    .dataframe thead th {\n",
       "        text-align: right;\n",
       "    }\n",
       "</style>\n",
       "<table border=\"1\" class=\"dataframe\">\n",
       "  <thead>\n",
       "    <tr style=\"text-align: right;\">\n",
       "      <th></th>\n",
       "      <th>step</th>\n",
       "      <th>type</th>\n",
       "      <th>amount</th>\n",
       "      <th>nameOrig</th>\n",
       "      <th>oldbalanceOrg</th>\n",
       "      <th>newbalanceOrig</th>\n",
       "      <th>nameDest</th>\n",
       "      <th>oldbalanceDest</th>\n",
       "      <th>newbalanceDest</th>\n",
       "      <th>isFraud</th>\n",
       "      <th>isFlaggedFraud</th>\n",
       "    </tr>\n",
       "  </thead>\n",
       "  <tbody>\n",
       "    <tr>\n",
       "      <th>4124250</th>\n",
       "      <td>302</td>\n",
       "      <td>TRANSFER</td>\n",
       "      <td>3325263.90</td>\n",
       "      <td>C1812458696</td>\n",
       "      <td>0.0</td>\n",
       "      <td>0.0</td>\n",
       "      <td>C439737079</td>\n",
       "      <td>3.215898e+08</td>\n",
       "      <td>355553416.3</td>\n",
       "      <td>0</td>\n",
       "      <td>0</td>\n",
       "    </tr>\n",
       "    <tr>\n",
       "      <th>4133583</th>\n",
       "      <td>302</td>\n",
       "      <td>TRANSFER</td>\n",
       "      <td>30638354.89</td>\n",
       "      <td>C1800693711</td>\n",
       "      <td>0.0</td>\n",
       "      <td>0.0</td>\n",
       "      <td>C439737079</td>\n",
       "      <td>3.249151e+08</td>\n",
       "      <td>355553416.3</td>\n",
       "      <td>0</td>\n",
       "      <td>0</td>\n",
       "    </tr>\n",
       "  </tbody>\n",
       "</table>\n",
       "</div>"
      ],
      "text/plain": [
       "         step      type       amount     nameOrig  oldbalanceOrg  \\\n",
       "4124250   302  TRANSFER   3325263.90  C1812458696            0.0   \n",
       "4133583   302  TRANSFER  30638354.89  C1800693711            0.0   \n",
       "\n",
       "         newbalanceOrig    nameDest  oldbalanceDest  newbalanceDest  isFraud  \\\n",
       "4124250             0.0  C439737079    3.215898e+08     355553416.3        0   \n",
       "4133583             0.0  C439737079    3.249151e+08     355553416.3        0   \n",
       "\n",
       "         isFlaggedFraud  \n",
       "4124250               0  \n",
       "4133583               0  "
      ]
     },
     "execution_count": 18,
     "metadata": {},
     "output_type": "execute_result"
    }
   ],
   "source": [
    "fraud_df.query('newbalanceDest>350000000')"
   ]
  },
  {
   "cell_type": "code",
   "execution_count": 19,
   "id": "cef3d161",
   "metadata": {
    "execution": {
     "iopub.execute_input": "2022-11-06T16:19:10.041623Z",
     "iopub.status.busy": "2022-11-06T16:19:10.041341Z",
     "iopub.status.idle": "2022-11-06T16:19:11.243006Z",
     "shell.execute_reply": "2022-11-06T16:19:11.241856Z"
    },
    "papermill": {
     "duration": 1.218007,
     "end_time": "2022-11-06T16:19:11.245419",
     "exception": false,
     "start_time": "2022-11-06T16:19:10.027412",
     "status": "completed"
    },
    "tags": []
   },
   "outputs": [],
   "source": [
    "indexNames = fraud_df[fraud_df['newbalanceDest'] > 350000000].index\n",
    "fraud_df.drop(indexNames , inplace=True)"
   ]
  },
  {
   "cell_type": "markdown",
   "id": "42e86027",
   "metadata": {
    "papermill": {
     "duration": 0.013072,
     "end_time": "2022-11-06T16:19:11.272333",
     "exception": false,
     "start_time": "2022-11-06T16:19:11.259261",
     "status": "completed"
    },
    "tags": []
   },
   "source": [
    "During the analysis, two outliers have been found for the **newbalanceDest** feature with a value of greater than 350000000. The outliers have been removed from the dataset."
   ]
  },
  {
   "cell_type": "code",
   "execution_count": 20,
   "id": "39df6b7f",
   "metadata": {
    "execution": {
     "iopub.execute_input": "2022-11-06T16:19:11.299900Z",
     "iopub.status.busy": "2022-11-06T16:19:11.299573Z",
     "iopub.status.idle": "2022-11-06T16:19:11.339555Z",
     "shell.execute_reply": "2022-11-06T16:19:11.338645Z"
    },
    "papermill": {
     "duration": 0.056129,
     "end_time": "2022-11-06T16:19:11.341593",
     "exception": false,
     "start_time": "2022-11-06T16:19:11.285464",
     "status": "completed"
    },
    "tags": []
   },
   "outputs": [
    {
     "data": {
      "text/plain": [
       "array([0, 1])"
      ]
     },
     "execution_count": 20,
     "metadata": {},
     "output_type": "execute_result"
    }
   ],
   "source": [
    "fraud_df['isFraud'].unique()"
   ]
  },
  {
   "cell_type": "code",
   "execution_count": 21,
   "id": "9255a2fd",
   "metadata": {
    "execution": {
     "iopub.execute_input": "2022-11-06T16:19:11.369631Z",
     "iopub.status.busy": "2022-11-06T16:19:11.369361Z",
     "iopub.status.idle": "2022-11-06T16:19:11.406457Z",
     "shell.execute_reply": "2022-11-06T16:19:11.405466Z"
    },
    "papermill": {
     "duration": 0.053693,
     "end_time": "2022-11-06T16:19:11.408615",
     "exception": false,
     "start_time": "2022-11-06T16:19:11.354922",
     "status": "completed"
    },
    "tags": []
   },
   "outputs": [
    {
     "data": {
      "text/plain": [
       "array([0, 1])"
      ]
     },
     "execution_count": 21,
     "metadata": {},
     "output_type": "execute_result"
    }
   ],
   "source": [
    "fraud_df['isFlaggedFraud'].unique()"
   ]
  },
  {
   "cell_type": "code",
   "execution_count": 22,
   "id": "b911007b",
   "metadata": {
    "execution": {
     "iopub.execute_input": "2022-11-06T16:19:11.437008Z",
     "iopub.status.busy": "2022-11-06T16:19:11.436717Z",
     "iopub.status.idle": "2022-11-06T16:19:11.452317Z",
     "shell.execute_reply": "2022-11-06T16:19:11.451117Z"
    },
    "papermill": {
     "duration": 0.033279,
     "end_time": "2022-11-06T16:19:11.455560",
     "exception": false,
     "start_time": "2022-11-06T16:19:11.422281",
     "status": "completed"
    },
    "tags": []
   },
   "outputs": [
    {
     "data": {
      "text/html": [
       "<div>\n",
       "<style scoped>\n",
       "    .dataframe tbody tr th:only-of-type {\n",
       "        vertical-align: middle;\n",
       "    }\n",
       "\n",
       "    .dataframe tbody tr th {\n",
       "        vertical-align: top;\n",
       "    }\n",
       "\n",
       "    .dataframe thead th {\n",
       "        text-align: right;\n",
       "    }\n",
       "</style>\n",
       "<table border=\"1\" class=\"dataframe\">\n",
       "  <thead>\n",
       "    <tr style=\"text-align: right;\">\n",
       "      <th></th>\n",
       "      <th>step</th>\n",
       "      <th>type</th>\n",
       "      <th>amount</th>\n",
       "      <th>nameOrig</th>\n",
       "      <th>oldbalanceOrg</th>\n",
       "      <th>newbalanceOrig</th>\n",
       "      <th>nameDest</th>\n",
       "      <th>oldbalanceDest</th>\n",
       "      <th>newbalanceDest</th>\n",
       "      <th>isFraud</th>\n",
       "      <th>isFlaggedFraud</th>\n",
       "    </tr>\n",
       "  </thead>\n",
       "  <tbody>\n",
       "    <tr>\n",
       "      <th>0</th>\n",
       "      <td>1</td>\n",
       "      <td>PAYMENT</td>\n",
       "      <td>9839.64</td>\n",
       "      <td>C1231006815</td>\n",
       "      <td>170136.0</td>\n",
       "      <td>160296.36</td>\n",
       "      <td>M1979787155</td>\n",
       "      <td>0.0</td>\n",
       "      <td>0.0</td>\n",
       "      <td>0</td>\n",
       "      <td>0</td>\n",
       "    </tr>\n",
       "    <tr>\n",
       "      <th>1</th>\n",
       "      <td>1</td>\n",
       "      <td>PAYMENT</td>\n",
       "      <td>1864.28</td>\n",
       "      <td>C1666544295</td>\n",
       "      <td>21249.0</td>\n",
       "      <td>19384.72</td>\n",
       "      <td>M2044282225</td>\n",
       "      <td>0.0</td>\n",
       "      <td>0.0</td>\n",
       "      <td>0</td>\n",
       "      <td>0</td>\n",
       "    </tr>\n",
       "    <tr>\n",
       "      <th>2</th>\n",
       "      <td>1</td>\n",
       "      <td>TRANSFER</td>\n",
       "      <td>181.00</td>\n",
       "      <td>C1305486145</td>\n",
       "      <td>181.0</td>\n",
       "      <td>0.00</td>\n",
       "      <td>C553264065</td>\n",
       "      <td>0.0</td>\n",
       "      <td>0.0</td>\n",
       "      <td>1</td>\n",
       "      <td>0</td>\n",
       "    </tr>\n",
       "    <tr>\n",
       "      <th>3</th>\n",
       "      <td>1</td>\n",
       "      <td>CASH_OUT</td>\n",
       "      <td>181.00</td>\n",
       "      <td>C840083671</td>\n",
       "      <td>181.0</td>\n",
       "      <td>0.00</td>\n",
       "      <td>C38997010</td>\n",
       "      <td>21182.0</td>\n",
       "      <td>0.0</td>\n",
       "      <td>1</td>\n",
       "      <td>0</td>\n",
       "    </tr>\n",
       "    <tr>\n",
       "      <th>4</th>\n",
       "      <td>1</td>\n",
       "      <td>PAYMENT</td>\n",
       "      <td>11668.14</td>\n",
       "      <td>C2048537720</td>\n",
       "      <td>41554.0</td>\n",
       "      <td>29885.86</td>\n",
       "      <td>M1230701703</td>\n",
       "      <td>0.0</td>\n",
       "      <td>0.0</td>\n",
       "      <td>0</td>\n",
       "      <td>0</td>\n",
       "    </tr>\n",
       "  </tbody>\n",
       "</table>\n",
       "</div>"
      ],
      "text/plain": [
       "   step      type    amount     nameOrig  oldbalanceOrg  newbalanceOrig  \\\n",
       "0     1   PAYMENT   9839.64  C1231006815       170136.0       160296.36   \n",
       "1     1   PAYMENT   1864.28  C1666544295        21249.0        19384.72   \n",
       "2     1  TRANSFER    181.00  C1305486145          181.0            0.00   \n",
       "3     1  CASH_OUT    181.00   C840083671          181.0            0.00   \n",
       "4     1   PAYMENT  11668.14  C2048537720        41554.0        29885.86   \n",
       "\n",
       "      nameDest  oldbalanceDest  newbalanceDest  isFraud  isFlaggedFraud  \n",
       "0  M1979787155             0.0             0.0        0               0  \n",
       "1  M2044282225             0.0             0.0        0               0  \n",
       "2   C553264065             0.0             0.0        1               0  \n",
       "3    C38997010         21182.0             0.0        1               0  \n",
       "4  M1230701703             0.0             0.0        0               0  "
      ]
     },
     "execution_count": 22,
     "metadata": {},
     "output_type": "execute_result"
    }
   ],
   "source": [
    "fraud_df.head()"
   ]
  },
  {
   "cell_type": "markdown",
   "id": "3cdd2bfe",
   "metadata": {
    "papermill": {
     "duration": 0.013472,
     "end_time": "2022-11-06T16:19:11.482765",
     "exception": false,
     "start_time": "2022-11-06T16:19:11.469293",
     "status": "completed"
    },
    "tags": []
   },
   "source": [
    "### 3.3. Multi-collinearity Removal"
   ]
  },
  {
   "cell_type": "code",
   "execution_count": 23,
   "id": "fd565496",
   "metadata": {
    "execution": {
     "iopub.execute_input": "2022-11-06T16:19:11.515340Z",
     "iopub.status.busy": "2022-11-06T16:19:11.513362Z",
     "iopub.status.idle": "2022-11-06T16:19:11.658256Z",
     "shell.execute_reply": "2022-11-06T16:19:11.657096Z"
    },
    "papermill": {
     "duration": 0.16401,
     "end_time": "2022-11-06T16:19:11.660475",
     "exception": false,
     "start_time": "2022-11-06T16:19:11.496465",
     "status": "completed"
    },
    "tags": []
   },
   "outputs": [
    {
     "data": {
      "text/html": [
       "<div>\n",
       "<style scoped>\n",
       "    .dataframe tbody tr th:only-of-type {\n",
       "        vertical-align: middle;\n",
       "    }\n",
       "\n",
       "    .dataframe tbody tr th {\n",
       "        vertical-align: top;\n",
       "    }\n",
       "\n",
       "    .dataframe thead th {\n",
       "        text-align: right;\n",
       "    }\n",
       "</style>\n",
       "<table border=\"1\" class=\"dataframe\">\n",
       "  <thead>\n",
       "    <tr style=\"text-align: right;\">\n",
       "      <th></th>\n",
       "      <th>step</th>\n",
       "      <th>amount</th>\n",
       "      <th>oldbalanceOrg</th>\n",
       "      <th>newbalanceOrig</th>\n",
       "      <th>oldbalanceDest</th>\n",
       "      <th>newbalanceDest</th>\n",
       "      <th>isFraud</th>\n",
       "      <th>isFlaggedFraud</th>\n",
       "    </tr>\n",
       "  </thead>\n",
       "  <tbody>\n",
       "    <tr>\n",
       "      <th>0</th>\n",
       "      <td>1</td>\n",
       "      <td>9839.64</td>\n",
       "      <td>170136.0</td>\n",
       "      <td>160296.36</td>\n",
       "      <td>0.0</td>\n",
       "      <td>0.0</td>\n",
       "      <td>0</td>\n",
       "      <td>0</td>\n",
       "    </tr>\n",
       "    <tr>\n",
       "      <th>1</th>\n",
       "      <td>1</td>\n",
       "      <td>1864.28</td>\n",
       "      <td>21249.0</td>\n",
       "      <td>19384.72</td>\n",
       "      <td>0.0</td>\n",
       "      <td>0.0</td>\n",
       "      <td>0</td>\n",
       "      <td>0</td>\n",
       "    </tr>\n",
       "    <tr>\n",
       "      <th>2</th>\n",
       "      <td>1</td>\n",
       "      <td>181.00</td>\n",
       "      <td>181.0</td>\n",
       "      <td>0.00</td>\n",
       "      <td>0.0</td>\n",
       "      <td>0.0</td>\n",
       "      <td>1</td>\n",
       "      <td>0</td>\n",
       "    </tr>\n",
       "    <tr>\n",
       "      <th>3</th>\n",
       "      <td>1</td>\n",
       "      <td>181.00</td>\n",
       "      <td>181.0</td>\n",
       "      <td>0.00</td>\n",
       "      <td>21182.0</td>\n",
       "      <td>0.0</td>\n",
       "      <td>1</td>\n",
       "      <td>0</td>\n",
       "    </tr>\n",
       "    <tr>\n",
       "      <th>4</th>\n",
       "      <td>1</td>\n",
       "      <td>11668.14</td>\n",
       "      <td>41554.0</td>\n",
       "      <td>29885.86</td>\n",
       "      <td>0.0</td>\n",
       "      <td>0.0</td>\n",
       "      <td>0</td>\n",
       "      <td>0</td>\n",
       "    </tr>\n",
       "  </tbody>\n",
       "</table>\n",
       "</div>"
      ],
      "text/plain": [
       "   step    amount  oldbalanceOrg  newbalanceOrig  oldbalanceDest  \\\n",
       "0     1   9839.64       170136.0       160296.36             0.0   \n",
       "1     1   1864.28        21249.0        19384.72             0.0   \n",
       "2     1    181.00          181.0            0.00             0.0   \n",
       "3     1    181.00          181.0            0.00         21182.0   \n",
       "4     1  11668.14        41554.0        29885.86             0.0   \n",
       "\n",
       "   newbalanceDest  isFraud  isFlaggedFraud  \n",
       "0             0.0        0               0  \n",
       "1             0.0        0               0  \n",
       "2             0.0        1               0  \n",
       "3             0.0        1               0  \n",
       "4             0.0        0               0  "
      ]
     },
     "execution_count": 23,
     "metadata": {},
     "output_type": "execute_result"
    }
   ],
   "source": [
    "num_fraud_df = fraud_df[['step', 'amount', 'oldbalanceOrg',\n",
    "                         'newbalanceOrig', 'oldbalanceDest', 'newbalanceDest',\n",
    "                         'isFraud', 'isFlaggedFraud']]\n",
    "num_fraud_df.head()"
   ]
  },
  {
   "cell_type": "markdown",
   "id": "a0d585de",
   "metadata": {
    "papermill": {
     "duration": 0.013877,
     "end_time": "2022-11-06T16:19:11.688777",
     "exception": false,
     "start_time": "2022-11-06T16:19:11.674900",
     "status": "completed"
    },
    "tags": []
   },
   "source": [
    "#### 3.3.1. Identify Multi-collinearity"
   ]
  },
  {
   "cell_type": "code",
   "execution_count": 24,
   "id": "8e23f851",
   "metadata": {
    "execution": {
     "iopub.execute_input": "2022-11-06T16:19:11.718011Z",
     "iopub.status.busy": "2022-11-06T16:19:11.717686Z",
     "iopub.status.idle": "2022-11-06T16:19:53.471500Z",
     "shell.execute_reply": "2022-11-06T16:19:53.470355Z"
    },
    "papermill": {
     "duration": 41.812793,
     "end_time": "2022-11-06T16:19:53.515659",
     "exception": false,
     "start_time": "2022-11-06T16:19:11.702866",
     "status": "completed"
    },
    "tags": []
   },
   "outputs": [
    {
     "data": {
      "text/html": [
       "<div>\n",
       "<style scoped>\n",
       "    .dataframe tbody tr th:only-of-type {\n",
       "        vertical-align: middle;\n",
       "    }\n",
       "\n",
       "    .dataframe tbody tr th {\n",
       "        vertical-align: top;\n",
       "    }\n",
       "\n",
       "    .dataframe thead th {\n",
       "        text-align: right;\n",
       "    }\n",
       "</style>\n",
       "<table border=\"1\" class=\"dataframe\">\n",
       "  <thead>\n",
       "    <tr style=\"text-align: right;\">\n",
       "      <th></th>\n",
       "      <th>VIF</th>\n",
       "      <th>Column</th>\n",
       "    </tr>\n",
       "  </thead>\n",
       "  <tbody>\n",
       "    <tr>\n",
       "      <th>3</th>\n",
       "      <td>547.616120</td>\n",
       "      <td>newbalanceOrig</td>\n",
       "    </tr>\n",
       "    <tr>\n",
       "      <th>2</th>\n",
       "      <td>545.307261</td>\n",
       "      <td>oldbalanceOrg</td>\n",
       "    </tr>\n",
       "    <tr>\n",
       "      <th>5</th>\n",
       "      <td>83.919587</td>\n",
       "      <td>newbalanceDest</td>\n",
       "    </tr>\n",
       "    <tr>\n",
       "      <th>4</th>\n",
       "      <td>72.236866</td>\n",
       "      <td>oldbalanceDest</td>\n",
       "    </tr>\n",
       "    <tr>\n",
       "      <th>1</th>\n",
       "      <td>4.078319</td>\n",
       "      <td>amount</td>\n",
       "    </tr>\n",
       "    <tr>\n",
       "      <th>0</th>\n",
       "      <td>1.191735</td>\n",
       "      <td>step</td>\n",
       "    </tr>\n",
       "    <tr>\n",
       "      <th>6</th>\n",
       "      <td>1.188005</td>\n",
       "      <td>isFraud</td>\n",
       "    </tr>\n",
       "    <tr>\n",
       "      <th>7</th>\n",
       "      <td>1.002548</td>\n",
       "      <td>isFlaggedFraud</td>\n",
       "    </tr>\n",
       "  </tbody>\n",
       "</table>\n",
       "</div>"
      ],
      "text/plain": [
       "          VIF          Column\n",
       "3  547.616120  newbalanceOrig\n",
       "2  545.307261   oldbalanceOrg\n",
       "5   83.919587  newbalanceDest\n",
       "4   72.236866  oldbalanceDest\n",
       "1    4.078319          amount\n",
       "0    1.191735            step\n",
       "6    1.188005         isFraud\n",
       "7    1.002548  isFlaggedFraud"
      ]
     },
     "execution_count": 24,
     "metadata": {},
     "output_type": "execute_result"
    }
   ],
   "source": [
    "X = num_fraud_df[list(num_fraud_df)]\n",
    "\n",
    "vif_info = pd.DataFrame()\n",
    "vif_info['VIF'] = [variance_inflation_factor(X.values, i) for i in range(X.shape[1])]\n",
    "vif_info['Column'] = X.columns\n",
    "vif_info.sort_values('VIF', ascending=False)"
   ]
  },
  {
   "cell_type": "markdown",
   "id": "c7848d85",
   "metadata": {
    "papermill": {
     "duration": 0.031939,
     "end_time": "2022-11-06T16:19:53.588055",
     "exception": false,
     "start_time": "2022-11-06T16:19:53.556116",
     "status": "completed"
    },
    "tags": []
   },
   "source": [
    "During the analysis, two high multi-collinearity have been found i.e. -\n",
    "- `newbalanceOrig` vs. `oldbalanceOrg`\n",
    "- `newbalanceDest` vs. `oldbalanceDest`"
   ]
  },
  {
   "cell_type": "markdown",
   "id": "e308b65b",
   "metadata": {
    "papermill": {
     "duration": 0.014198,
     "end_time": "2022-11-06T16:19:53.616474",
     "exception": false,
     "start_time": "2022-11-06T16:19:53.602276",
     "status": "completed"
    },
    "tags": []
   },
   "source": [
    "#### 3.3.1. Remove Multi-collinearity\n",
    "- The difference between `newbalanceOrig` and `oldbalanceOrg` has been calculated as `balanceOrigDiff`. Finally, the `newbalanceOrig` and `oldbalanceOrg` attributes have been removed from the dataset.\n",
    "\n",
    "- Since the account balance of the Merchants are not available for the destination accounts so both `newbalanceDest` and `oldbalanceDest` attributes are required for further analysis."
   ]
  },
  {
   "cell_type": "code",
   "execution_count": 25,
   "id": "f9d3024b",
   "metadata": {
    "execution": {
     "iopub.execute_input": "2022-11-06T16:19:53.646940Z",
     "iopub.status.busy": "2022-11-06T16:19:53.646593Z",
     "iopub.status.idle": "2022-11-06T16:19:54.023279Z",
     "shell.execute_reply": "2022-11-06T16:19:54.022307Z"
    },
    "papermill": {
     "duration": 0.394543,
     "end_time": "2022-11-06T16:19:54.025414",
     "exception": false,
     "start_time": "2022-11-06T16:19:53.630871",
     "status": "completed"
    },
    "tags": []
   },
   "outputs": [
    {
     "data": {
      "text/html": [
       "<div>\n",
       "<style scoped>\n",
       "    .dataframe tbody tr th:only-of-type {\n",
       "        vertical-align: middle;\n",
       "    }\n",
       "\n",
       "    .dataframe tbody tr th {\n",
       "        vertical-align: top;\n",
       "    }\n",
       "\n",
       "    .dataframe thead th {\n",
       "        text-align: right;\n",
       "    }\n",
       "</style>\n",
       "<table border=\"1\" class=\"dataframe\">\n",
       "  <thead>\n",
       "    <tr style=\"text-align: right;\">\n",
       "      <th></th>\n",
       "      <th>step</th>\n",
       "      <th>amount</th>\n",
       "      <th>oldbalanceDest</th>\n",
       "      <th>newbalanceDest</th>\n",
       "      <th>isFraud</th>\n",
       "      <th>isFlaggedFraud</th>\n",
       "      <th>balanceOrigDiff</th>\n",
       "    </tr>\n",
       "  </thead>\n",
       "  <tbody>\n",
       "    <tr>\n",
       "      <th>0</th>\n",
       "      <td>1</td>\n",
       "      <td>9839.64</td>\n",
       "      <td>0.0</td>\n",
       "      <td>0.0</td>\n",
       "      <td>0</td>\n",
       "      <td>0</td>\n",
       "      <td>9839.64</td>\n",
       "    </tr>\n",
       "    <tr>\n",
       "      <th>1</th>\n",
       "      <td>1</td>\n",
       "      <td>1864.28</td>\n",
       "      <td>0.0</td>\n",
       "      <td>0.0</td>\n",
       "      <td>0</td>\n",
       "      <td>0</td>\n",
       "      <td>1864.28</td>\n",
       "    </tr>\n",
       "    <tr>\n",
       "      <th>2</th>\n",
       "      <td>1</td>\n",
       "      <td>181.00</td>\n",
       "      <td>0.0</td>\n",
       "      <td>0.0</td>\n",
       "      <td>1</td>\n",
       "      <td>0</td>\n",
       "      <td>181.00</td>\n",
       "    </tr>\n",
       "    <tr>\n",
       "      <th>3</th>\n",
       "      <td>1</td>\n",
       "      <td>181.00</td>\n",
       "      <td>21182.0</td>\n",
       "      <td>0.0</td>\n",
       "      <td>1</td>\n",
       "      <td>0</td>\n",
       "      <td>181.00</td>\n",
       "    </tr>\n",
       "    <tr>\n",
       "      <th>4</th>\n",
       "      <td>1</td>\n",
       "      <td>11668.14</td>\n",
       "      <td>0.0</td>\n",
       "      <td>0.0</td>\n",
       "      <td>0</td>\n",
       "      <td>0</td>\n",
       "      <td>11668.14</td>\n",
       "    </tr>\n",
       "  </tbody>\n",
       "</table>\n",
       "</div>"
      ],
      "text/plain": [
       "   step    amount  oldbalanceDest  newbalanceDest  isFraud  isFlaggedFraud  \\\n",
       "0     1   9839.64             0.0             0.0        0               0   \n",
       "1     1   1864.28             0.0             0.0        0               0   \n",
       "2     1    181.00             0.0             0.0        1               0   \n",
       "3     1    181.00         21182.0             0.0        1               0   \n",
       "4     1  11668.14             0.0             0.0        0               0   \n",
       "\n",
       "   balanceOrigDiff  \n",
       "0          9839.64  \n",
       "1          1864.28  \n",
       "2           181.00  \n",
       "3           181.00  \n",
       "4         11668.14  "
      ]
     },
     "execution_count": 25,
     "metadata": {},
     "output_type": "execute_result"
    }
   ],
   "source": [
    "num_fraud_df['balanceOrigDiff'] = num_fraud_df['oldbalanceOrg'] - num_fraud_df['newbalanceOrig']\n",
    "final_df = num_fraud_df.drop(['newbalanceOrig', 'oldbalanceOrg'], axis=1)\n",
    "final_df.head()"
   ]
  },
  {
   "cell_type": "markdown",
   "id": "41ee611f",
   "metadata": {
    "papermill": {
     "duration": 0.014257,
     "end_time": "2022-11-06T16:19:54.055059",
     "exception": false,
     "start_time": "2022-11-06T16:19:54.040802",
     "status": "completed"
    },
    "tags": []
   },
   "source": [
    "## 4. Exploratory Data Analysis"
   ]
  },
  {
   "cell_type": "markdown",
   "id": "03bda778",
   "metadata": {
    "papermill": {
     "duration": 0.014125,
     "end_time": "2022-11-06T16:19:54.083497",
     "exception": false,
     "start_time": "2022-11-06T16:19:54.069372",
     "status": "completed"
    },
    "tags": []
   },
   "source": [
    "In this section, the average amount of each category of amount payment has been calculated to understand the payment flow."
   ]
  },
  {
   "cell_type": "code",
   "execution_count": 26,
   "id": "215af64b",
   "metadata": {
    "execution": {
     "iopub.execute_input": "2022-11-06T16:19:54.114259Z",
     "iopub.status.busy": "2022-11-06T16:19:54.113445Z",
     "iopub.status.idle": "2022-11-06T16:19:54.697815Z",
     "shell.execute_reply": "2022-11-06T16:19:54.696729Z"
    },
    "papermill": {
     "duration": 0.601827,
     "end_time": "2022-11-06T16:19:54.699823",
     "exception": false,
     "start_time": "2022-11-06T16:19:54.097996",
     "status": "completed"
    },
    "tags": []
   },
   "outputs": [
    {
     "data": {
      "text/html": [
       "<div>\n",
       "<style scoped>\n",
       "    .dataframe tbody tr th:only-of-type {\n",
       "        vertical-align: middle;\n",
       "    }\n",
       "\n",
       "    .dataframe tbody tr th {\n",
       "        vertical-align: top;\n",
       "    }\n",
       "\n",
       "    .dataframe thead th {\n",
       "        text-align: right;\n",
       "    }\n",
       "</style>\n",
       "<table border=\"1\" class=\"dataframe\">\n",
       "  <thead>\n",
       "    <tr style=\"text-align: right;\">\n",
       "      <th></th>\n",
       "      <th>type</th>\n",
       "      <th>amount</th>\n",
       "    </tr>\n",
       "  </thead>\n",
       "  <tbody>\n",
       "    <tr>\n",
       "      <th>0</th>\n",
       "      <td>CASH_IN</td>\n",
       "      <td>168920.220537</td>\n",
       "    </tr>\n",
       "    <tr>\n",
       "      <th>1</th>\n",
       "      <td>CASH_OUT</td>\n",
       "      <td>176273.944698</td>\n",
       "    </tr>\n",
       "    <tr>\n",
       "      <th>2</th>\n",
       "      <td>DEBIT</td>\n",
       "      <td>5483.665314</td>\n",
       "    </tr>\n",
       "    <tr>\n",
       "      <th>3</th>\n",
       "      <td>PAYMENT</td>\n",
       "      <td>13057.606984</td>\n",
       "    </tr>\n",
       "    <tr>\n",
       "      <th>4</th>\n",
       "      <td>TRANSFER</td>\n",
       "      <td>910364.274711</td>\n",
       "    </tr>\n",
       "  </tbody>\n",
       "</table>\n",
       "</div>"
      ],
      "text/plain": [
       "       type         amount\n",
       "0   CASH_IN  168920.220537\n",
       "1  CASH_OUT  176273.944698\n",
       "2     DEBIT    5483.665314\n",
       "3   PAYMENT   13057.606984\n",
       "4  TRANSFER  910364.274711"
      ]
     },
     "execution_count": 26,
     "metadata": {},
     "output_type": "execute_result"
    }
   ],
   "source": [
    "amount_fraud_df = fraud_df.groupby(['type'])[['amount']].mean()\n",
    "amount_fraud_df = amount_fraud_df.reset_index()\n",
    "amount_fraud_df.head()"
   ]
  },
  {
   "cell_type": "code",
   "execution_count": 27,
   "id": "2ed2f1c2",
   "metadata": {
    "execution": {
     "iopub.execute_input": "2022-11-06T16:19:54.731522Z",
     "iopub.status.busy": "2022-11-06T16:19:54.730620Z",
     "iopub.status.idle": "2022-11-06T16:19:54.923047Z",
     "shell.execute_reply": "2022-11-06T16:19:54.922191Z"
    },
    "papermill": {
     "duration": 0.210259,
     "end_time": "2022-11-06T16:19:54.925185",
     "exception": false,
     "start_time": "2022-11-06T16:19:54.714926",
     "status": "completed"
    },
    "tags": []
   },
   "outputs": [
    {
     "data": {
      "image/png": "[encoded data removed]",
      "text/plain": [
       "<Figure size 576x288 with 1 Axes>"
      ]
     },
     "metadata": {
      "needs_background": "light"
     },
     "output_type": "display_data"
    }
   ],
   "source": [
    "x = amount_fraud_df.loc[:, 'type']\n",
    "y1 = amount_fraud_df['amount']\n",
    "\n",
    "plt.figure(figsize = (8, 4))\n",
    "\n",
    "plt.plot(x, y1, marker='D', label = 'Amount')\n",
    "\n",
    "plt.xlabel('Type', fontsize = 14)\n",
    "plt.ylabel('Amount', fontsize = 14)\n",
    "plt.title('Average Amount Type Analysis', fontsize = 18)\n",
    "plt.legend(fontsize = 10, loc = 'best')\n",
    "plt.xticks(rotation=45)\n",
    "plt.show()"
   ]
  },
  {
   "cell_type": "markdown",
   "id": "301c7f48",
   "metadata": {
    "papermill": {
     "duration": 0.014702,
     "end_time": "2022-11-06T16:19:54.955143",
     "exception": false,
     "start_time": "2022-11-06T16:19:54.940441",
     "status": "completed"
    },
    "tags": []
   },
   "source": [
    "During the analysis, it has been found that the maximum amount has been transferred from one account to another one."
   ]
  },
  {
   "cell_type": "markdown",
   "id": "5dd6e90a",
   "metadata": {
    "papermill": {
     "duration": 0.014754,
     "end_time": "2022-11-06T16:19:54.984845",
     "exception": false,
     "start_time": "2022-11-06T16:19:54.970091",
     "status": "completed"
    },
    "tags": []
   },
   "source": [
    "## 5. Predictive Analysis [Regression Models]"
   ]
  },
  {
   "cell_type": "markdown",
   "id": "dade7716",
   "metadata": {
    "papermill": {
     "duration": 0.014774,
     "end_time": "2022-11-06T16:19:55.014708",
     "exception": false,
     "start_time": "2022-11-06T16:19:54.999934",
     "status": "completed"
    },
    "tags": []
   },
   "source": [
    "### 5.1. Correlation of Features\n",
    "In this phase of analysis, the correlations have been evaluated to measure the dependencies between the feature variables and the fraud data. The correlations represent the relationships between the variables in terms of statistical analysis. The linear relationships between the two variables have been defined by the covariance matrix."
   ]
  },
  {
   "cell_type": "code",
   "execution_count": 28,
   "id": "d68e41c0",
   "metadata": {
    "execution": {
     "iopub.execute_input": "2022-11-06T16:19:55.045578Z",
     "iopub.status.busy": "2022-11-06T16:19:55.045290Z",
     "iopub.status.idle": "2022-11-06T16:19:56.092122Z",
     "shell.execute_reply": "2022-11-06T16:19:56.091033Z"
    },
    "papermill": {
     "duration": 1.065013,
     "end_time": "2022-11-06T16:19:56.094600",
     "exception": false,
     "start_time": "2022-11-06T16:19:55.029587",
     "status": "completed"
    },
    "tags": []
   },
   "outputs": [
    {
     "data": {
      "text/html": [
       "<div>\n",
       "<style scoped>\n",
       "    .dataframe tbody tr th:only-of-type {\n",
       "        vertical-align: middle;\n",
       "    }\n",
       "\n",
       "    .dataframe tbody tr th {\n",
       "        vertical-align: top;\n",
       "    }\n",
       "\n",
       "    .dataframe thead th {\n",
       "        text-align: right;\n",
       "    }\n",
       "</style>\n",
       "<table border=\"1\" class=\"dataframe\">\n",
       "  <thead>\n",
       "    <tr style=\"text-align: right;\">\n",
       "      <th></th>\n",
       "      <th>step</th>\n",
       "      <th>amount</th>\n",
       "      <th>oldbalanceDest</th>\n",
       "      <th>newbalanceDest</th>\n",
       "      <th>isFraud</th>\n",
       "      <th>isFlaggedFraud</th>\n",
       "      <th>balanceOrigDiff</th>\n",
       "    </tr>\n",
       "  </thead>\n",
       "  <tbody>\n",
       "    <tr>\n",
       "      <th>step</th>\n",
       "      <td>1.000000</td>\n",
       "      <td>0.022392</td>\n",
       "      <td>0.027742</td>\n",
       "      <td>0.025945</td>\n",
       "      <td>0.031551</td>\n",
       "      <td>0.003277</td>\n",
       "      <td>0.007182</td>\n",
       "    </tr>\n",
       "    <tr>\n",
       "      <th>amount</th>\n",
       "      <td>0.022392</td>\n",
       "      <td>1.000000</td>\n",
       "      <td>0.295605</td>\n",
       "      <td>0.461208</td>\n",
       "      <td>0.076651</td>\n",
       "      <td>0.012321</td>\n",
       "      <td>0.102135</td>\n",
       "    </tr>\n",
       "    <tr>\n",
       "      <th>oldbalanceDest</th>\n",
       "      <td>0.027742</td>\n",
       "      <td>0.295605</td>\n",
       "      <td>1.000000</td>\n",
       "      <td>0.976387</td>\n",
       "      <td>-0.005912</td>\n",
       "      <td>-0.000516</td>\n",
       "      <td>-0.047750</td>\n",
       "    </tr>\n",
       "    <tr>\n",
       "      <th>newbalanceDest</th>\n",
       "      <td>0.025945</td>\n",
       "      <td>0.461208</td>\n",
       "      <td>0.976387</td>\n",
       "      <td>1.000000</td>\n",
       "      <td>0.000547</td>\n",
       "      <td>-0.000531</td>\n",
       "      <td>-0.006460</td>\n",
       "    </tr>\n",
       "    <tr>\n",
       "      <th>isFraud</th>\n",
       "      <td>0.031551</td>\n",
       "      <td>0.076651</td>\n",
       "      <td>-0.005912</td>\n",
       "      <td>0.000547</td>\n",
       "      <td>1.000000</td>\n",
       "      <td>0.044117</td>\n",
       "      <td>0.362041</td>\n",
       "    </tr>\n",
       "    <tr>\n",
       "      <th>isFlaggedFraud</th>\n",
       "      <td>0.003277</td>\n",
       "      <td>0.012321</td>\n",
       "      <td>-0.000516</td>\n",
       "      <td>-0.000531</td>\n",
       "      <td>0.044117</td>\n",
       "      <td>1.000000</td>\n",
       "      <td>0.000230</td>\n",
       "    </tr>\n",
       "    <tr>\n",
       "      <th>balanceOrigDiff</th>\n",
       "      <td>0.007182</td>\n",
       "      <td>0.102135</td>\n",
       "      <td>-0.047750</td>\n",
       "      <td>-0.006460</td>\n",
       "      <td>0.362041</td>\n",
       "      <td>0.000230</td>\n",
       "      <td>1.000000</td>\n",
       "    </tr>\n",
       "  </tbody>\n",
       "</table>\n",
       "</div>"
      ],
      "text/plain": [
       "                     step    amount  oldbalanceDest  newbalanceDest   isFraud  \\\n",
       "step             1.000000  0.022392        0.027742        0.025945  0.031551   \n",
       "amount           0.022392  1.000000        0.295605        0.461208  0.076651   \n",
       "oldbalanceDest   0.027742  0.295605        1.000000        0.976387 -0.005912   \n",
       "newbalanceDest   0.025945  0.461208        0.976387        1.000000  0.000547   \n",
       "isFraud          0.031551  0.076651       -0.005912        0.000547  1.000000   \n",
       "isFlaggedFraud   0.003277  0.012321       -0.000516       -0.000531  0.044117   \n",
       "balanceOrigDiff  0.007182  0.102135       -0.047750       -0.006460  0.362041   \n",
       "\n",
       "                 isFlaggedFraud  balanceOrigDiff  \n",
       "step                   0.003277         0.007182  \n",
       "amount                 0.012321         0.102135  \n",
       "oldbalanceDest        -0.000516        -0.047750  \n",
       "newbalanceDest        -0.000531        -0.006460  \n",
       "isFraud                0.044117         0.362041  \n",
       "isFlaggedFraud         1.000000         0.000230  \n",
       "balanceOrigDiff        0.000230         1.000000  "
      ]
     },
     "execution_count": 28,
     "metadata": {},
     "output_type": "execute_result"
    }
   ],
   "source": [
    "final_df_corr = final_df.corr()\n",
    "final_df_corr"
   ]
  },
  {
   "cell_type": "code",
   "execution_count": 29,
   "id": "2d537b00",
   "metadata": {
    "execution": {
     "iopub.execute_input": "2022-11-06T16:19:56.128689Z",
     "iopub.status.busy": "2022-11-06T16:19:56.128393Z",
     "iopub.status.idle": "2022-11-06T16:19:56.447864Z",
     "shell.execute_reply": "2022-11-06T16:19:56.446924Z"
    },
    "papermill": {
     "duration": 0.338655,
     "end_time": "2022-11-06T16:19:56.450049",
     "exception": false,
     "start_time": "2022-11-06T16:19:56.111394",
     "status": "completed"
    },
    "tags": []
   },
   "outputs": [
    {
     "data": {
      "image/png": "[encoded data removed]",
      "text/plain": [
       "<Figure size 576x432 with 2 Axes>"
      ]
     },
     "metadata": {
      "needs_background": "light"
     },
     "output_type": "display_data"
    }
   ],
   "source": [
    "mask = np.triu(np.ones_like(final_df_corr, dtype=bool))\n",
    "plt.figure(figsize=(8,6))\n",
    "sns.heatmap(final_df_corr,annot=True, mask = mask, cmap=plt.cm.YlGnBu)\n",
    "plt.xticks(rotation=45)\n",
    "plt.show()"
   ]
  },
  {
   "cell_type": "markdown",
   "id": "2a89df39",
   "metadata": {
    "papermill": {
     "duration": 0.015991,
     "end_time": "2022-11-06T16:19:56.482636",
     "exception": false,
     "start_time": "2022-11-06T16:19:56.466645",
     "status": "completed"
    },
    "tags": []
   },
   "source": [
    "### 5.2. Feature Selection\n",
    "In this phase, those feature(s) will be selected which have the better correlation (threshold > 0.25) with the target variable `isFraud`. These features will help to develop a better classification model for predictive analysis."
   ]
  },
  {
   "cell_type": "code",
   "execution_count": 30,
   "id": "4361dc4e",
   "metadata": {
    "execution": {
     "iopub.execute_input": "2022-11-06T16:19:56.515618Z",
     "iopub.status.busy": "2022-11-06T16:19:56.515328Z",
     "iopub.status.idle": "2022-11-06T16:19:56.523541Z",
     "shell.execute_reply": "2022-11-06T16:19:56.522622Z"
    },
    "papermill": {
     "duration": 0.027134,
     "end_time": "2022-11-06T16:19:56.525816",
     "exception": false,
     "start_time": "2022-11-06T16:19:56.498682",
     "status": "completed"
    },
    "tags": []
   },
   "outputs": [
    {
     "data": {
      "text/plain": [
       "isFraud            1.000000\n",
       "balanceOrigDiff    0.362041\n",
       "Name: isFraud, dtype: float64"
      ]
     },
     "execution_count": 30,
     "metadata": {},
     "output_type": "execute_result"
    }
   ],
   "source": [
    "cor_target = abs(final_df_corr[\"isFraud\"])\n",
    "\n",
    "relevant_train_features = cor_target[cor_target>0.25]\n",
    "relevant_train_features"
   ]
  },
  {
   "cell_type": "markdown",
   "id": "9c8f4abc",
   "metadata": {
    "papermill": {
     "duration": 0.015817,
     "end_time": "2022-11-06T16:19:56.557698",
     "exception": false,
     "start_time": "2022-11-06T16:19:56.541881",
     "status": "completed"
    },
    "tags": []
   },
   "source": [
    "During the analysis, `balanceOrigDiff` attribute has the highest correlation with the target variable `isFraud`. So, this variable has been selected as the relevant training feature to predict fraud transactions."
   ]
  },
  {
   "cell_type": "code",
   "execution_count": 31,
   "id": "b1e0ab21",
   "metadata": {
    "execution": {
     "iopub.execute_input": "2022-11-06T16:19:56.591223Z",
     "iopub.status.busy": "2022-11-06T16:19:56.590485Z",
     "iopub.status.idle": "2022-11-06T16:19:56.634110Z",
     "shell.execute_reply": "2022-11-06T16:19:56.633029Z"
    },
    "papermill": {
     "duration": 0.06354,
     "end_time": "2022-11-06T16:19:56.637083",
     "exception": false,
     "start_time": "2022-11-06T16:19:56.573543",
     "status": "completed"
    },
    "tags": []
   },
   "outputs": [
    {
     "data": {
      "text/html": [
       "<div>\n",
       "<style scoped>\n",
       "    .dataframe tbody tr th:only-of-type {\n",
       "        vertical-align: middle;\n",
       "    }\n",
       "\n",
       "    .dataframe tbody tr th {\n",
       "        vertical-align: top;\n",
       "    }\n",
       "\n",
       "    .dataframe thead th {\n",
       "        text-align: right;\n",
       "    }\n",
       "</style>\n",
       "<table border=\"1\" class=\"dataframe\">\n",
       "  <thead>\n",
       "    <tr style=\"text-align: right;\">\n",
       "      <th></th>\n",
       "      <th>balanceOrigDiff</th>\n",
       "      <th>isFraud</th>\n",
       "    </tr>\n",
       "  </thead>\n",
       "  <tbody>\n",
       "    <tr>\n",
       "      <th>0</th>\n",
       "      <td>9839.64</td>\n",
       "      <td>0</td>\n",
       "    </tr>\n",
       "    <tr>\n",
       "      <th>1</th>\n",
       "      <td>1864.28</td>\n",
       "      <td>0</td>\n",
       "    </tr>\n",
       "    <tr>\n",
       "      <th>2</th>\n",
       "      <td>181.00</td>\n",
       "      <td>1</td>\n",
       "    </tr>\n",
       "    <tr>\n",
       "      <th>3</th>\n",
       "      <td>181.00</td>\n",
       "      <td>1</td>\n",
       "    </tr>\n",
       "    <tr>\n",
       "      <th>4</th>\n",
       "      <td>11668.14</td>\n",
       "      <td>0</td>\n",
       "    </tr>\n",
       "  </tbody>\n",
       "</table>\n",
       "</div>"
      ],
      "text/plain": [
       "   balanceOrigDiff  isFraud\n",
       "0          9839.64        0\n",
       "1          1864.28        0\n",
       "2           181.00        1\n",
       "3           181.00        1\n",
       "4         11668.14        0"
      ]
     },
     "execution_count": 31,
     "metadata": {},
     "output_type": "execute_result"
    }
   ],
   "source": [
    "final_fraud_data = final_df[['balanceOrigDiff', 'isFraud']]\n",
    "final_fraud_data.head()"
   ]
  },
  {
   "cell_type": "code",
   "execution_count": 32,
   "id": "ec69601f",
   "metadata": {
    "execution": {
     "iopub.execute_input": "2022-11-06T16:19:56.672250Z",
     "iopub.status.busy": "2022-11-06T16:19:56.670822Z",
     "iopub.status.idle": "2022-11-06T16:19:56.724495Z",
     "shell.execute_reply": "2022-11-06T16:19:56.723415Z"
    },
    "papermill": {
     "duration": 0.072917,
     "end_time": "2022-11-06T16:19:56.726760",
     "exception": false,
     "start_time": "2022-11-06T16:19:56.653843",
     "status": "completed"
    },
    "tags": []
   },
   "outputs": [
    {
     "data": {
      "text/plain": [
       "0    6354395\n",
       "1       8210\n",
       "Name: isFraud, dtype: int64"
      ]
     },
     "execution_count": 32,
     "metadata": {},
     "output_type": "execute_result"
    }
   ],
   "source": [
    "final_fraud_data['isFraud'].value_counts()"
   ]
  },
  {
   "cell_type": "markdown",
   "id": "8d6eb7df",
   "metadata": {
    "papermill": {
     "duration": 0.017096,
     "end_time": "2022-11-06T16:19:56.760434",
     "exception": false,
     "start_time": "2022-11-06T16:19:56.743338",
     "status": "completed"
    },
    "tags": []
   },
   "source": [
    "### 5.2. Train-Test-Val Split"
   ]
  },
  {
   "cell_type": "markdown",
   "id": "193fb770",
   "metadata": {
    "papermill": {
     "duration": 0.017822,
     "end_time": "2022-11-06T16:19:56.796309",
     "exception": false,
     "start_time": "2022-11-06T16:19:56.778487",
     "status": "completed"
    },
    "tags": []
   },
   "source": [
    "The fraud data will be divided into **X** and **y** sets based on the feature variables and the target variable. The **X** set contains the independent variable`balanceOrigDiff` and the **y** set contains the dependent variable `isFraud`. The X and y sets have been divided into **80:20** ratio i.e. **80%** of data can be used for **training** purpose and **20%** of data can be used for **validation** purpose."
   ]
  },
  {
   "cell_type": "code",
   "execution_count": 33,
   "id": "ccc0e9dd",
   "metadata": {
    "execution": {
     "iopub.execute_input": "2022-11-06T16:19:56.832257Z",
     "iopub.status.busy": "2022-11-06T16:19:56.831468Z",
     "iopub.status.idle": "2022-11-06T16:19:56.872612Z",
     "shell.execute_reply": "2022-11-06T16:19:56.871513Z"
    },
    "papermill": {
     "duration": 0.061945,
     "end_time": "2022-11-06T16:19:56.875312",
     "exception": false,
     "start_time": "2022-11-06T16:19:56.813367",
     "status": "completed"
    },
    "tags": []
   },
   "outputs": [],
   "source": [
    "X = final_fraud_data.drop(['isFraud'], axis=1)\n",
    "y = final_fraud_data['isFraud']"
   ]
  },
  {
   "cell_type": "code",
   "execution_count": 34,
   "id": "0071c4d5",
   "metadata": {
    "execution": {
     "iopub.execute_input": "2022-11-06T16:19:56.910746Z",
     "iopub.status.busy": "2022-11-06T16:19:56.909870Z",
     "iopub.status.idle": "2022-11-06T16:19:57.677425Z",
     "shell.execute_reply": "2022-11-06T16:19:57.676123Z"
    },
    "papermill": {
     "duration": 0.787171,
     "end_time": "2022-11-06T16:19:57.679710",
     "exception": false,
     "start_time": "2022-11-06T16:19:56.892539",
     "status": "completed"
    },
    "tags": []
   },
   "outputs": [
    {
     "name": "stdout",
     "output_type": "stream",
     "text": [
      "(5090084, 1) (1272521, 1) (5090084,) (1272521,)\n"
     ]
    }
   ],
   "source": [
    "X_train, X_val, y_train, y_val = train_test_split(X, y, test_size=0.2, random_state=100)\n",
    "print(X_train.shape,X_val.shape,y_train.shape,y_val.shape)"
   ]
  },
  {
   "cell_type": "markdown",
   "id": "81338926",
   "metadata": {
    "papermill": {
     "duration": 0.016157,
     "end_time": "2022-11-06T16:19:57.713108",
     "exception": false,
     "start_time": "2022-11-06T16:19:57.696951",
     "status": "completed"
    },
    "tags": []
   },
   "source": [
    "### 5.3 Logistic Regression Model\n",
    "- In order to build the predictive model, the machine learning-based classifier has been trained based on the training data and validated using the validation data to analyze the model performance.\n",
    "- The confusion matrix and classification report have been presented for the classification model to understand the model performance on the corresponding dataset."
   ]
  },
  {
   "cell_type": "markdown",
   "id": "670b9efa",
   "metadata": {
    "papermill": {
     "duration": 0.016114,
     "end_time": "2022-11-06T16:19:57.745763",
     "exception": false,
     "start_time": "2022-11-06T16:19:57.729649",
     "status": "completed"
    },
    "tags": []
   },
   "source": [
    "#### 5.3.1 Model Training"
   ]
  },
  {
   "cell_type": "code",
   "execution_count": 35,
   "id": "2cdec54d",
   "metadata": {
    "execution": {
     "iopub.execute_input": "2022-11-06T16:19:57.780703Z",
     "iopub.status.busy": "2022-11-06T16:19:57.779840Z",
     "iopub.status.idle": "2022-11-06T16:20:13.803991Z",
     "shell.execute_reply": "2022-11-06T16:20:13.802613Z"
    },
    "papermill": {
     "duration": 16.045232,
     "end_time": "2022-11-06T16:20:13.807441",
     "exception": false,
     "start_time": "2022-11-06T16:19:57.762209",
     "status": "completed"
    },
    "tags": []
   },
   "outputs": [
    {
     "data": {
      "text/plain": [
       "LogisticRegression()"
      ]
     },
     "execution_count": 35,
     "metadata": {},
     "output_type": "execute_result"
    }
   ],
   "source": [
    "log_reg_model = LogisticRegression()\n",
    "log_reg_model.fit(X_train, y_train)"
   ]
  },
  {
   "cell_type": "code",
   "execution_count": 36,
   "id": "2a88760c",
   "metadata": {
    "execution": {
     "iopub.execute_input": "2022-11-06T16:20:13.900841Z",
     "iopub.status.busy": "2022-11-06T16:20:13.900327Z",
     "iopub.status.idle": "2022-11-06T16:20:13.931330Z",
     "shell.execute_reply": "2022-11-06T16:20:13.930306Z"
    },
    "papermill": {
     "duration": 0.08099,
     "end_time": "2022-11-06T16:20:13.933814",
     "exception": false,
     "start_time": "2022-11-06T16:20:13.852824",
     "status": "completed"
    },
    "tags": []
   },
   "outputs": [
    {
     "data": {
      "text/plain": [
       "array([0, 0, 0, ..., 0, 0, 0])"
      ]
     },
     "execution_count": 36,
     "metadata": {},
     "output_type": "execute_result"
    }
   ],
   "source": [
    "log_reg_model.predict(X_val)"
   ]
  },
  {
   "cell_type": "markdown",
   "id": "df592b0c",
   "metadata": {
    "papermill": {
     "duration": 0.0166,
     "end_time": "2022-11-06T16:20:13.967389",
     "exception": false,
     "start_time": "2022-11-06T16:20:13.950789",
     "status": "completed"
    },
    "tags": []
   },
   "source": [
    "#### 5.3.2 Model Performance Analysis"
   ]
  },
  {
   "cell_type": "code",
   "execution_count": 37,
   "id": "e8914400",
   "metadata": {
    "execution": {
     "iopub.execute_input": "2022-11-06T16:20:14.002477Z",
     "iopub.status.busy": "2022-11-06T16:20:14.001664Z",
     "iopub.status.idle": "2022-11-06T16:20:14.098280Z",
     "shell.execute_reply": "2022-11-06T16:20:14.097024Z"
    },
    "papermill": {
     "duration": 0.116429,
     "end_time": "2022-11-06T16:20:14.100535",
     "exception": false,
     "start_time": "2022-11-06T16:20:13.984106",
     "status": "completed"
    },
    "tags": []
   },
   "outputs": [
    {
     "name": "stdout",
     "output_type": "stream",
     "text": [
      "The classification accuracy of Logistic Regression model is 99.91%\n"
     ]
    }
   ],
   "source": [
    "log_reg_model_score = log_reg_model.score(X_val, y_val)\n",
    "log_reg_model_accuracy = round(log_reg_model_score*100, 2)\n",
    "print(\"The classification accuracy of Logistic Regression model is \"+ str(log_reg_model_accuracy)+\"%\")"
   ]
  },
  {
   "cell_type": "markdown",
   "id": "d06af9dc",
   "metadata": {
    "papermill": {
     "duration": 0.016525,
     "end_time": "2022-11-06T16:20:14.134397",
     "exception": false,
     "start_time": "2022-11-06T16:20:14.117872",
     "status": "completed"
    },
    "tags": []
   },
   "source": [
    "During predictive analysis, the **Logistic Regression** model has achieved significant prediction accuracy on the validation data. It has been found that the **Logistic Regression** model achieved **99.91%** prediction accuracy for classifying the fraud and potential customers based on the selected features."
   ]
  },
  {
   "cell_type": "code",
   "execution_count": 38,
   "id": "068f9daa",
   "metadata": {
    "execution": {
     "iopub.execute_input": "2022-11-06T16:20:14.169720Z",
     "iopub.status.busy": "2022-11-06T16:20:14.168851Z",
     "iopub.status.idle": "2022-11-06T16:20:14.576814Z",
     "shell.execute_reply": "2022-11-06T16:20:14.575885Z"
    },
    "papermill": {
     "duration": 0.427868,
     "end_time": "2022-11-06T16:20:14.579074",
     "exception": false,
     "start_time": "2022-11-06T16:20:14.151206",
     "status": "completed"
    },
    "tags": []
   },
   "outputs": [
    {
     "data": {
      "text/plain": [
       "Text(0.5, 1.0, 'Logistic Regression Confusion Matrix')"
      ]
     },
     "execution_count": 38,
     "metadata": {},
     "output_type": "execute_result"
    },
    {
     "data": {
      "image/png": "[encoded data removed]",
      "text/plain": [
       "<Figure size 432x288 with 2 Axes>"
      ]
     },
     "metadata": {
      "needs_background": "light"
     },
     "output_type": "display_data"
    }
   ],
   "source": [
    "y_pred = log_reg_model.predict(X_val)\n",
    "cm = confusion_matrix(y_val,y_pred)\n",
    "axes = sns.heatmap(cm, annot=True, annot_kws={\"size\": 16}, fmt='g', linewidths=.5)\n",
    "class_labels = ['Not Fraud', 'Fraud']\n",
    "\n",
    "axes.set_xlabel('Predicted', fontsize=12)\n",
    "axes.set_ylabel('Actual', fontsize=12)\n",
    "\n",
    "xtick_marks = np.arange(len(class_labels)) + 0.5\n",
    "ytick_marks = np.arange(len(class_labels)) + 0.5\n",
    "\n",
    "axes.set_xticks(xtick_marks)\n",
    "axes.set_xticklabels(class_labels, rotation=45)\n",
    "\n",
    "axes.set_yticks(ytick_marks)\n",
    "axes.set_yticklabels(class_labels, rotation=0)\n",
    "\n",
    "axes.set_title('Logistic Regression Confusion Matrix', fontsize=14, pad=20)"
   ]
  },
  {
   "cell_type": "markdown",
   "id": "58767c36",
   "metadata": {
    "papermill": {
     "duration": 0.017296,
     "end_time": "2022-11-06T16:20:14.614461",
     "exception": false,
     "start_time": "2022-11-06T16:20:14.597165",
     "status": "completed"
    },
    "tags": []
   },
   "source": [
    "The validation data consists of total **1270871** cases of genuine and **1650** cases of fraud transaction records.\n",
    "\n",
    "From the confusion matrix it has been found how many transactions have been classified correctly by the classifier as follows -\n",
    "- **TP = True Positive** (Actual -> Not Fraud ; Predicted -> Not Fraud) = 1270741 cases\n",
    "- **FN = False Negative** (Actual -> Not Fraud ; Predicted -> Fraud) = 130 cases\n",
    "- **FP = False Positive** (Actual -> Fraud ; Predicted -> Not Fraud) = 1046 cases\n",
    "- **TN = True Negative** (Actual -> Fraud ; Predicted -> Fraud) = 604 cases"
   ]
  },
  {
   "cell_type": "code",
   "execution_count": 39,
   "id": "34a84d3d",
   "metadata": {
    "execution": {
     "iopub.execute_input": "2022-11-06T16:20:14.650408Z",
     "iopub.status.busy": "2022-11-06T16:20:14.650073Z",
     "iopub.status.idle": "2022-11-06T16:20:16.023354Z",
     "shell.execute_reply": "2022-11-06T16:20:16.020987Z"
    },
    "papermill": {
     "duration": 1.39423,
     "end_time": "2022-11-06T16:20:16.025870",
     "exception": false,
     "start_time": "2022-11-06T16:20:14.631640",
     "status": "completed"
    },
    "tags": []
   },
   "outputs": [
    {
     "name": "stdout",
     "output_type": "stream",
     "text": [
      "Logistic Regression Classification Report\n",
      "=========================================\n",
      "\n",
      "              precision    recall  f1-score   support\n",
      "\n",
      "   Not Fraud       1.00      1.00      1.00   1270871\n",
      "       Fraud       0.82      0.37      0.51      1650\n",
      "\n",
      "    accuracy                           1.00   1272521\n",
      "   macro avg       0.91      0.68      0.75   1272521\n",
      "weighted avg       1.00      1.00      1.00   1272521\n",
      "\n"
     ]
    }
   ],
   "source": [
    "print('Logistic Regression Classification Report')\n",
    "print('=========================================')\n",
    "print()\n",
    "print(classification_report(y_val, y_pred, target_names=class_labels))"
   ]
  },
  {
   "cell_type": "markdown",
   "id": "7ff4e7b0",
   "metadata": {
    "papermill": {
     "duration": 0.017431,
     "end_time": "2022-11-06T16:20:16.064656",
     "exception": false,
     "start_time": "2022-11-06T16:20:16.047225",
     "status": "completed"
    },
    "tags": []
   },
   "source": [
    "The model performance has been analyzed using the following metrics -\n",
    "$$\\mathrm{precision =\\ }\\frac{\\mathrm{TP}}{\\mathrm{TP + FP}}\\mathrm{\\ =\\ }\\frac{\\mathrm{1270741}}{\\mathrm{1270741 + 1046}}\\mathrm{\\ = 0.99918\\ (approx.)\\ }$$\n",
    "\n",
    "$$\\mathrm{recall =\\ }\\frac{\\mathrm{TP}}{\\mathrm{TP + FN}}\\mathrm{\\ =\\ }\\frac{\\mathrm{1270741}}{\\mathrm{1270741 + 130}}\\mathrm{\\ = 0.99990\\ (approx.)\\ }$$\n",
    "\n",
    "$$\\mathrm{f1-score =\\ }\\frac{\\mathrm{2 * precision * recall}}{\\mathrm{precision + recall}}\\mathrm{\\ =\\ }\\frac{\\mathrm{2 * 0.99989 * 0.99918}}{\\mathrm{0.99989 + 0.99918}}\\mathrm{\\ = 0.99954\\ (approx.)\\ }$$\n",
    "\n",
    "$$\\mathrm{accuracy =\\ }\\frac{\\mathrm{TP + TN}}{\\mathrm{TP + FP + FN + TN}}\\mathrm{\\ =\\ }\\frac{\\mathrm{1270741 + 604}}{\\mathrm{1270741 + 130+ 1046 + 604}}\\mathrm{\\ = 0.99908\\ (approx.)\\ }$$"
   ]
  },
  {
   "cell_type": "markdown",
   "id": "9363d37a",
   "metadata": {
    "papermill": {
     "duration": 0.017428,
     "end_time": "2022-11-06T16:20:16.099413",
     "exception": false,
     "start_time": "2022-11-06T16:20:16.081985",
     "status": "completed"
    },
    "tags": []
   },
   "source": [
    "#### Key factors to predict fraudulent customers -\n",
    "- Need to check that the amount is debited from the customer's account, whether the same amount is credited to the destonation account or not. If the same amount is credited to the destonation account then the transaction is genuine.\n",
    "- The balance details for destination accounts are not sufficient since the Marchent accounts have no records. So it is difficult to predict the fraud transactions having marchent's account as the destonation account."
   ]
  },
  {
   "cell_type": "markdown",
   "id": "fc2adb15",
   "metadata": {
    "papermill": {
     "duration": 0.01731,
     "end_time": "2022-11-06T16:20:16.134089",
     "exception": false,
     "start_time": "2022-11-06T16:20:16.116779",
     "status": "completed"
    },
    "tags": []
   },
   "source": [
    "#### Further Preventions\n",
    "- Detailed customer information needs to be collected at the initial stage. These details may include Name, DOB, Address, Contact, and Unique Gov. IDs (for verification).\n",
    "- The online secure transaction API can be used for payment gateway.\n",
    "- Maintain the data of the fraud customers.\n",
    "- Update the legal policy against fraud customers."
   ]
  },
  {
   "cell_type": "markdown",
   "id": "93854025",
   "metadata": {
    "papermill": {
     "duration": 0.017851,
     "end_time": "2022-11-06T16:20:16.169147",
     "exception": false,
     "start_time": "2022-11-06T16:20:16.151296",
     "status": "completed"
    },
    "tags": []
   },
   "source": [
    "#### Future Implementation \n",
    "- Detailed customer records help to identify authentic customers which will help to prevent fraud transactions.\n",
    "- The online secure transaction API help to prevent any unauthorized activities during the online payment.\n",
    "- The new customer's data needs to be matched with the previous fraud customers to prevent fraud transactions.\n",
    "\n",
    "Furthermore, a secure web application can be developed based on this predictive system for analyzing customer data to predict whether the customer is fraudulent or not. The web-based system will display the predicted outcome through its user interface. After the deployment of the web-based system in the server, the user of the predictive system need not to be concerned about the backend analysis. It will further help to implement an abstraction between the user and developer levels."
   ]
  }
 ],
 "metadata": {
  "kernelspec": {
   "display_name": "Python 3",
   "language": "python",
   "name": "python3"
  },
  "language_info": {
   "codemirror_mode": {
    "name": "ipython",
    "version": 3
   },
   "file_extension": ".py",
   "mimetype": "text/x-python",
   "name": "python",
   "nbconvert_exporter": "python",
   "pygments_lexer": "ipython3",
   "version": "3.7.12"
  },
  "papermill": {
   "default_parameters": {},
   "duration": 103.205271,
   "end_time": "2022-11-06T16:20:17.109776",
   "environment_variables": {},
   "exception": null,
   "input_path": "__notebook__.ipynb",
   "output_path": "__notebook__.ipynb",
   "parameters": {},
   "start_time": "2022-11-06T16:18:33.904505",
   "version": "2.3.4"
  }
 },
 "nbformat": 4,
 "nbformat_minor": 5
}
